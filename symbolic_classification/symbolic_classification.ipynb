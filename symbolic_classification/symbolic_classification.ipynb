{
 "cells": [
  {
   "cell_type": "markdown",
   "metadata": {},
   "source": [
    "## Introduction\n",
    "Greetings from the Kaggle bot! This is an automatically-generated kernel with starter code demonstrating how to read in the data and begin exploring. Click the blue \"Edit Notebook\" or \"Fork Notebook\" button at the top of this kernel to begin editing."
   ]
  },
  {
   "cell_type": "markdown",
   "metadata": {},
   "source": [
    "## Exploratory Analysis\n",
    "To begin this exploratory analysis, first use `matplotlib` to import libraries and define functions for plotting the data. Depending on the data, not all plots will be made. (Hey, I'm just a kerneling bot, not a Kaggle Competitions Grandmaster!)"
   ]
  },
  {
   "cell_type": "code",
   "execution_count": 2,
   "metadata": {
    "_kg_hide-input": false
   },
   "outputs": [],
   "source": [
    "from mpl_toolkits.mplot3d import Axes3D\n",
    "from sklearn.preprocessing import StandardScaler\n",
    "import matplotlib.pyplot as plt # plotting\n",
    "import numpy as np # linear algebra||\n",
    "import os # accessing directory structre\n",
    "import pandas as pd # data processing, CSV file \\I/O (e.g. pd.read_csv)\n",
    "from sklearn.model_selection import train_test_split\n",
    "from sklearn.metrics import accuracy_score\n",
    "\n",
    "import torch.nn as nn\n",
    "import tqdm"
   ]
  },
  {
   "cell_type": "markdown",
   "metadata": {},
   "source": [
    "There is 1 csv file in the current version of the dataset:\n"
   ]
  },
  {
   "cell_type": "code",
   "execution_count": 2,
   "metadata": {
    "_kg_hide-input": false
   },
   "outputs": [],
   "source": [
    "# print(os.listdir('../input'))"
   ]
  },
  {
   "cell_type": "markdown",
   "metadata": {},
   "source": [
    "The next hidden code cells define functions for plotting data. Click on the \"Code\" button in the published kernel to reveal the hidden code."
   ]
  },
  {
   "cell_type": "code",
   "execution_count": 3,
   "metadata": {
    "_kg_hide-input": true
   },
   "outputs": [],
   "source": [
    "# Distribution graphs (histogram/bar graph) of column data\n",
    "def plotPerColumnDistribution(df, nGraphShown, nGraphPerRow):\n",
    "    nunique = df.nunique()\n",
    "    df = df[[col for col in df if nunique[col] > 1 and nunique[col] < 50]] # For displaying purposes, pick columns that have between 1 and 50 unique values\n",
    "    nRow, nCol = df.shape\n",
    "    columnNames = list(df)\n",
    "    nGraphRow = (nCol + nGraphPerRow - 1) / nGraphPerRow\n",
    "    plt.figure(num = None, figsize = (6 * nGraphPerRow, 8 * nGraphRow), dpi = 80, facecolor = 'w', edgecolor = 'k')\n",
    "    for i in range(min(nCol, nGraphShown)):\n",
    "        plt.subplot(nGraphRow, nGraphPerRow, i + 1)\n",
    "        columnDf = df.iloc[:, i]\n",
    "        if (not np.issubdtype(type(columnDf.iloc[0]), np.number)):\n",
    "            valueCounts = columnDf.value_counts()\n",
    "            valueCounts.plot.bar()\n",
    "        else:\n",
    "            columnDf.hist()\n",
    "        plt.ylabel('counts')\n",
    "        plt.xticks(rotation = 90)\n",
    "        plt.title(f'{columnNames[i]} (column {i})')\n",
    "    plt.tight_layout(pad = 1.0, w_pad = 1.0, h_pad = 1.0)\n",
    "    plt.show()\n"
   ]
  },
  {
   "cell_type": "code",
   "execution_count": 70,
   "metadata": {
    "_kg_hide-input": true
   },
   "outputs": [],
   "source": [
    "# Correlation matrix\n",
    "def plotCorrelationMatrix(df, graphWidth):\n",
    "    filename = df.dataframeName\n",
    "    df = df.dropna('columns') # drop columns with NaN\n",
    "    df = df[[col for col in df if df[col].nunique() > 1]] # keep columns where there are more than 1 unique values\n",
    "    if df.shape[1] < 2:\n",
    "        print(f'No correlation plots shown: The number of non-NaN or constant columns ({df.shape[1]}) is less than 2')\n",
    "        return\n",
    "    corr = df.corr()\n",
    "    plt.figure(num=None, figsize=(graphWidth, graphWidth), dpi=80, facecolor='w', edgecolor='k')\n",
    "    corrMat = plt.matshow(corr, fignum = 1)\n",
    "    plt.xticks(range(len(corr.columns)), corr.columns, rotation=90)\n",
    "    plt.yticks(range(len(corr.columns)), corr.columns)\n",
    "    plt.gca().xaxis.tick_bottom()\n",
    "    plt.colorbar(corrMat)\n",
    "    plt.title(f'Correlation Matrix for {filename}', fontsize=15)\n",
    "    plt.show()\n"
   ]
  },
  {
   "cell_type": "code",
   "execution_count": 71,
   "metadata": {
    "_kg_hide-input": true
   },
   "outputs": [],
   "source": [
    "# Scatter and density plots\n",
    "def plotScatterMatrix(df, plotSize, textSize):\n",
    "    df = df.select_dtypes(include =[np.number]) # keep only numerical columns\n",
    "    # Remove rows and columns that would lead to df being singular\n",
    "    df = df.dropna('columns')\n",
    "    df = df[[col for col in df if df[col].nunique() > 1]] # keep columns where there are more than 1 unique values\n",
    "    columnNames = list(df)\n",
    "    if len(columnNames) > 10: # reduce the number of columns for matrix inversion of kernel density plots\n",
    "        columnNames = columnNames[:10]\n",
    "    df = df[columnNames]\n",
    "    ax = pd.plotting.scatter_matrix(df, alpha=0.75, figsize=[plotSize, plotSize], diagonal='kde')\n",
    "    corrs = df.corr().values\n",
    "    for i, j in zip(*plt.np.triu_indices_from(ax, k = 1)):\n",
    "        ax[i, j].annotate('Corr. coef = %.3f' % corrs[i, j], (0.8, 0.2), xycoords='axes fraction', ha='center', va='center', size=textSize)\n",
    "    plt.suptitle('Scatter and Density Plot')\n",
    "    plt.show()\n"
   ]
  },
  {
   "cell_type": "markdown",
   "metadata": {},
   "source": [
    "Now you're ready to read in the data and use the plotting functions to visualize the data."
   ]
  },
  {
   "cell_type": "markdown",
   "metadata": {},
   "source": [
    "### Let's check 1st file: ../input/PS_20174392719_1491204439457_log.csv"
   ]
  },
  {
   "cell_type": "code",
   "execution_count": 72,
   "metadata": {},
   "outputs": [],
   "source": [
    "from sklearn.preprocessing import StandardScaler\n",
    "import pandas as pd\n",
    "\n",
    "\n",
    "def exclude_current_meanDest(row):\n",
    "  \"\"\"\n",
    "  Function that calculates mean of dest account excluding the current transaction\n",
    "  \"\"\"\n",
    "  num_transactions = row['num_transDest']\n",
    "  mean = row['meanDest']\n",
    "\n",
    "  # if there is only 1 transaction, return current mean\n",
    "  if num_transactions == 1:\n",
    "    return mean\n",
    "  \n",
    "  amount = row['amount']\n",
    "  return ((mean*num_transactions) - amount) / (num_transactions - 1)\n",
    "\n",
    "\n",
    "def exclude_current_meanOrig(row):\n",
    "  \"\"\"\n",
    "  Function that calculates mean of orig account excluding the current transaction\n",
    "  \"\"\"\n",
    "  num_transactions = row['num_transOrig']\n",
    "  mean = row['meanOrig']\n",
    "\n",
    "  # if there is only 1 transaction, return current mean\n",
    "  if num_transactions == 1:\n",
    "    return mean\n",
    "\n",
    "  amount = row['amount']\n",
    "  return ((mean*num_transactions) - amount) / (num_transactions - 1)\n",
    "\n",
    "\n",
    "def exclude_current_maxDest(row, df):\n",
    "  \"\"\"\n",
    "  Function that calculates max of dest account excluding the current transaction\n",
    "  \"\"\"\n",
    "  current_max = row['maxDest']\n",
    "  amount = row['amount']\n",
    "  transactions = row['num_transDest']\n",
    "  \n",
    "  if current_max == amount:\n",
    "    if transactions > 1:\n",
    "      # Find the maximum amount excluding the current transaction\n",
    "      max_exclude_current = df.loc[(df['nameDest'] == row['nameDest']) & (df['amount'] != amount), 'amount'].max()\n",
    "      if pd.notna(max_exclude_current):\n",
    "        return max_exclude_current\n",
    "  return current_max\n",
    "\n",
    "def exclude_current_maxOrig(row, df):\n",
    "  \"\"\"\n",
    "  Function that calculates max of orig account excluding the current transaction\n",
    "  \"\"\"\n",
    "  current_max = row['maxOrig']\n",
    "  amount = row['amount']\n",
    "  transactions = row['num_transOrig']\n",
    "  \n",
    "  if current_max == amount:\n",
    "    if transactions > 1:\n",
    "      # Find the maximum amount excluding the current transaction\n",
    "      max_exclude_current = df.loc[(df['nameOrig'] == row['nameOrig']) & (df['amount'] != amount), 'amount'].max()\n",
    "      if pd.notna(max_exclude_current):\n",
    "        return max_exclude_current\n",
    "  return current_max"
   ]
  },
  {
   "cell_type": "code",
   "execution_count": 73,
   "metadata": {
    "_kg_hide-input": false
   },
   "outputs": [
    {
     "name": "stdout",
     "output_type": "stream",
     "text": [
      "start fitting scaler\n",
      "done fitting scaler\n"
     ]
    }
   ],
   "source": [
    "nRowsRead = 260_000# specify 'None' if want to read whole file\n",
    "# PS_20174392719_1491204439457_log.csv may have more rows in reality, but we are only loading/previewing the first 1000 rows\n",
    "df = pd.read_csv('paysim.csv', delimiter=',', nrows = nRowsRead)\n",
    "df = df.rename(columns={'oldbalanceOrg': 'oldbalanceOrig'})\n",
    "\n",
    "# if oldBalance = newBalance = 0, account is likely from external institution\n",
    "df['externalDest'] = ((df['oldbalanceDest'] == 0) & (df['newbalanceDest'] == 0)).astype(int)\n",
    "df['externalOrig'] = ((df['oldbalanceOrig'] == 0) & (df['newbalanceOrig'] == 0)).astype(int)\n",
    "\n",
    "# Update the values in the 'newbalanceDest' column to 'oldbalanceDest +- amount'\n",
    "df['newbalanceDest'] = df['oldbalanceDest'] + df['amount']\n",
    "df['oldbalanceOrig'] = df['newbalanceOrig'] + df['amount']\n",
    "\n",
    "\n",
    "\"\"\" Feature Engineering \"\"\"\n",
    "\n",
    "# gaussian noise std\n",
    "num_transactions = df.shape[0]\n",
    "std = 0.01*(df['amount'].quantile(0.75) - df['amount'].min())\n",
    "\n",
    "# calculate the overall mean of both the destination and origin account (excluding current transaction) and add noise\n",
    "noise = np.random.normal(0, std, num_transactions)\n",
    "df['num_transDest'] = df.groupby('nameDest')['nameDest'].transform('count')\n",
    "df['meanDest'] = df.groupby('nameDest')['amount'].transform('mean')\n",
    "df['meanDest'] = df.apply(exclude_current_meanDest, axis=1)\n",
    "df['meanDest'] += noise\n",
    "\n",
    "noise = np.random.normal(0, std, num_transactions)\n",
    "df['num_transOrig'] = df.groupby('nameOrig')['nameOrig'].transform('count')\n",
    "df['meanOrig'] = df.groupby('nameOrig')['amount'].transform('mean')\n",
    "df['meanOrig'] = df.apply(exclude_current_meanOrig, axis=1)\n",
    "df['meanOrig'] += noise\n",
    "\n",
    "# swap places for consistency\n",
    "num_transDest = df.pop('num_transDest')\n",
    "df['num_transDest'] = num_transDest\n",
    "num_transOrig = df.pop('num_transOrig')\n",
    "df['num_transOrig'] = num_transOrig\n",
    "\n",
    "# calculate the overall max of both the destination and origin account (excluding current transaction) and add noise\n",
    "noise = np.random.normal(0, std, num_transactions)\n",
    "df['maxDest'] = df.groupby('nameDest')['amount'].transform('max')\n",
    "df['maxDest'] = df.apply(lambda x: exclude_current_maxDest(x, df), axis=1)\n",
    "df['maxDest'] += noise\n",
    "\n",
    "noise = np.random.normal(0, std, num_transactions)\n",
    "df['maxOrig'] = df.groupby('nameOrig')['amount'].transform('max')\n",
    "df['maxOrig'] = df.apply(lambda x: exclude_current_maxOrig(x, df), axis=1)\n",
    "df['maxOrig'] += noise\n",
    "\n",
    "# sort the values according to timestep\n",
    "df = df.sort_values('step')\n",
    "\n",
    "# calculate the rolling average of last 3 and 7 transactions for each recipient\n",
    "df['meanDest3'] = df.groupby('nameDest')['amount'].rolling(window=3, min_periods=1).mean().reset_index(0, drop=True)\n",
    "df['meanDest7'] = df.groupby('nameDest')['amount'].rolling(window=7, min_periods=1).mean().reset_index(0, drop=True)\n",
    "\n",
    "# calculate the rolling maximum of last 3 and 7 transactions for each recipient\n",
    "df['maxDest3'] = df.groupby('nameDest')['amount'].rolling(window=3, min_periods=1).max().reset_index(0, drop=True)\n",
    "df['maxDest7'] = df.groupby('nameDest')['amount'].rolling(window=7, min_periods=1).max().reset_index(0, drop=True)\n",
    "\n",
    "# rearrange column order\n",
    "df = df.reindex(columns=[col for col in df.columns if col not in ['num_transDest', 'num_transOrig', 'externalDest', 'externalOrig', 'isFraud']] + ['num_transDest', 'num_transOrig', 'externalDest', 'externalOrig', 'isFraud'])\n",
    "\n",
    "\n",
    "\"\"\" Prepare the training and test sets \"\"\"\n",
    "\n",
    "# delete name columns that will not be used\n",
    "df.drop(['nameOrig', 'nameDest', 'isFlaggedFraud'], axis=1, inplace=True)\n",
    "\n",
    "# split the dataset into training and validation, and test sets\n",
    "train_df, test_df = train_test_split(df, test_size=0.25, random_state=42, shuffle=True)\n",
    "val_set_size = 0.10/0.25\n",
    "test_df, val_df = train_test_split(test_df, test_size=val_set_size, random_state=42, shuffle=True)\n",
    "\n",
    "# reset index\n",
    "train_df = train_df.reset_index(drop=True)\n",
    "test_df = test_df.reset_index(drop=True)\n",
    "val_df = val_df.reset_index(drop=True)\n",
    "\n",
    "# remove non numerical columns of training set and save for later\n",
    "type_col = train_df.pop('type')\n",
    "num_transDest_col = train_df.pop('num_transDest')\n",
    "num_transOrig_col = train_df.pop('num_transOrig')\n",
    "externalDest_col = train_df.pop('externalDest')\n",
    "externalOrig_col = train_df.pop('externalOrig')\n",
    "isFraud_col = train_df.pop('isFraud')\n",
    "\n",
    "print('start fitting scaler')\n",
    "# fit the scaler on the train data and transform\n",
    "scaler = StandardScaler()\n",
    "scaler = scaler.fit(train_df)\n",
    "print('done fitting scaler')\n",
    "train_df = pd.DataFrame(scaler.transform(train_df), columns=train_df.columns)\n",
    "\n",
    "# add the non numerical columns back\n",
    "train_df = pd.concat([train_df, type_col, num_transDest_col, num_transOrig_col, externalDest_col, externalOrig_col, isFraud_col], axis=1)\n",
    "\n",
    "# do the same on the test set, use the scaler fit on the train set\n",
    "type_col = test_df.pop('type')\n",
    "num_transDest_col = test_df.pop('num_transDest')\n",
    "num_transOrig_col = test_df.pop('num_transOrig')\n",
    "externalDest_col = test_df.pop('externalDest')\n",
    "externalOrig_col = test_df.pop('externalOrig')\n",
    "isFraud_col = test_df.pop('isFraud')\n",
    "test_df = pd.DataFrame(scaler.transform(test_df), columns=test_df.columns)\n",
    "test_df = pd.concat([test_df, type_col, num_transDest_col, num_transOrig_col, externalDest_col, externalOrig_col, isFraud_col], axis=1)\n",
    "\n",
    "# do the same on the val set, use the scaler fit on the train set\n",
    "type_col = val_df.pop('type')\n",
    "num_transDest_col = val_df.pop('num_transDest')\n",
    "num_transOrig_col = val_df.pop('num_transOrig')\n",
    "externalDest_col = val_df.pop('externalDest')\n",
    "externalOrig_col = val_df.pop('externalOrig')\n",
    "isFraud_col = val_df.pop('isFraud')\n",
    "val_df = pd.DataFrame(scaler.transform(val_df), columns=val_df.columns)\n",
    "val_df = pd.concat([val_df, type_col, num_transDest_col, num_transOrig_col, externalDest_col, externalOrig_col, isFraud_col], axis=1)\n",
    "\n",
    "# one-hot encode the 'type' column\n",
    "train_df = pd.get_dummies(train_df, columns=['type'],  dtype=int)\n",
    "test_df = pd.get_dummies(test_df, columns=['type'],  dtype=int)\n",
    "val_df = pd.get_dummies(val_df, columns=['type'],  dtype=int)\n",
    "\n",
    "# move the 'isFraud' column to the end of the dataframe\n",
    "is_fraud_col = train_df.pop('isFraud')\n",
    "train_df['isFraud'] = is_fraud_col\n",
    "\n",
    "is_fraud_col = test_df.pop('isFraud')\n",
    "test_df['isFraud'] = is_fraud_col\n",
    "\n",
    "is_fraud_col = val_df.pop('isFraud')\n",
    "val_df['isFraud'] = is_fraud_col\n",
    "\n",
    "\n",
    "# save the train, validation and test set\n",
    "# train_df.to_csv(\"./train_df_nb.csv\",)\n",
    "# test_df.to_csv(\"./test_df_nb.csv\",)\n",
    "# val_df.to_csv(\"./val_df_nb.csv\",)\n"
   ]
  },
  {
   "cell_type": "markdown",
   "metadata": {},
   "source": [
    "Let's take a quick look at what the data looks like:"
   ]
  },
  {
   "cell_type": "code",
   "execution_count": 13,
   "metadata": {
    "_kg_hide-input": false
   },
   "outputs": [],
   "source": [
    "train_df = pd.read_csv('train_df.csv').iloc[:1_500_000]\n",
    "test_df = pd.read_csv('test_df.csv').iloc[:300_000]\n",
    "val_df = pd.read_csv('val_df.csv').iloc[:300_000]\n",
    "\n",
    "\n",
    "\n",
    "\n",
    "\n",
    "\n"
   ]
  },
  {
   "cell_type": "code",
   "execution_count": 14,
   "metadata": {},
   "outputs": [
    {
     "data": {
      "text/plain": [
       "isFraud\n",
       "0    499408\n",
       "1       592\n",
       "Name: count, dtype: int64"
      ]
     },
     "execution_count": 14,
     "metadata": {},
     "output_type": "execute_result"
    }
   ],
   "source": [
    "train_df['isFraud'].value_counts()"
   ]
  },
  {
   "cell_type": "code",
   "execution_count": 15,
   "metadata": {},
   "outputs": [],
   "source": [
    "import sys\n",
    "import os\n",
    "\n",
    "\n",
    "\n",
    "# Add the path to your KAN module\n",
    "sys.path.append(os.path.abspath('/Users/barager/Desktop/symbolic classifciation/kan'))\n",
    "\n",
    "from kan.KAN import *\n",
    "\n",
    "import torch\n"
   ]
  },
  {
   "cell_type": "markdown",
   "metadata": {},
   "source": [
    "Distribution graphs (histogram/bar graph) of sampled columns:"
   ]
  },
  {
   "cell_type": "code",
   "execution_count": 16,
   "metadata": {},
   "outputs": [
    {
     "name": "stdout",
     "output_type": "stream",
     "text": [
      "isFraud\n",
      "0    499408\n",
      "1       592\n",
      "Name: count, dtype: int64\n",
      "isFraud\n",
      "0    199757\n",
      "1       243\n",
      "Name: count, dtype: int64\n",
      "isFraud\n",
      "0    199724\n",
      "1       276\n",
      "Name: count, dtype: int64\n"
     ]
    }
   ],
   "source": [
    "# train_df = train_df.iloc[:10000]\n",
    "# val_df = val_df.iloc[:5000]\n",
    "# test_df = test_df.iloc[:5000]\n",
    "\n",
    "print(train_df['isFraud'].value_counts())\n",
    "print(val_df['isFraud'].value_counts())\n",
    "print(test_df['isFraud'].value_counts())\n",
    "\n",
    "train_df[['type_CASH_IN', 'type_CASH_OUT', 'type_DEBIT', 'type_PAYMENT', 'type_TRANSFER']] = train_df[['type_CASH_IN', 'type_CASH_OUT', 'type_DEBIT', 'type_PAYMENT', 'type_TRANSFER']].astype(int)\n",
    "val_df[['type_CASH_IN', 'type_CASH_OUT', 'type_DEBIT', 'type_PAYMENT', 'type_TRANSFER']] = val_df[['type_CASH_IN', 'type_CASH_OUT', 'type_DEBIT', 'type_PAYMENT', 'type_TRANSFER']].astype(int)\n",
    "test_df[['type_CASH_IN', 'type_CASH_OUT', 'type_DEBIT', 'type_PAYMENT', 'type_TRANSFER']] = test_df[['type_CASH_IN', 'type_CASH_OUT', 'type_DEBIT', 'type_PAYMENT', 'type_TRANSFER']].astype(int)\n",
    "\n",
    "\n",
    "\n",
    "X, y = train_df[[ 'amount',  'externalDest', 'externalOrig', 'type_CASH_IN', 'type_CASH_OUT', 'type_DEBIT', 'type_PAYMENT', 'type_TRANSFER', ]], train_df['isFraud']\n",
    "\n",
    "\n",
    "X_val, y_val = val_df[[ 'amount',  'externalDest', 'externalOrig', 'type_CASH_IN', 'type_CASH_OUT', 'type_DEBIT', 'type_PAYMENT', 'type_TRANSFER', ]], val_df['isFraud']\n",
    "\n",
    "X_test, y_test = test_df[['amount',  'externalDest', 'externalOrig', 'type_CASH_IN', 'type_CASH_OUT', 'type_DEBIT', 'type_PAYMENT', 'type_TRANSFER', ]], test_df['isFraud']\n",
    "\n",
    "# train_df[['step', 'amount', 'oldbalanceOrig', 'newbalanceOrig',\n",
    "#          'oldbalanceDest', 'newbalanceDest', 'meanDest', 'meanOrig', 'maxDest',\n",
    "#          'maxOrig', 'meanDest3', 'meanDest7', 'maxDest3', 'maxDest7',\n",
    "        #  'num_transDest', 'num_transOrig', 'externalDest', 'externalOrig','type_CASH_IN', 'type_CASH_OUT', 'type_DEBIT', 'type_PAYMENT', 'type_TRANSFER',]], train_df['isFraud']\n",
    "\n",
    "# val_df[['step', 'amount', 'oldbalanceOrig', 'newbalanceOrig',\n",
    "#          'oldbalanceDest', 'newbalanceDest', 'meanDest', 'meanOrig', 'maxDest',\n",
    "#          'maxOrig', 'meanDest3', 'meanDest7', 'maxDest3', 'maxDest7',\n",
    "        #  'num_transDest', 'num_transOrig', 'externalDest', 'externalOrig','type_CASH_IN', 'type_CASH_OUT', 'type_DEBIT', 'type_PAYMENT', 'type_TRANSFER',]], val_df['isFraud']\n",
    "\n",
    "\n",
    "# test_df[['step', 'amount', 'oldbalanceOrig', 'newbalanceOrig',\n",
    "#          'oldbalanceDest', 'newbalanceDest', 'meanDest', 'meanOrig', 'maxDest',\n",
    "#          'maxOrig', 'meanDest3', 'meanDest7', 'maxDest3', 'maxDest7',\n",
    "        #  'num_transDest', 'num_transOrig', 'externalDest', 'externalOrig','type_CASH_IN', 'type_CASH_OUT', 'type_DEBIT', 'type_PAYMENT', 'type_TRANSFER',]], test_df['isFraud']\n",
    "\n",
    "\n",
    "def count_parameters(model):\n",
    "                return sum(p.numel() for p in model.parameters() if p.requires_grad)\n",
    "\n",
    "            \n",
    "# Prepare the dataset dictionary\n",
    "dataset = {\n",
    "    'train_input': torch.tensor(X.values, dtype=torch.float64),\n",
    "    'train_label': torch.tensor(y.values, dtype=torch.float64),\n",
    "    'test_input': torch.tensor(X_val.values, dtype=torch.float64),\n",
    "    'test_label': torch.tensor(y_val.values, dtype=torch.float64)\n",
    "}\n",
    "\n"
   ]
  },
  {
   "cell_type": "code",
   "execution_count": 17,
   "metadata": {},
   "outputs": [
    {
     "data": {
      "text/plain": [
       "Index(['amount', 'externalDest', 'externalOrig', 'type_CASH_IN',\n",
       "       'type_CASH_OUT', 'type_DEBIT', 'type_PAYMENT', 'type_TRANSFER'],\n",
       "      dtype='object')"
      ]
     },
     "execution_count": 17,
     "metadata": {},
     "output_type": "execute_result"
    }
   ],
   "source": [
    "X.columns"
   ]
  },
  {
   "cell_type": "code",
   "execution_count": 18,
   "metadata": {},
   "outputs": [
    {
     "name": "stdout",
     "output_type": "stream",
     "text": [
      "KAN parameters: 173\n"
     ]
    },
    {
     "name": "stderr",
     "output_type": "stream",
     "text": [
      "train loss: 5.54e-02 | test loss: 5.57e-02 | train f1: 0.774 | test f1: 0.788 | lr: 1.00e-01 : 100%|████████| 20/20 [16:37<00:00, 49.90s/it]\n"
     ]
    }
   ],
   "source": [
    "model = KAN(width=[len(X.columns),1,1,1,1,1,1,2], grid=2, k=3)\n",
    "print(f\"KAN parameters: {count_parameters(model)}\")\n",
    "dataset['train_label'] = dataset['train_label'].long()\n",
    "dataset['test_label'] = dataset['test_label'].long()\n",
    "\n",
    "\n",
    "def train_f1_score():\n",
    "    predictions = torch.argmax(model(dataset['train_input']), dim=1)\n",
    "    true_labels = dataset['train_label']\n",
    "    \n",
    "    true_positives = ((predictions == 1) & (true_labels == 1)).sum().float()\n",
    "    predicted_positives = (predictions == 1).sum().float()\n",
    "    actual_positives = (true_labels == 1).sum().float()\n",
    "    \n",
    "    precision = true_positives / (predicted_positives + 1e-7)\n",
    "    recall = true_positives / (actual_positives + 1e-7)\n",
    "    f1 = 2 * (precision * recall) / (precision + recall + 1e-7)\n",
    "    \n",
    "    # print(f'Train F1 Score: {f1:.3f}')\n",
    "    return f1\n",
    "\n",
    "def test_f1_score():\n",
    "    predictions = torch.argmax(model(dataset['test_input']), dim=1)\n",
    "    true_labels = dataset['test_label']\n",
    "    \n",
    "    true_positives = ((predictions == 1) & (true_labels == 1)).sum().float()\n",
    "    predicted_positives = (predictions == 1).sum().float()\n",
    "    actual_positives = (true_labels == 1).sum().float()\n",
    "    \n",
    "    precision = true_positives / (predicted_positives + 1e-7)\n",
    "    recall = true_positives / (actual_positives + 1e-7)\n",
    "    f1 = 2 * (precision * recall) / (precision + recall + 1e-7)\n",
    "    \n",
    "    # print(f'Test F1 Score: {f1:.3f}')\n",
    "    return f1\n",
    "\n",
    "targets = dataset['train_label']\n",
    "class_counts = torch.bincount(targets)\n",
    "total_samples = len(targets)\n",
    "class_weights = (total_samples / (2 * class_counts)).double()\n",
    "loss_fn = nn.CrossEntropyLoss()\n",
    "# batch_size = 10_000\n",
    "\n",
    "results = model.train(dataset, opt=\"LBFGS\", steps=20, metrics=(train_f1_score, test_f1_score), lr=0.1, loss_fn=loss_fn,)"
   ]
  },
  {
   "cell_type": "code",
   "execution_count": 22,
   "metadata": {},
   "outputs": [
    {
     "data": {
      "image/png": "[encoded data removed]",
      "text/plain": [
       "<Figure size 640x480 with 1 Axes>"
      ]
     },
     "metadata": {},
     "output_type": "display_data"
    }
   ],
   "source": [
    "plt.plot(results['train_loss'], label='Train Loss')\n",
    "plt.plot(results['test_loss'], label='Test Loss')\n",
    "plt.legend()\n",
    "plt.show()"
   ]
  },
  {
   "cell_type": "code",
   "execution_count": 23,
   "metadata": {},
   "outputs": [
    {
     "data": {
      "image/png": "[encoded data removed]",
      "text/plain": [
       "<Figure size 640x480 with 1 Axes>"
      ]
     },
     "metadata": {},
     "output_type": "display_data"
    }
   ],
   "source": [
    "# fig = plt.figure(xlabel='Epoch', ylabel='F1 Score')\n",
    "plt.plot(results['train_f1_score'], label='Train F1 Score')\n",
    "plt.plot(results['test_f1_score'], label='Test F1 Score')\n",
    "plt.legend()\n",
    "plt.show()"
   ]
  },
  {
   "cell_type": "code",
   "execution_count": 24,
   "metadata": {},
   "outputs": [
    {
     "name": "stdout",
     "output_type": "stream",
     "text": [
      "              precision    recall  f1-score   support\n",
      "\n",
      "         0.0       1.00      1.00      1.00    199724\n",
      "         1.0       0.98      0.67      0.80       276\n",
      "\n",
      "    accuracy                           1.00    200000\n",
      "   macro avg       0.99      0.84      0.90    200000\n",
      "weighted avg       1.00      1.00      1.00    200000\n",
      "\n",
      "0.999525\n"
     ]
    }
   ],
   "source": [
    "from sklearn.metrics import classification_report, accuracy_score\n",
    "test_dataset = {\n",
    "    'test_input': torch.tensor(X_test.values, dtype=torch.float64),\n",
    "    'test_label': torch.tensor(y_test.values, dtype=torch.float64)\n",
    "}\n",
    "\n",
    "\n",
    "y_pred = torch.argmax(model(test_dataset['test_input']), dim=1).numpy()\n",
    "y_true = test_dataset['test_label'].numpy()\n",
    "print(classification_report(y_true, y_pred))\n",
    "print(accuracy_score(y_true, y_pred))"
   ]
  },
  {
   "cell_type": "code",
   "execution_count": 44,
   "metadata": {},
   "outputs": [
    {
     "data": {
      "text/latex": [
       "$\\displaystyle 59.96 \\sqrt{1 - 0.94 \\sqrt{0.1 \\sqrt{1 - x_{2}} - 0.55 \\sqrt{1 - 1.0 x_{3}} - 0.2 \\sqrt{1 - 1.0 x_{4}} + 0.6 \\sqrt{1 - 1.0 x_{5}} - 0.01 \\sqrt{1 - x_{6}} - 0.34 \\sqrt{1 - 1.0 x_{7}} + 0.08 \\sqrt{1 - x_{8}} + 1}} - 36.05$"
      ],
      "text/plain": [
       "59.96*sqrt(1 - 0.94*sqrt(0.1*sqrt(1 - x_2) - 0.55*sqrt(1 - 1.0*x_3) - 0.2*sqrt(1 - 1.0*x_4) + 0.6*sqrt(1 - 1.0*x_5) - 0.01*sqrt(1 - x_6) - 0.34*sqrt(1 - 1.0*x_7) + 0.08*sqrt(1 - x_8) + 1)) - 36.05"
      ]
     },
     "execution_count": 44,
     "metadata": {},
     "output_type": "execute_result"
    }
   ],
   "source": []
  },
  {
   "cell_type": "code",
   "execution_count": 46,
   "metadata": {},
   "outputs": [
    {
     "name": "stdout",
     "output_type": "stream",
     "text": [
      "Model pruned\n",
      "fixing (0,0,0) with x, r2=0.9999999999645587\n",
      "fixing (0,1,0) with x^2, r2=0.9999999999999263\n",
      "fixing (0,2,0) with x^2, r2=0.9999999999999987\n",
      "fixing (0,3,0) with x^2, r2=0.9999999999999678\n",
      "fixing (0,4,0) with x^2, r2=0.9999999999999989\n",
      "fixing (0,5,0) with x^2, r2=0.9999999948521093\n",
      "fixing (0,6,0) with x^2, r2=0.9999999999999948\n",
      "fixing (0,7,0) with x^2, r2=0.9999999999989779\n"
     ]
    },
    {
     "ename": "ValueError",
     "evalue": "Input y contains NaN.",
     "output_type": "error",
     "traceback": [
      "\u001b[0;31m---------------------------------------------------------------------------\u001b[0m",
      "\u001b[0;31mValueError\u001b[0m                                Traceback (most recent call last)",
      "Cell \u001b[0;32mIn[46], line 4\u001b[0m\n\u001b[1;32m      2\u001b[0m \u001b[38;5;28mprint\u001b[39m(\u001b[38;5;124m\"\u001b[39m\u001b[38;5;124mModel pruned\u001b[39m\u001b[38;5;124m\"\u001b[39m)\n\u001b[1;32m      3\u001b[0m lib \u001b[38;5;241m=\u001b[39m [\u001b[38;5;124m'\u001b[39m\u001b[38;5;124mx\u001b[39m\u001b[38;5;124m'\u001b[39m, \u001b[38;5;124m'\u001b[39m\u001b[38;5;124mx^2\u001b[39m\u001b[38;5;124m'\u001b[39m,\u001b[38;5;124m'\u001b[39m\u001b[38;5;124msqrt\u001b[39m\u001b[38;5;124m'\u001b[39m]\n\u001b[0;32m----> 4\u001b[0m \u001b[43mmodel\u001b[49m\u001b[38;5;241;43m.\u001b[39;49m\u001b[43mauto_symbolic\u001b[49m\u001b[43m(\u001b[49m\u001b[43mlib\u001b[49m\u001b[38;5;241;43m=\u001b[39;49m\u001b[43mlib\u001b[49m\u001b[43m)\u001b[49m\n\u001b[1;32m      5\u001b[0m formula1, formula2 \u001b[38;5;241m=\u001b[39m model\u001b[38;5;241m.\u001b[39msymbolic_formula()[\u001b[38;5;241m0\u001b[39m]\n",
      "File \u001b[0;32m~/Desktop/symbolic classifciation/kan/KAN.py:1168\u001b[0m, in \u001b[0;36mKAN.auto_symbolic\u001b[0;34m(self, a_range, b_range, lib, verbose)\u001b[0m\n\u001b[1;32m   1166\u001b[0m     \u001b[38;5;28mprint\u001b[39m(\u001b[38;5;124mf\u001b[39m\u001b[38;5;124m'\u001b[39m\u001b[38;5;124mskipping (\u001b[39m\u001b[38;5;132;01m{\u001b[39;00ml\u001b[38;5;132;01m}\u001b[39;00m\u001b[38;5;124m,\u001b[39m\u001b[38;5;132;01m{\u001b[39;00mi\u001b[38;5;132;01m}\u001b[39;00m\u001b[38;5;124m,\u001b[39m\u001b[38;5;132;01m{\u001b[39;00mj\u001b[38;5;132;01m}\u001b[39;00m\u001b[38;5;124m) since already symbolic\u001b[39m\u001b[38;5;124m'\u001b[39m)\n\u001b[1;32m   1167\u001b[0m \u001b[38;5;28;01melse\u001b[39;00m:\n\u001b[0;32m-> 1168\u001b[0m     name, fun, r2 \u001b[38;5;241m=\u001b[39m \u001b[38;5;28;43mself\u001b[39;49m\u001b[38;5;241;43m.\u001b[39;49m\u001b[43msuggest_symbolic\u001b[49m\u001b[43m(\u001b[49m\u001b[43ml\u001b[49m\u001b[43m,\u001b[49m\u001b[43m \u001b[49m\u001b[43mi\u001b[49m\u001b[43m,\u001b[49m\u001b[43m \u001b[49m\u001b[43mj\u001b[49m\u001b[43m,\u001b[49m\u001b[43m \u001b[49m\u001b[43ma_range\u001b[49m\u001b[38;5;241;43m=\u001b[39;49m\u001b[43ma_range\u001b[49m\u001b[43m,\u001b[49m\u001b[43m \u001b[49m\u001b[43mb_range\u001b[49m\u001b[38;5;241;43m=\u001b[39;49m\u001b[43mb_range\u001b[49m\u001b[43m,\u001b[49m\u001b[43m \u001b[49m\u001b[43mlib\u001b[49m\u001b[38;5;241;43m=\u001b[39;49m\u001b[43mlib\u001b[49m\u001b[43m,\u001b[49m\u001b[43m \u001b[49m\u001b[43mverbose\u001b[49m\u001b[38;5;241;43m=\u001b[39;49m\u001b[38;5;28;43;01mFalse\u001b[39;49;00m\u001b[43m)\u001b[49m\n\u001b[1;32m   1169\u001b[0m     \u001b[38;5;28mself\u001b[39m\u001b[38;5;241m.\u001b[39mfix_symbolic(l, i, j, name, verbose\u001b[38;5;241m=\u001b[39mverbose \u001b[38;5;241m>\u001b[39m \u001b[38;5;241m1\u001b[39m)\n\u001b[1;32m   1170\u001b[0m     \u001b[38;5;28;01mif\u001b[39;00m verbose \u001b[38;5;241m>\u001b[39m\u001b[38;5;241m=\u001b[39m \u001b[38;5;241m1\u001b[39m:\n",
      "File \u001b[0;32m~/Desktop/symbolic classifciation/kan/KAN.py:1099\u001b[0m, in \u001b[0;36mKAN.suggest_symbolic\u001b[0;34m(self, l, i, j, a_range, b_range, lib, topk, verbose)\u001b[0m\n\u001b[1;32m   1096\u001b[0m         symbolic_lib[item] \u001b[38;5;241m=\u001b[39m SYMBOLIC_LIB[item]\n\u001b[1;32m   1098\u001b[0m \u001b[38;5;28;01mfor\u001b[39;00m (name, fun) \u001b[38;5;129;01min\u001b[39;00m symbolic_lib\u001b[38;5;241m.\u001b[39mitems():\n\u001b[0;32m-> 1099\u001b[0m     r2 \u001b[38;5;241m=\u001b[39m \u001b[38;5;28;43mself\u001b[39;49m\u001b[38;5;241;43m.\u001b[39;49m\u001b[43mfix_symbolic\u001b[49m\u001b[43m(\u001b[49m\u001b[43ml\u001b[49m\u001b[43m,\u001b[49m\u001b[43m \u001b[49m\u001b[43mi\u001b[49m\u001b[43m,\u001b[49m\u001b[43m \u001b[49m\u001b[43mj\u001b[49m\u001b[43m,\u001b[49m\u001b[43m \u001b[49m\u001b[43mname\u001b[49m\u001b[43m,\u001b[49m\u001b[43m \u001b[49m\u001b[43ma_range\u001b[49m\u001b[38;5;241;43m=\u001b[39;49m\u001b[43ma_range\u001b[49m\u001b[43m,\u001b[49m\u001b[43m \u001b[49m\u001b[43mb_range\u001b[49m\u001b[38;5;241;43m=\u001b[39;49m\u001b[43mb_range\u001b[49m\u001b[43m,\u001b[49m\u001b[43m \u001b[49m\u001b[43mverbose\u001b[49m\u001b[38;5;241;43m=\u001b[39;49m\u001b[38;5;28;43;01mFalse\u001b[39;49;00m\u001b[43m)\u001b[49m\n\u001b[1;32m   1100\u001b[0m     r2s\u001b[38;5;241m.\u001b[39mappend(r2\u001b[38;5;241m.\u001b[39mitem())\n\u001b[1;32m   1102\u001b[0m \u001b[38;5;28mself\u001b[39m\u001b[38;5;241m.\u001b[39munfix_symbolic(l, i, j)\n",
      "File \u001b[0;32m~/Desktop/symbolic classifciation/kan/KAN.py:441\u001b[0m, in \u001b[0;36mKAN.fix_symbolic\u001b[0;34m(self, l, i, j, fun_name, fit_params_bool, a_range, b_range, verbose, random)\u001b[0m\n\u001b[1;32m    439\u001b[0m x \u001b[38;5;241m=\u001b[39m \u001b[38;5;28mself\u001b[39m\u001b[38;5;241m.\u001b[39macts[l][:, i]\n\u001b[1;32m    440\u001b[0m y \u001b[38;5;241m=\u001b[39m \u001b[38;5;28mself\u001b[39m\u001b[38;5;241m.\u001b[39mspline_postacts[l][:, j, i]\n\u001b[0;32m--> 441\u001b[0m r2 \u001b[38;5;241m=\u001b[39m \u001b[38;5;28;43mself\u001b[39;49m\u001b[38;5;241;43m.\u001b[39;49m\u001b[43msymbolic_fun\u001b[49m\u001b[43m[\u001b[49m\u001b[43ml\u001b[49m\u001b[43m]\u001b[49m\u001b[38;5;241;43m.\u001b[39;49m\u001b[43mfix_symbolic\u001b[49m\u001b[43m(\u001b[49m\u001b[43mi\u001b[49m\u001b[43m,\u001b[49m\u001b[43m \u001b[49m\u001b[43mj\u001b[49m\u001b[43m,\u001b[49m\u001b[43m \u001b[49m\u001b[43mfun_name\u001b[49m\u001b[43m,\u001b[49m\u001b[43m \u001b[49m\u001b[43mx\u001b[49m\u001b[43m,\u001b[49m\u001b[43m \u001b[49m\u001b[43my\u001b[49m\u001b[43m,\u001b[49m\u001b[43m \u001b[49m\u001b[43ma_range\u001b[49m\u001b[38;5;241;43m=\u001b[39;49m\u001b[43ma_range\u001b[49m\u001b[43m,\u001b[49m\u001b[43m \u001b[49m\u001b[43mb_range\u001b[49m\u001b[38;5;241;43m=\u001b[39;49m\u001b[43mb_range\u001b[49m\u001b[43m,\u001b[49m\u001b[43m \u001b[49m\u001b[43mverbose\u001b[49m\u001b[38;5;241;43m=\u001b[39;49m\u001b[43mverbose\u001b[49m\u001b[43m)\u001b[49m\n\u001b[1;32m    442\u001b[0m \u001b[38;5;28;01mreturn\u001b[39;00m r2\n",
      "File \u001b[0;32m~/Desktop/symbolic classifciation/kan/Symbolic_KANLayer.py:222\u001b[0m, in \u001b[0;36mSymbolic_KANLayer.fix_symbolic\u001b[0;34m(self, i, j, fun_name, x, y, random, a_range, b_range, verbose)\u001b[0m\n\u001b[1;32m    219\u001b[0m     \u001b[38;5;28;01mreturn\u001b[39;00m \u001b[38;5;28;01mNone\u001b[39;00m\n\u001b[1;32m    220\u001b[0m \u001b[38;5;28;01melse\u001b[39;00m:\n\u001b[1;32m    221\u001b[0m     \u001b[38;5;66;03m#initialize from x & y and fun\u001b[39;00m\n\u001b[0;32m--> 222\u001b[0m     params, r2 \u001b[38;5;241m=\u001b[39m \u001b[43mfit_params\u001b[49m\u001b[43m(\u001b[49m\u001b[43mx\u001b[49m\u001b[43m,\u001b[49m\u001b[43my\u001b[49m\u001b[43m,\u001b[49m\u001b[43mfun\u001b[49m\u001b[43m,\u001b[49m\u001b[43m \u001b[49m\u001b[43ma_range\u001b[49m\u001b[38;5;241;43m=\u001b[39;49m\u001b[43ma_range\u001b[49m\u001b[43m,\u001b[49m\u001b[43m \u001b[49m\u001b[43mb_range\u001b[49m\u001b[38;5;241;43m=\u001b[39;49m\u001b[43mb_range\u001b[49m\u001b[43m,\u001b[49m\u001b[43m \u001b[49m\u001b[43mverbose\u001b[49m\u001b[38;5;241;43m=\u001b[39;49m\u001b[43mverbose\u001b[49m\u001b[43m,\u001b[49m\u001b[43m \u001b[49m\u001b[43mdevice\u001b[49m\u001b[38;5;241;43m=\u001b[39;49m\u001b[38;5;28;43mself\u001b[39;49m\u001b[38;5;241;43m.\u001b[39;49m\u001b[43mdevice\u001b[49m\u001b[43m)\u001b[49m\n\u001b[1;32m    223\u001b[0m     \u001b[38;5;28mself\u001b[39m\u001b[38;5;241m.\u001b[39mfuns[j][i] \u001b[38;5;241m=\u001b[39m fun\n\u001b[1;32m    224\u001b[0m     \u001b[38;5;28mself\u001b[39m\u001b[38;5;241m.\u001b[39maffine\u001b[38;5;241m.\u001b[39mdata[j][i] \u001b[38;5;241m=\u001b[39m params\n",
      "File \u001b[0;32m~/Desktop/symbolic classifciation/kan/utils.py:226\u001b[0m, in \u001b[0;36mfit_params\u001b[0;34m(x, y, fun, a_range, b_range, grid_number, iteration, verbose, device)\u001b[0m\n\u001b[1;32m    223\u001b[0m         \u001b[38;5;28mprint\u001b[39m(\u001b[38;5;124mf\u001b[39m\u001b[38;5;124m'\u001b[39m\u001b[38;5;124mr2 is not very high, please double check if you are choosing the correct symbolic function.\u001b[39m\u001b[38;5;124m'\u001b[39m)\n\u001b[1;32m    225\u001b[0m post_fun \u001b[38;5;241m=\u001b[39m torch\u001b[38;5;241m.\u001b[39mnan_to_num(post_fun)\n\u001b[0;32m--> 226\u001b[0m reg \u001b[38;5;241m=\u001b[39m \u001b[43mLinearRegression\u001b[49m\u001b[43m(\u001b[49m\u001b[43m)\u001b[49m\u001b[38;5;241;43m.\u001b[39;49m\u001b[43mfit\u001b[49m\u001b[43m(\u001b[49m\u001b[43mpost_fun\u001b[49m\u001b[43m[\u001b[49m\u001b[43m:\u001b[49m\u001b[43m,\u001b[49m\u001b[38;5;28;43;01mNone\u001b[39;49;00m\u001b[43m]\u001b[49m\u001b[38;5;241;43m.\u001b[39;49m\u001b[43mdetach\u001b[49m\u001b[43m(\u001b[49m\u001b[43m)\u001b[49m\u001b[38;5;241;43m.\u001b[39;49m\u001b[43mcpu\u001b[49m\u001b[43m(\u001b[49m\u001b[43m)\u001b[49m\u001b[38;5;241;43m.\u001b[39;49m\u001b[43mnumpy\u001b[49m\u001b[43m(\u001b[49m\u001b[43m)\u001b[49m\u001b[43m,\u001b[49m\u001b[43m \u001b[49m\u001b[43my\u001b[49m\u001b[38;5;241;43m.\u001b[39;49m\u001b[43mdetach\u001b[49m\u001b[43m(\u001b[49m\u001b[43m)\u001b[49m\u001b[38;5;241;43m.\u001b[39;49m\u001b[43mcpu\u001b[49m\u001b[43m(\u001b[49m\u001b[43m)\u001b[49m\u001b[38;5;241;43m.\u001b[39;49m\u001b[43mnumpy\u001b[49m\u001b[43m(\u001b[49m\u001b[43m)\u001b[49m\u001b[43m)\u001b[49m\n\u001b[1;32m    227\u001b[0m c_best \u001b[38;5;241m=\u001b[39m torch\u001b[38;5;241m.\u001b[39mfrom_numpy(reg\u001b[38;5;241m.\u001b[39mcoef_)[\u001b[38;5;241m0\u001b[39m]\u001b[38;5;241m.\u001b[39mto(device)\n\u001b[1;32m    228\u001b[0m d_best \u001b[38;5;241m=\u001b[39m torch\u001b[38;5;241m.\u001b[39mfrom_numpy(np\u001b[38;5;241m.\u001b[39marray(reg\u001b[38;5;241m.\u001b[39mintercept_))\u001b[38;5;241m.\u001b[39mto(device)\n",
      "File \u001b[0;32m~/Desktop/MSc Scriptie/code/gflow/lib/python3.11/site-packages/sklearn/base.py:1474\u001b[0m, in \u001b[0;36m_fit_context.<locals>.decorator.<locals>.wrapper\u001b[0;34m(estimator, *args, **kwargs)\u001b[0m\n\u001b[1;32m   1467\u001b[0m     estimator\u001b[38;5;241m.\u001b[39m_validate_params()\n\u001b[1;32m   1469\u001b[0m \u001b[38;5;28;01mwith\u001b[39;00m config_context(\n\u001b[1;32m   1470\u001b[0m     skip_parameter_validation\u001b[38;5;241m=\u001b[39m(\n\u001b[1;32m   1471\u001b[0m         prefer_skip_nested_validation \u001b[38;5;129;01mor\u001b[39;00m global_skip_validation\n\u001b[1;32m   1472\u001b[0m     )\n\u001b[1;32m   1473\u001b[0m ):\n\u001b[0;32m-> 1474\u001b[0m     \u001b[38;5;28;01mreturn\u001b[39;00m \u001b[43mfit_method\u001b[49m\u001b[43m(\u001b[49m\u001b[43mestimator\u001b[49m\u001b[43m,\u001b[49m\u001b[43m \u001b[49m\u001b[38;5;241;43m*\u001b[39;49m\u001b[43margs\u001b[49m\u001b[43m,\u001b[49m\u001b[43m \u001b[49m\u001b[38;5;241;43m*\u001b[39;49m\u001b[38;5;241;43m*\u001b[39;49m\u001b[43mkwargs\u001b[49m\u001b[43m)\u001b[49m\n",
      "File \u001b[0;32m~/Desktop/MSc Scriptie/code/gflow/lib/python3.11/site-packages/sklearn/linear_model/_base.py:578\u001b[0m, in \u001b[0;36mLinearRegression.fit\u001b[0;34m(self, X, y, sample_weight)\u001b[0m\n\u001b[1;32m    574\u001b[0m n_jobs_ \u001b[38;5;241m=\u001b[39m \u001b[38;5;28mself\u001b[39m\u001b[38;5;241m.\u001b[39mn_jobs\n\u001b[1;32m    576\u001b[0m accept_sparse \u001b[38;5;241m=\u001b[39m \u001b[38;5;28;01mFalse\u001b[39;00m \u001b[38;5;28;01mif\u001b[39;00m \u001b[38;5;28mself\u001b[39m\u001b[38;5;241m.\u001b[39mpositive \u001b[38;5;28;01melse\u001b[39;00m [\u001b[38;5;124m\"\u001b[39m\u001b[38;5;124mcsr\u001b[39m\u001b[38;5;124m\"\u001b[39m, \u001b[38;5;124m\"\u001b[39m\u001b[38;5;124mcsc\u001b[39m\u001b[38;5;124m\"\u001b[39m, \u001b[38;5;124m\"\u001b[39m\u001b[38;5;124mcoo\u001b[39m\u001b[38;5;124m\"\u001b[39m]\n\u001b[0;32m--> 578\u001b[0m X, y \u001b[38;5;241m=\u001b[39m \u001b[38;5;28;43mself\u001b[39;49m\u001b[38;5;241;43m.\u001b[39;49m\u001b[43m_validate_data\u001b[49m\u001b[43m(\u001b[49m\n\u001b[1;32m    579\u001b[0m \u001b[43m    \u001b[49m\u001b[43mX\u001b[49m\u001b[43m,\u001b[49m\u001b[43m \u001b[49m\u001b[43my\u001b[49m\u001b[43m,\u001b[49m\u001b[43m \u001b[49m\u001b[43maccept_sparse\u001b[49m\u001b[38;5;241;43m=\u001b[39;49m\u001b[43maccept_sparse\u001b[49m\u001b[43m,\u001b[49m\u001b[43m \u001b[49m\u001b[43my_numeric\u001b[49m\u001b[38;5;241;43m=\u001b[39;49m\u001b[38;5;28;43;01mTrue\u001b[39;49;00m\u001b[43m,\u001b[49m\u001b[43m \u001b[49m\u001b[43mmulti_output\u001b[49m\u001b[38;5;241;43m=\u001b[39;49m\u001b[38;5;28;43;01mTrue\u001b[39;49;00m\n\u001b[1;32m    580\u001b[0m \u001b[43m\u001b[49m\u001b[43m)\u001b[49m\n\u001b[1;32m    582\u001b[0m has_sw \u001b[38;5;241m=\u001b[39m sample_weight \u001b[38;5;129;01mis\u001b[39;00m \u001b[38;5;129;01mnot\u001b[39;00m \u001b[38;5;28;01mNone\u001b[39;00m\n\u001b[1;32m    583\u001b[0m \u001b[38;5;28;01mif\u001b[39;00m has_sw:\n",
      "File \u001b[0;32m~/Desktop/MSc Scriptie/code/gflow/lib/python3.11/site-packages/sklearn/base.py:650\u001b[0m, in \u001b[0;36mBaseEstimator._validate_data\u001b[0;34m(self, X, y, reset, validate_separately, cast_to_ndarray, **check_params)\u001b[0m\n\u001b[1;32m    648\u001b[0m         y \u001b[38;5;241m=\u001b[39m check_array(y, input_name\u001b[38;5;241m=\u001b[39m\u001b[38;5;124m\"\u001b[39m\u001b[38;5;124my\u001b[39m\u001b[38;5;124m\"\u001b[39m, \u001b[38;5;241m*\u001b[39m\u001b[38;5;241m*\u001b[39mcheck_y_params)\n\u001b[1;32m    649\u001b[0m     \u001b[38;5;28;01melse\u001b[39;00m:\n\u001b[0;32m--> 650\u001b[0m         X, y \u001b[38;5;241m=\u001b[39m \u001b[43mcheck_X_y\u001b[49m\u001b[43m(\u001b[49m\u001b[43mX\u001b[49m\u001b[43m,\u001b[49m\u001b[43m \u001b[49m\u001b[43my\u001b[49m\u001b[43m,\u001b[49m\u001b[43m \u001b[49m\u001b[38;5;241;43m*\u001b[39;49m\u001b[38;5;241;43m*\u001b[39;49m\u001b[43mcheck_params\u001b[49m\u001b[43m)\u001b[49m\n\u001b[1;32m    651\u001b[0m     out \u001b[38;5;241m=\u001b[39m X, y\n\u001b[1;32m    653\u001b[0m \u001b[38;5;28;01mif\u001b[39;00m \u001b[38;5;129;01mnot\u001b[39;00m no_val_X \u001b[38;5;129;01mand\u001b[39;00m check_params\u001b[38;5;241m.\u001b[39mget(\u001b[38;5;124m\"\u001b[39m\u001b[38;5;124mensure_2d\u001b[39m\u001b[38;5;124m\"\u001b[39m, \u001b[38;5;28;01mTrue\u001b[39;00m):\n",
      "File \u001b[0;32m~/Desktop/MSc Scriptie/code/gflow/lib/python3.11/site-packages/sklearn/utils/validation.py:1279\u001b[0m, in \u001b[0;36mcheck_X_y\u001b[0;34m(X, y, accept_sparse, accept_large_sparse, dtype, order, copy, force_all_finite, ensure_2d, allow_nd, multi_output, ensure_min_samples, ensure_min_features, y_numeric, estimator)\u001b[0m\n\u001b[1;32m   1259\u001b[0m     \u001b[38;5;28;01mraise\u001b[39;00m \u001b[38;5;167;01mValueError\u001b[39;00m(\n\u001b[1;32m   1260\u001b[0m         \u001b[38;5;124mf\u001b[39m\u001b[38;5;124m\"\u001b[39m\u001b[38;5;132;01m{\u001b[39;00mestimator_name\u001b[38;5;132;01m}\u001b[39;00m\u001b[38;5;124m requires y to be passed, but the target y is None\u001b[39m\u001b[38;5;124m\"\u001b[39m\n\u001b[1;32m   1261\u001b[0m     )\n\u001b[1;32m   1263\u001b[0m X \u001b[38;5;241m=\u001b[39m check_array(\n\u001b[1;32m   1264\u001b[0m     X,\n\u001b[1;32m   1265\u001b[0m     accept_sparse\u001b[38;5;241m=\u001b[39maccept_sparse,\n\u001b[0;32m   (...)\u001b[0m\n\u001b[1;32m   1276\u001b[0m     input_name\u001b[38;5;241m=\u001b[39m\u001b[38;5;124m\"\u001b[39m\u001b[38;5;124mX\u001b[39m\u001b[38;5;124m\"\u001b[39m,\n\u001b[1;32m   1277\u001b[0m )\n\u001b[0;32m-> 1279\u001b[0m y \u001b[38;5;241m=\u001b[39m \u001b[43m_check_y\u001b[49m\u001b[43m(\u001b[49m\u001b[43my\u001b[49m\u001b[43m,\u001b[49m\u001b[43m \u001b[49m\u001b[43mmulti_output\u001b[49m\u001b[38;5;241;43m=\u001b[39;49m\u001b[43mmulti_output\u001b[49m\u001b[43m,\u001b[49m\u001b[43m \u001b[49m\u001b[43my_numeric\u001b[49m\u001b[38;5;241;43m=\u001b[39;49m\u001b[43my_numeric\u001b[49m\u001b[43m,\u001b[49m\u001b[43m \u001b[49m\u001b[43mestimator\u001b[49m\u001b[38;5;241;43m=\u001b[39;49m\u001b[43mestimator\u001b[49m\u001b[43m)\u001b[49m\n\u001b[1;32m   1281\u001b[0m check_consistent_length(X, y)\n\u001b[1;32m   1283\u001b[0m \u001b[38;5;28;01mreturn\u001b[39;00m X, y\n",
      "File \u001b[0;32m~/Desktop/MSc Scriptie/code/gflow/lib/python3.11/site-packages/sklearn/utils/validation.py:1289\u001b[0m, in \u001b[0;36m_check_y\u001b[0;34m(y, multi_output, y_numeric, estimator)\u001b[0m\n\u001b[1;32m   1287\u001b[0m \u001b[38;5;250m\u001b[39m\u001b[38;5;124;03m\"\"\"Isolated part of check_X_y dedicated to y validation\"\"\"\u001b[39;00m\n\u001b[1;32m   1288\u001b[0m \u001b[38;5;28;01mif\u001b[39;00m multi_output:\n\u001b[0;32m-> 1289\u001b[0m     y \u001b[38;5;241m=\u001b[39m \u001b[43mcheck_array\u001b[49m\u001b[43m(\u001b[49m\n\u001b[1;32m   1290\u001b[0m \u001b[43m        \u001b[49m\u001b[43my\u001b[49m\u001b[43m,\u001b[49m\n\u001b[1;32m   1291\u001b[0m \u001b[43m        \u001b[49m\u001b[43maccept_sparse\u001b[49m\u001b[38;5;241;43m=\u001b[39;49m\u001b[38;5;124;43m\"\u001b[39;49m\u001b[38;5;124;43mcsr\u001b[39;49m\u001b[38;5;124;43m\"\u001b[39;49m\u001b[43m,\u001b[49m\n\u001b[1;32m   1292\u001b[0m \u001b[43m        \u001b[49m\u001b[43mforce_all_finite\u001b[49m\u001b[38;5;241;43m=\u001b[39;49m\u001b[38;5;28;43;01mTrue\u001b[39;49;00m\u001b[43m,\u001b[49m\n\u001b[1;32m   1293\u001b[0m \u001b[43m        \u001b[49m\u001b[43mensure_2d\u001b[49m\u001b[38;5;241;43m=\u001b[39;49m\u001b[38;5;28;43;01mFalse\u001b[39;49;00m\u001b[43m,\u001b[49m\n\u001b[1;32m   1294\u001b[0m \u001b[43m        \u001b[49m\u001b[43mdtype\u001b[49m\u001b[38;5;241;43m=\u001b[39;49m\u001b[38;5;28;43;01mNone\u001b[39;49;00m\u001b[43m,\u001b[49m\n\u001b[1;32m   1295\u001b[0m \u001b[43m        \u001b[49m\u001b[43minput_name\u001b[49m\u001b[38;5;241;43m=\u001b[39;49m\u001b[38;5;124;43m\"\u001b[39;49m\u001b[38;5;124;43my\u001b[39;49m\u001b[38;5;124;43m\"\u001b[39;49m\u001b[43m,\u001b[49m\n\u001b[1;32m   1296\u001b[0m \u001b[43m        \u001b[49m\u001b[43mestimator\u001b[49m\u001b[38;5;241;43m=\u001b[39;49m\u001b[43mestimator\u001b[49m\u001b[43m,\u001b[49m\n\u001b[1;32m   1297\u001b[0m \u001b[43m    \u001b[49m\u001b[43m)\u001b[49m\n\u001b[1;32m   1298\u001b[0m \u001b[38;5;28;01melse\u001b[39;00m:\n\u001b[1;32m   1299\u001b[0m     estimator_name \u001b[38;5;241m=\u001b[39m _check_estimator_name(estimator)\n",
      "File \u001b[0;32m~/Desktop/MSc Scriptie/code/gflow/lib/python3.11/site-packages/sklearn/utils/validation.py:1049\u001b[0m, in \u001b[0;36mcheck_array\u001b[0;34m(array, accept_sparse, accept_large_sparse, dtype, order, copy, force_all_finite, ensure_2d, allow_nd, ensure_min_samples, ensure_min_features, estimator, input_name)\u001b[0m\n\u001b[1;32m   1043\u001b[0m     \u001b[38;5;28;01mraise\u001b[39;00m \u001b[38;5;167;01mValueError\u001b[39;00m(\n\u001b[1;32m   1044\u001b[0m         \u001b[38;5;124m\"\u001b[39m\u001b[38;5;124mFound array with dim \u001b[39m\u001b[38;5;132;01m%d\u001b[39;00m\u001b[38;5;124m. \u001b[39m\u001b[38;5;132;01m%s\u001b[39;00m\u001b[38;5;124m expected <= 2.\u001b[39m\u001b[38;5;124m\"\u001b[39m\n\u001b[1;32m   1045\u001b[0m         \u001b[38;5;241m%\u001b[39m (array\u001b[38;5;241m.\u001b[39mndim, estimator_name)\n\u001b[1;32m   1046\u001b[0m     )\n\u001b[1;32m   1048\u001b[0m \u001b[38;5;28;01mif\u001b[39;00m force_all_finite:\n\u001b[0;32m-> 1049\u001b[0m     \u001b[43m_assert_all_finite\u001b[49m\u001b[43m(\u001b[49m\n\u001b[1;32m   1050\u001b[0m \u001b[43m        \u001b[49m\u001b[43marray\u001b[49m\u001b[43m,\u001b[49m\n\u001b[1;32m   1051\u001b[0m \u001b[43m        \u001b[49m\u001b[43minput_name\u001b[49m\u001b[38;5;241;43m=\u001b[39;49m\u001b[43minput_name\u001b[49m\u001b[43m,\u001b[49m\n\u001b[1;32m   1052\u001b[0m \u001b[43m        \u001b[49m\u001b[43mestimator_name\u001b[49m\u001b[38;5;241;43m=\u001b[39;49m\u001b[43mestimator_name\u001b[49m\u001b[43m,\u001b[49m\n\u001b[1;32m   1053\u001b[0m \u001b[43m        \u001b[49m\u001b[43mallow_nan\u001b[49m\u001b[38;5;241;43m=\u001b[39;49m\u001b[43mforce_all_finite\u001b[49m\u001b[43m \u001b[49m\u001b[38;5;241;43m==\u001b[39;49m\u001b[43m \u001b[49m\u001b[38;5;124;43m\"\u001b[39;49m\u001b[38;5;124;43mallow-nan\u001b[39;49m\u001b[38;5;124;43m\"\u001b[39;49m\u001b[43m,\u001b[49m\n\u001b[1;32m   1054\u001b[0m \u001b[43m    \u001b[49m\u001b[43m)\u001b[49m\n\u001b[1;32m   1056\u001b[0m \u001b[38;5;28;01mif\u001b[39;00m copy:\n\u001b[1;32m   1057\u001b[0m     \u001b[38;5;28;01mif\u001b[39;00m _is_numpy_namespace(xp):\n\u001b[1;32m   1058\u001b[0m         \u001b[38;5;66;03m# only make a copy if `array` and `array_orig` may share memory`\u001b[39;00m\n",
      "File \u001b[0;32m~/Desktop/MSc Scriptie/code/gflow/lib/python3.11/site-packages/sklearn/utils/validation.py:126\u001b[0m, in \u001b[0;36m_assert_all_finite\u001b[0;34m(X, allow_nan, msg_dtype, estimator_name, input_name)\u001b[0m\n\u001b[1;32m    123\u001b[0m \u001b[38;5;28;01mif\u001b[39;00m first_pass_isfinite:\n\u001b[1;32m    124\u001b[0m     \u001b[38;5;28;01mreturn\u001b[39;00m\n\u001b[0;32m--> 126\u001b[0m \u001b[43m_assert_all_finite_element_wise\u001b[49m\u001b[43m(\u001b[49m\n\u001b[1;32m    127\u001b[0m \u001b[43m    \u001b[49m\u001b[43mX\u001b[49m\u001b[43m,\u001b[49m\n\u001b[1;32m    128\u001b[0m \u001b[43m    \u001b[49m\u001b[43mxp\u001b[49m\u001b[38;5;241;43m=\u001b[39;49m\u001b[43mxp\u001b[49m\u001b[43m,\u001b[49m\n\u001b[1;32m    129\u001b[0m \u001b[43m    \u001b[49m\u001b[43mallow_nan\u001b[49m\u001b[38;5;241;43m=\u001b[39;49m\u001b[43mallow_nan\u001b[49m\u001b[43m,\u001b[49m\n\u001b[1;32m    130\u001b[0m \u001b[43m    \u001b[49m\u001b[43mmsg_dtype\u001b[49m\u001b[38;5;241;43m=\u001b[39;49m\u001b[43mmsg_dtype\u001b[49m\u001b[43m,\u001b[49m\n\u001b[1;32m    131\u001b[0m \u001b[43m    \u001b[49m\u001b[43mestimator_name\u001b[49m\u001b[38;5;241;43m=\u001b[39;49m\u001b[43mestimator_name\u001b[49m\u001b[43m,\u001b[49m\n\u001b[1;32m    132\u001b[0m \u001b[43m    \u001b[49m\u001b[43minput_name\u001b[49m\u001b[38;5;241;43m=\u001b[39;49m\u001b[43minput_name\u001b[49m\u001b[43m,\u001b[49m\n\u001b[1;32m    133\u001b[0m \u001b[43m\u001b[49m\u001b[43m)\u001b[49m\n",
      "File \u001b[0;32m~/Desktop/MSc Scriptie/code/gflow/lib/python3.11/site-packages/sklearn/utils/validation.py:175\u001b[0m, in \u001b[0;36m_assert_all_finite_element_wise\u001b[0;34m(X, xp, allow_nan, msg_dtype, estimator_name, input_name)\u001b[0m\n\u001b[1;32m    158\u001b[0m \u001b[38;5;28;01mif\u001b[39;00m estimator_name \u001b[38;5;129;01mand\u001b[39;00m input_name \u001b[38;5;241m==\u001b[39m \u001b[38;5;124m\"\u001b[39m\u001b[38;5;124mX\u001b[39m\u001b[38;5;124m\"\u001b[39m \u001b[38;5;129;01mand\u001b[39;00m has_nan_error:\n\u001b[1;32m    159\u001b[0m     \u001b[38;5;66;03m# Improve the error message on how to handle missing values in\u001b[39;00m\n\u001b[1;32m    160\u001b[0m     \u001b[38;5;66;03m# scikit-learn.\u001b[39;00m\n\u001b[1;32m    161\u001b[0m     msg_err \u001b[38;5;241m+\u001b[39m\u001b[38;5;241m=\u001b[39m (\n\u001b[1;32m    162\u001b[0m         \u001b[38;5;124mf\u001b[39m\u001b[38;5;124m\"\u001b[39m\u001b[38;5;130;01m\\n\u001b[39;00m\u001b[38;5;132;01m{\u001b[39;00mestimator_name\u001b[38;5;132;01m}\u001b[39;00m\u001b[38;5;124m does not accept missing values\u001b[39m\u001b[38;5;124m\"\u001b[39m\n\u001b[1;32m    163\u001b[0m         \u001b[38;5;124m\"\u001b[39m\u001b[38;5;124m encoded as NaN natively. For supervised learning, you might want\u001b[39m\u001b[38;5;124m\"\u001b[39m\n\u001b[0;32m   (...)\u001b[0m\n\u001b[1;32m    173\u001b[0m         \u001b[38;5;124m\"\u001b[39m\u001b[38;5;124m#estimators-that-handle-nan-values\u001b[39m\u001b[38;5;124m\"\u001b[39m\n\u001b[1;32m    174\u001b[0m     )\n\u001b[0;32m--> 175\u001b[0m \u001b[38;5;28;01mraise\u001b[39;00m \u001b[38;5;167;01mValueError\u001b[39;00m(msg_err)\n",
      "\u001b[0;31mValueError\u001b[0m: Input y contains NaN."
     ]
    }
   ],
   "source": [
    "model.prune()\n",
    "print(\"Model pruned\")\n",
    "lib = ['x', 'x^2','sqrt']\n",
    "model.auto_symbolic(lib=lib)\n",
    "formula1, formula2 = model.symbolic_formula()[0]"
   ]
  },
  {
   "cell_type": "code",
   "execution_count": 50,
   "metadata": {},
   "outputs": [
    {
     "name": "stderr",
     "output_type": "stream",
     "text": [
      "/var/folders/3g/cfx5dwyj6vs289v_k3y0jmtw0000gn/T/ipykernel_49987/3983253669.py:15: RuntimeWarning: invalid value encountered in sqrt\n",
      "  0.01 * np.sqrt(1 - x6) -\n",
      "/var/folders/3g/cfx5dwyj6vs289v_k3y0jmtw0000gn/T/ipykernel_49987/3983253669.py:13: RuntimeWarning: invalid value encountered in sqrt\n",
      "  0.2 * np.sqrt(1 - x4) +\n",
      "/var/folders/3g/cfx5dwyj6vs289v_k3y0jmtw0000gn/T/ipykernel_49987/3983253669.py:12: RuntimeWarning: invalid value encountered in sqrt\n",
      "  0.55 * np.sqrt(1 - x3) -\n",
      "/var/folders/3g/cfx5dwyj6vs289v_k3y0jmtw0000gn/T/ipykernel_49987/3983253669.py:11: RuntimeWarning: invalid value encountered in sqrt\n",
      "  inner_expression = (0.1 * np.sqrt(1 - x2) -\n",
      "/var/folders/3g/cfx5dwyj6vs289v_k3y0jmtw0000gn/T/ipykernel_49987/3983253669.py:14: RuntimeWarning: invalid value encountered in sqrt\n",
      "  0.6 * np.sqrt(1 - x5) -\n",
      "/var/folders/3g/cfx5dwyj6vs289v_k3y0jmtw0000gn/T/ipykernel_49987/3983253669.py:16: RuntimeWarning: invalid value encountered in sqrt\n",
      "  0.34 * np.sqrt(1 - x7) +\n"
     ]
    },
    {
     "name": "stdout",
     "output_type": "stream",
     "text": [
      "Accuracy: 0.64671\n",
      "Precision: 0.0007377979568671964\n",
      "Recall: 0.18439716312056736\n",
      "F1 Score: 0.001469715383963144\n"
     ]
    }
   ],
   "source": [
    "# Define the function to compute the equation\n",
    "def compute_equation1(row):\n",
    "    x2 = row['meanOrig']\n",
    "    x3 = row['maxDest']\n",
    "    x4 = row['meanDest3']\n",
    "    x5 = row['meanDest7']\n",
    "    x6 = row['num_transDest']\n",
    "    x7 = row['num_transOrig']\n",
    "    x8 = row['externalDest']\n",
    "\n",
    "    inner_expression = (0.1 * np.sqrt(1 - x2) - \n",
    "                        0.55 * np.sqrt(1 - x3) - \n",
    "                        0.2 * np.sqrt(1 - x4) + \n",
    "                        0.6 * np.sqrt(1 - x5) - \n",
    "                        0.01 * np.sqrt(1 - x6) - \n",
    "                        0.34 * np.sqrt(1 - x7) + \n",
    "                        0.08 * np.sqrt(1 - x8) + 1)\n",
    "\n",
    "    result = 28.7 - 16.23 * np.sqrt(1 - 0.96 * np.sqrt(inner_expression))\n",
    "\n",
    "    return 1 if result > 0.9999 else 0\n",
    "\n",
    "# Example usage\n",
    "# Assuming 'val_df' is your DataFrame and it has a column 'isFraud'\n",
    "# Let's create a sample DataFrame to simulate 'val_df'\n",
    "\n",
    "# Sample DataFrame\n",
    "val_df = test_df.copy()\n",
    "\n",
    "# Calculate the results for all rows\n",
    "val_df['computed_result'] = val_df.apply(compute_equation1, axis=1)\n",
    "\n",
    "# Extract the true labels and predicted labels\n",
    "y_true = val_df['isFraud']\n",
    "y_pred = val_df['computed_result']\n",
    "\n",
    "\n",
    "from sklearn.metrics import precision_score, recall_score, f1_score\n",
    "# Calculate precision, recall, and F1 score\n",
    "precision = precision_score(y_true, y_pred)\n",
    "recall = recall_score(y_true, y_pred)\n",
    "f1 = f1_score(y_true, y_pred)\n",
    "\n",
    "print(f\"Accuracy: {accuracy_score(y_true, y_pred)}\")\n",
    "print(f\"Precision: {precision}\")\n",
    "print(f\"Recall: {recall}\")\n",
    "print(f\"F1 Score: {f1}\")\n",
    "\n",
    "# Output the DataFrame to check the results\n",
    "# print(val_df)\n"
   ]
  },
  {
   "cell_type": "code",
   "execution_count": null,
   "metadata": {},
   "outputs": [
    {
     "ename": "",
     "evalue": "",
     "output_type": "error",
     "traceback": [
      "\u001b[1;31mThe Kernel crashed while executing code in the current cell or a previous cell. \n",
      "\u001b[1;31mPlease review the code in the cell(s) to identify a possible cause of the failure. \n",
      "\u001b[1;31mClick <a href='https://aka.ms/vscodeJupyterKernelCrash'>here</a> for more info. \n",
      "\u001b[1;31mView Jupyter <a href='command:jupyter.viewOutput'>log</a> for further details."
     ]
    }
   ],
   "source": [
    "def compute_equation(row):\n",
    "    x2 = row['meanOrig']\n",
    "    x3 = row['maxDest']\n",
    "    x4 = row['meanDest3']\n",
    "    x5 = row['meanDest7']\n",
    "    x6 = row['num_transDest']\n",
    "    x7 = row['num_transOrig']\n",
    "    x8 = row['externalDest']\n",
    "\n",
    "    inner_expression = (0.1 * np.sqrt(1 - x2) - \n",
    "                        0.55 * np.sqrt(1 - x3) - \n",
    "                        0.2 * np.sqrt(1 - x4) + \n",
    "                        0.6 * np.sqrt(1 - x5) - \n",
    "                        0.01 * np.sqrt(1 - x6) - \n",
    "                        0.34 * np.sqrt(1 - x7) + \n",
    "                        0.08 * np.sqrt(1 - x8) + 1)\n",
    "\n",
    "    result = 28.7 - 16.23 * np.sqrt(1 - 0.96 * np.sqrt(inner_expression))\n",
    "\n",
    "    return 1 if result > 0 else 0\n",
    "\n",
    "\n",
    "compute_equation(train_df.iloc[0])\n",
    "\n",
    "\n",
    "\n"
   ]
  },
  {
   "cell_type": "code",
   "execution_count": 142,
   "metadata": {},
   "outputs": [
    {
     "name": "stdout",
     "output_type": "stream",
     "text": [
      "RandomForestClassifier\n",
      "Precision: 0.9736\n",
      "Recall: 0.6974\n",
      "F1 Score: 0.8127\n",
      "Accuracy: 0.9995\n",
      "\n",
      "DecisionTreeClassifier\n",
      "Precision: 0.9641\n",
      "Recall: 0.6974\n",
      "F1 Score: 0.8093\n",
      "Accuracy: 0.9995\n",
      "\n",
      "LogisticRegression\n",
      "Precision: 0.7333\n",
      "Recall: 0.5461\n",
      "F1 Score: 0.6260\n",
      "Accuracy: 0.9991\n",
      "\n",
      "GaussianNB\n",
      "Precision: 0.0061\n",
      "Recall: 0.9976\n",
      "F1 Score: 0.0122\n",
      "Accuracy: 0.7715\n",
      "\n",
      "XGBClassifier\n",
      "Precision: 0.9646\n",
      "Recall: 0.7092\n",
      "F1 Score: 0.8174\n",
      "Accuracy: 0.9996\n",
      "\n",
      "RandomForestClassifier - Average Precision: 0.9776, Variance Precision: 0.0001\n",
      "RandomForestClassifier - Average Recall: 0.6095, Variance Recall: 0.0179\n",
      "RandomForestClassifier - Average F1 Score: 0.7401, Variance F1 Score: 0.0136\n",
      "RandomForestClassifier - Average Accuracy: 0.9994, Variance Accuracy: 0.0000\n",
      "\n",
      "DecisionTreeClassifier - Average Precision: 0.9641, Variance Precision: 0.0000\n",
      "DecisionTreeClassifier - Average Recall: 0.6974, Variance Recall: 0.0000\n",
      "DecisionTreeClassifier - Average F1 Score: 0.8093, Variance F1 Score: 0.0000\n",
      "DecisionTreeClassifier - Average Accuracy: 0.9995, Variance Accuracy: 0.0000\n",
      "\n",
      "LogisticRegression - Average Precision: 0.7333, Variance Precision: 0.0000\n",
      "LogisticRegression - Average Recall: 0.5461, Variance Recall: 0.0000\n",
      "LogisticRegression - Average F1 Score: 0.6260, Variance F1 Score: 0.0000\n",
      "LogisticRegression - Average Accuracy: 0.9991, Variance Accuracy: 0.0000\n",
      "\n",
      "GaussianNB - Average Precision: 0.0061, Variance Precision: 0.0000\n",
      "GaussianNB - Average Recall: 0.9976, Variance Recall: 0.0000\n",
      "GaussianNB - Average F1 Score: 0.0122, Variance F1 Score: 0.0000\n",
      "GaussianNB - Average Accuracy: 0.7715, Variance Accuracy: 0.0000\n",
      "\n",
      "XGBClassifier - Average Precision: 0.9646, Variance Precision: 0.0000\n",
      "XGBClassifier - Average Recall: 0.7092, Variance Recall: 0.0000\n",
      "XGBClassifier - Average F1 Score: 0.8174, Variance F1 Score: 0.0000\n",
      "XGBClassifier - Average Accuracy: 0.9996, Variance Accuracy: 0.0000\n",
      "\n"
     ]
    }
   ],
   "source": [
    "from sklearn.ensemble import RandomForestClassifier\n",
    "from sklearn.tree import DecisionTreeClassifier\n",
    "from sklearn.linear_model import LogisticRegression\n",
    "from sklearn.naive_bayes import GaussianNB\n",
    "from xgboost import XGBClassifier\n",
    "from sklearn.metrics import precision_recall_fscore_support, accuracy_score\n",
    "\n",
    "# Configure classifiers\n",
    "rfc = RandomForestClassifier(n_estimators=20, max_depth=5)\n",
    "dtc = DecisionTreeClassifier(max_depth=5)\n",
    "logreg = LogisticRegression(max_iter=500, penalty='l2', solver='lbfgs')\n",
    "nb = GaussianNB()\n",
    "xgboost = XGBClassifier()\n",
    "\n",
    "classifiers = [rfc, dtc, logreg, nb, xgboost]\n",
    "classifier_names = ['RandomForestClassifier', 'DecisionTreeClassifier', 'LogisticRegression', 'GaussianNB', 'XGBClassifier']\n",
    "\n",
    "# Number of runs\n",
    "k = 10\n",
    "\n",
    "# Dictionary to store metrics\n",
    "metrics = {name: {'precision': [], 'recall': [], 'f1': [], 'accuracy': []} for name in classifier_names}\n",
    "\n",
    "# Run each classifier k times\n",
    "for i in range(k):\n",
    "    for classifier, name in zip(classifiers, classifier_names):\n",
    "        classifier.fit(X, y)\n",
    "        y_pred = classifier.predict(X_test)\n",
    "        precision, recall, f1, _ = precision_recall_fscore_support(y_test, y_pred, average='binary')\n",
    "        accuracy = accuracy_score(y_test, y_pred)\n",
    "        metrics[name]['precision'].append(precision)\n",
    "        metrics[name]['recall'].append(recall)\n",
    "        metrics[name]['f1'].append(f1)\n",
    "        metrics[name]['accuracy'].append(accuracy)\n",
    "\n",
    "        if i == k - 1:  # Only print the report on the last iteration\n",
    "            print(name)\n",
    "            print(f\"Precision: {precision:.4f}\")\n",
    "            print(f\"Recall: {recall:.4f}\")\n",
    "            print(f\"F1 Score: {f1:.4f}\")\n",
    "            print(f\"Accuracy: {accuracy:.4f}\")\n",
    "            print()\n",
    "\n",
    "# Calculate average and variance for each metric for each classifier\n",
    "for name in classifier_names:\n",
    "    avg_precision = np.mean(metrics[name]['precision'])\n",
    "    var_precision = np.var(metrics[name]['precision'])\n",
    "    avg_recall = np.mean(metrics[name]['recall'])\n",
    "    var_recall = np.var(metrics[name]['recall'])\n",
    "    avg_f1 = np.mean(metrics[name]['f1'])\n",
    "    var_f1 = np.var(metrics[name]['f1'])\n",
    "    avg_accuracy = np.mean(metrics[name]['accuracy'])\n",
    "    var_accuracy = np.var(metrics[name]['accuracy'])\n",
    "\n",
    "    print(f'{name} - Average Precision: {avg_precision:.4f}, Variance Precision: {var_precision:.4f}')\n",
    "    print(f'{name} - Average Recall: {avg_recall:.4f}, Variance Recall: {var_recall:.4f}')\n",
    "    print(f'{name} - Average F1 Score: {avg_f1:.4f}, Variance F1 Score: {var_f1:.4f}')\n",
    "    print(f'{name} - Average Accuracy: {avg_accuracy:.4f}, Variance Accuracy: {var_accuracy:.4f}')\n",
    "    print()"
   ]
  },
  {
   "cell_type": "code",
   "execution_count": 140,
   "metadata": {},
   "outputs": [
    {
     "name": "stdout",
     "output_type": "stream",
     "text": [
      "RandomForestClassifier\n",
      "              precision    recall  f1-score   support\n",
      "\n",
      "           0       1.00      1.00      1.00    299577\n",
      "           1       0.98      0.60      0.74       423\n",
      "\n",
      "    accuracy                           1.00    300000\n",
      "   macro avg       0.99      0.80      0.87    300000\n",
      "weighted avg       1.00      1.00      1.00    300000\n",
      "\n",
      "Accuracy: 0.99941\n",
      "\n",
      "DecisionTreeClassifier\n",
      "              precision    recall  f1-score   support\n",
      "\n",
      "           0       1.00      1.00      1.00    299577\n",
      "           1       0.96      0.70      0.81       423\n",
      "\n",
      "    accuracy                           1.00    300000\n",
      "   macro avg       0.98      0.85      0.90    300000\n",
      "weighted avg       1.00      1.00      1.00    300000\n",
      "\n",
      "Accuracy: 0.9995366666666666\n",
      "\n",
      "LogisticRegression\n",
      "              precision    recall  f1-score   support\n",
      "\n",
      "           0       1.00      1.00      1.00    299577\n",
      "           1       0.73      0.55      0.63       423\n",
      "\n",
      "    accuracy                           1.00    300000\n",
      "   macro avg       0.87      0.77      0.81    300000\n",
      "weighted avg       1.00      1.00      1.00    300000\n",
      "\n",
      "Accuracy: 0.99908\n",
      "\n",
      "GaussianNB\n",
      "              precision    recall  f1-score   support\n",
      "\n",
      "           0       1.00      0.77      0.87    299577\n",
      "           1       0.01      1.00      0.01       423\n",
      "\n",
      "    accuracy                           0.77    300000\n",
      "   macro avg       0.50      0.88      0.44    300000\n",
      "weighted avg       1.00      0.77      0.87    300000\n",
      "\n",
      "Accuracy: 0.7714966666666667\n",
      "\n",
      "XGBClassifier\n",
      "              precision    recall  f1-score   support\n",
      "\n",
      "           0       1.00      1.00      1.00    299577\n",
      "           1       0.96      0.71      0.82       423\n",
      "\n",
      "    accuracy                           1.00    300000\n",
      "   macro avg       0.98      0.85      0.91    300000\n",
      "weighted avg       1.00      1.00      1.00    300000\n",
      "\n",
      "Accuracy: 0.9995533333333333\n",
      "\n"
     ]
    }
   ],
   "source": [
    "\n",
    "\n",
    "\n",
    "# X_test  = test_df.drop('isFraud', axis=1)\n",
    "# X_test[['type_CASH_IN', 'type_CASH_OUT', 'type_DEBIT', 'type_PAYMENT', 'type_TRANSFER']] = X_test[['type_CASH_IN', 'type_CASH_OUT', 'type_DEBIT', 'type_PAYMENT', 'type_TRANSFER']].astype(int)\n",
    "# y_test = test_df['isFraud']\n",
    "\n"
   ]
  },
  {
   "cell_type": "code",
   "execution_count": 55,
   "metadata": {},
   "outputs": [],
   "source": [
    "from torch.utils.data import DataLoader, TensorDataset\n",
    "import torch\n",
    "\n",
    "\n",
    "# Assuming X, y, x_val, y_val, x_test, y_test are pandas dataframes\n",
    "X_tensor = torch.tensor(X.values, dtype=torch.float32)\n",
    "y_tensor = torch.tensor(y.values, dtype=torch.float32).view(-1, 1)\n",
    "\n",
    "x_val_tensor = torch.tensor(X_val.values, dtype=torch.float32)\n",
    "y_val_tensor = torch.tensor(y_val.values, dtype=torch.float32).view(-1, 1)\n",
    "\n",
    "x_test_tensor = torch.tensor(X_test.values, dtype=torch.float32)\n",
    "y_test_tensor = torch.tensor(y_test.values, dtype=torch.float32).view(-1, 1)\n",
    "\n",
    "# Create TensorDatasets\n",
    "train_dataset = TensorDataset(X_tensor, y_tensor)\n",
    "val_dataset = TensorDataset(x_val_tensor, y_val_tensor)\n",
    "test_dataset = TensorDataset(x_test_tensor, y_test_tensor)\n",
    "\n",
    "# Create DataLoadrs\n",
    "batch_size = 2000\n",
    "\n",
    "train_loader = DataLoader(train_dataset, batch_size=batch_size, shuffle=True)\n",
    "val_loader = DataLoader(val_dataset, batch_size=batch_size, shuffle=False)\n",
    "test_loader = DataLoader(test_dataset, batch_size=batch_size, shuffle=False)"
   ]
  },
  {
   "cell_type": "code",
   "execution_count": 108,
   "metadata": {},
   "outputs": [],
   "source": [
    "class CNN(nn.Module):\n",
    "    def __init__(self, input_dim):\n",
    "        super(CNN, self).__init__()\n",
    "        self.conv1 = nn.Conv1d(1, 16, kernel_size=3, stride=1, padding=1)\n",
    "        self.conv2 = nn.Conv1d(16, 32, kernel_size=3, stride=1, padding=1)\n",
    "        self.fc1 = nn.Linear(32 * input_dim, 64)\n",
    "        self.fc2 = nn.Linear(64, 1)\n",
    "        self.relu = nn.ReLU()\n",
    "        self.sigmoid = nn.Sigmoid()\n",
    "\n",
    "    def forward(self, x):\n",
    "        x = x.unsqueeze(1)  # Add channel dimension\n",
    "        x = self.relu(self.conv1(x))\n",
    "        x = self.relu(self.conv2(x))\n",
    "        x = x.view(x.size(0), -1)  # Flatten\n",
    "        x = self.relu(self.fc1(x))\n",
    "        x = self.sigmoid(self.fc2(x))\n",
    "        return x\n",
    "\n",
    "# Example usage\n",
    "input_dim = X.shape[1]  # Set this to the number of features in your dataset\n",
    "cnn = CNN(input_dim)\n",
    "criterion = nn.BCELoss()\n",
    "optimizer = torch.optim.Adam(cnn.parameters(), lr=0.001)\n",
    "\n",
    "class GRU(nn.Module):\n",
    "    def __init__(self, input_size, hidden_size, num_layers):\n",
    "        super(GRU, self).__init__()\n",
    "        self.gru = nn.GRU(input_size, hidden_size, num_layers, batch_first=True)\n",
    "        self.fc = nn.Linear(hidden_size, 1)\n",
    "        self.sigmoid = nn.Sigmoid()\n",
    "        self.hidden_size = hidden_size\n",
    "\n",
    "    def forward(self, x):\n",
    "        h0 = torch.zeros(num_layers, x.size(0), self.hidden_size).to(x.device)\n",
    "        out, _ = self.gru(x, h0)\n",
    "        out = self.fc(out[:, -1, :])\n",
    "        out = self.sigmoid(out)\n",
    "        return out\n",
    "\n",
    "    \n",
    "class RNN(nn.Module):\n",
    "    def __init__(self, input_size, hidden_size, num_layers):\n",
    "        super(RNN, self).__init__()\n",
    "        self.rnn = nn.LSTM(input_size, hidden_size, num_layers, batch_first=True)\n",
    "        self.fc = nn.Linear(hidden_size, 1)\n",
    "        self.sigmoid = nn.Sigmoid()\n",
    "        self.hidden_size = hidden_size\n",
    "        \n",
    "    def forward(self, x):\n",
    "        h_0 = torch.zeros(num_layers, x.size(0), self.hidden_size).to(x.device)\n",
    "        c_0 = torch.zeros(num_layers, x.size(0), self.hidden_size).to(x.device)\n",
    "        out, _ = self.rnn(x, (h_0, c_0))\n",
    "        out = out[:, -1, :]\n",
    "        out = self.sigmoid(self.fc(out))\n",
    "        return out\n",
    "    \n",
    "class SimpleNN(nn.Module):\n",
    "    def __init__(self, input_size):\n",
    "        super(SimpleNN, self).__init__()\n",
    "        self.fc1 = nn.Linear(input_size, 64)\n",
    "        self.fc2 = nn.Linear(64, 32)\n",
    "        self.fc3 = nn.Linear(32, 1)\n",
    "        self.relu = nn.ReLU()\n",
    "        self.sigmoid = nn.Sigmoid()\n",
    "        \n",
    "    def forward(self, x):\n",
    "        x = self.relu(self.fc1(x))\n",
    "        x = self.relu(self.fc2(x))\n",
    "        x = self.sigmoid(self.fc3(x))\n",
    "        return x\n",
    "    \n",
    "class TransformerModel(nn.Module):\n",
    "    def __init__(self, input_dim, model_dim, num_heads, num_layers):\n",
    "        super(TransformerModel, self).__init__()\n",
    "        self.embedding = nn.Linear(input_dim, model_dim)\n",
    "        encoder_layer = nn.TransformerEncoderLayer(d_model=model_dim, nhead=num_heads)\n",
    "        self.transformer_encoder = nn.TransformerEncoder(encoder_layer, num_layers=num_layers)\n",
    "        self.fc = nn.Linear(model_dim, 1)\n",
    "        self.sigmoid = nn.Sigmoid()\n",
    "\n",
    "    def forward(self, x):\n",
    "        x = self.embedding(x)\n",
    "        x = self.transformer_encoder(x)\n",
    "        x = x.mean(dim=1)\n",
    "        x = self.sigmoid(self.fc(x))\n",
    "        return x\n",
    "    \n",
    "\n",
    "# Assuming the LSTM model and other components are defined as in previous examples\n",
    "class LSTM(nn.Module):\n",
    "    def __init__(self, input_size, hidden_size, num_layers):\n",
    "        super(LSTM, self).__init__()\n",
    "        self.hidden_size = hidden_size\n",
    "        self.num_layers = num_layers\n",
    "        self.lstm = nn.LSTM(input_size, hidden_size, num_layers, batch_first=True)\n",
    "        self.fc = nn.Linear(hidden_size, 1)\n",
    "        self.sigmoid = nn.Sigmoid()\n",
    "\n",
    "    def forward(self, x):\n",
    "        h0 = torch.zeros(self.num_layers, x.size(0), self.hidden_size)\n",
    "        c0 = torch.zeros(self.num_layers, x.size(0), self.hidden_size)\n",
    "        out, _ = self.lstm(x, (h0, c0))\n",
    "        out = self.fc(out[:, -1, :])\n",
    "        out = self.sigmoid(out)\n",
    "        return out\n",
    "    \n",
    "class AttentionModel(nn.Module):\n",
    "    def __init__(self, input_size, hidden_size, num_layers):\n",
    "        super(AttentionModel, self).__init__()\n",
    "        self.rnn = nn.RNN(input_size, hidden_size, num_layers, batch_first=True)\n",
    "        self.attention = nn.Linear(hidden_size, 1)\n",
    "        self.fc = nn.Linear(hidden_size, 1)\n",
    "        self.sigmoid = nn.Sigmoid()\n",
    "        self.hidden_size = hidden_size\n",
    "\n",
    "    def forward(self, x):\n",
    "        h0 = torch.zeros(num_layers, x.size(0),self.hidden_size).to(x.device)\n",
    "        out, _ = self.rnn(x, h0)\n",
    "        attn_weights = torch.softmax(self.attention(out), dim=1)\n",
    "        context = torch.sum(attn_weights * out, dim=1)\n",
    "        out = self.fc(context)\n",
    "        out = self.sigmoid(out)\n",
    "        return out\n",
    "    \n",
    "class DeepCNN(nn.Module):\n",
    "    def __init__(self):\n",
    "        super(DeepCNN, self).__init__()\n",
    "        self.conv1 = nn.Conv1d(8, 64, kernel_size=3, padding=1)\n",
    "        self.conv2 = nn.Conv1d(64, 128, kernel_size=3, padding=1)\n",
    "        self.conv3 = nn.Conv1d(128, 256, kernel_size=3, padding=1)\n",
    "        self.pool = nn.MaxPool1d(kernel_size=2, stride=2)\n",
    "        self.fc1 = nn.Linear(256 * 1, 128)\n",
    "        self.fc2 = nn.Linear(128, 1)\n",
    "        self.sigmoid = nn.Sigmoid()\n",
    "\n",
    "    def forward(self, x):\n",
    "        x = self.pool(torch.relu(self.conv1(x)))\n",
    "        x = self.pool(torch.relu(self.conv2(x)))\n",
    "        x = self.pool(torch.relu(self.conv3(x)))\n",
    "        x = x.view(-1, 256 * 1)  # Flatten\n",
    "        x = torch.relu(self.fc1(x))\n",
    "        x = self.fc2(x)\n",
    "        x = self.sigmoid(x)\n",
    "        return x\n",
    "\n",
    "\n",
    "\n",
    "    \n",
    "# Example usage\n",
    "input_dim = X.shape[1]\n",
    "hidden_dim = 32\n",
    "num_layers = 2\n",
    "gru = GRU(input_dim, hidden_dim, num_layers)\n",
    "rnn = RNN(input_dim, hidden_dim, num_layers)\n",
    "am = AttentionModel(input_dim, hidden_dim, num_layers)\n",
    "dcnn = DeepCNN()\n",
    "\n",
    "snn = SimpleNN(input_dim)\n",
    "transformer = TransformerModel(input_dim, hidden_dim, num_layers, num_layers)"
   ]
  },
  {
   "cell_type": "code",
   "execution_count": 144,
   "metadata": {},
   "outputs": [
    {
     "name": "stdout",
     "output_type": "stream",
     "text": [
      "Run 1/10\n"
     ]
    },
    {
     "name": "stderr",
     "output_type": "stream",
     "text": [
      " 10%|█         | 1/10 [01:09<10:26, 69.64s/it]"
     ]
    },
    {
     "name": "stdout",
     "output_type": "stream",
     "text": [
      "Epoch 1/10, Train Loss: 0.0034, Validation Loss: 0.0032, Validation Accuracy: 0.9996\n"
     ]
    },
    {
     "name": "stderr",
     "output_type": "stream",
     "text": [
      " 20%|██        | 2/10 [02:20<09:22, 70.27s/it]"
     ]
    },
    {
     "name": "stdout",
     "output_type": "stream",
     "text": [
      "Epoch 2/10, Train Loss: 0.0033, Validation Loss: 0.0031, Validation Accuracy: 0.9996\n"
     ]
    },
    {
     "name": "stderr",
     "output_type": "stream",
     "text": [
      " 30%|███       | 3/10 [03:31<08:13, 70.45s/it]"
     ]
    },
    {
     "name": "stdout",
     "output_type": "stream",
     "text": [
      "Epoch 3/10, Train Loss: 0.0033, Validation Loss: 0.0031, Validation Accuracy: 0.9996\n"
     ]
    },
    {
     "name": "stderr",
     "output_type": "stream",
     "text": [
      " 40%|████      | 4/10 [04:41<07:03, 70.52s/it]"
     ]
    },
    {
     "name": "stdout",
     "output_type": "stream",
     "text": [
      "Epoch 4/10, Train Loss: 0.0032, Validation Loss: 0.0031, Validation Accuracy: 0.9996\n"
     ]
    },
    {
     "name": "stderr",
     "output_type": "stream",
     "text": [
      " 50%|█████     | 5/10 [05:52<05:54, 70.81s/it]"
     ]
    },
    {
     "name": "stdout",
     "output_type": "stream",
     "text": [
      "Epoch 5/10, Train Loss: 0.0031, Validation Loss: 0.0029, Validation Accuracy: 0.9996\n"
     ]
    },
    {
     "name": "stderr",
     "output_type": "stream",
     "text": [
      " 60%|██████    | 6/10 [07:04<04:43, 70.90s/it]"
     ]
    },
    {
     "name": "stdout",
     "output_type": "stream",
     "text": [
      "Epoch 6/10, Train Loss: 0.0031, Validation Loss: 0.0029, Validation Accuracy: 0.9996\n"
     ]
    },
    {
     "name": "stderr",
     "output_type": "stream",
     "text": [
      " 70%|███████   | 7/10 [08:14<03:32, 70.85s/it]"
     ]
    },
    {
     "name": "stdout",
     "output_type": "stream",
     "text": [
      "Epoch 7/10, Train Loss: 0.0031, Validation Loss: 0.0029, Validation Accuracy: 0.9996\n"
     ]
    },
    {
     "name": "stderr",
     "output_type": "stream",
     "text": [
      " 80%|████████  | 8/10 [09:26<02:22, 71.03s/it]"
     ]
    },
    {
     "name": "stdout",
     "output_type": "stream",
     "text": [
      "Epoch 8/10, Train Loss: 0.0031, Validation Loss: 0.0029, Validation Accuracy: 0.9996\n"
     ]
    },
    {
     "name": "stderr",
     "output_type": "stream",
     "text": [
      " 90%|█████████ | 9/10 [10:43<01:13, 73.10s/it]"
     ]
    },
    {
     "name": "stdout",
     "output_type": "stream",
     "text": [
      "Epoch 9/10, Train Loss: 0.0030, Validation Loss: 0.0029, Validation Accuracy: 0.9996\n"
     ]
    },
    {
     "name": "stderr",
     "output_type": "stream",
     "text": [
      "100%|██████████| 10/10 [12:07<00:00, 72.72s/it]"
     ]
    },
    {
     "name": "stdout",
     "output_type": "stream",
     "text": [
      "Epoch 10/10, Train Loss: 0.0030, Validation Loss: 0.0029, Validation Accuracy: 0.9996\n"
     ]
    },
    {
     "name": "stderr",
     "output_type": "stream",
     "text": [
      "\n"
     ]
    },
    {
     "name": "stdout",
     "output_type": "stream",
     "text": [
      "Run 2/10\n"
     ]
    },
    {
     "name": "stderr",
     "output_type": "stream",
     "text": [
      " 10%|█         | 1/10 [01:25<12:47, 85.27s/it]"
     ]
    },
    {
     "name": "stdout",
     "output_type": "stream",
     "text": [
      "Epoch 1/10, Train Loss: 0.0030, Validation Loss: 0.0029, Validation Accuracy: 0.9996\n"
     ]
    },
    {
     "name": "stderr",
     "output_type": "stream",
     "text": [
      " 20%|██        | 2/10 [02:38<10:25, 78.16s/it]"
     ]
    },
    {
     "name": "stdout",
     "output_type": "stream",
     "text": [
      "Epoch 2/10, Train Loss: 0.0030, Validation Loss: 0.0029, Validation Accuracy: 0.9996\n"
     ]
    },
    {
     "name": "stderr",
     "output_type": "stream",
     "text": [
      " 30%|███       | 3/10 [03:52<08:52, 76.06s/it]"
     ]
    },
    {
     "name": "stdout",
     "output_type": "stream",
     "text": [
      "Epoch 3/10, Train Loss: 0.0030, Validation Loss: 0.0029, Validation Accuracy: 0.9996\n"
     ]
    },
    {
     "name": "stderr",
     "output_type": "stream",
     "text": [
      " 40%|████      | 4/10 [05:05<07:30, 75.06s/it]"
     ]
    },
    {
     "name": "stdout",
     "output_type": "stream",
     "text": [
      "Epoch 4/10, Train Loss: 0.0030, Validation Loss: 0.0029, Validation Accuracy: 0.9996\n"
     ]
    },
    {
     "name": "stderr",
     "output_type": "stream",
     "text": [
      " 50%|█████     | 5/10 [06:28<06:28, 77.78s/it]"
     ]
    },
    {
     "name": "stdout",
     "output_type": "stream",
     "text": [
      "Epoch 5/10, Train Loss: 0.0030, Validation Loss: 0.0029, Validation Accuracy: 0.9996\n"
     ]
    },
    {
     "name": "stderr",
     "output_type": "stream",
     "text": [
      " 60%|██████    | 6/10 [07:58<05:28, 82.22s/it]"
     ]
    },
    {
     "name": "stdout",
     "output_type": "stream",
     "text": [
      "Epoch 6/10, Train Loss: 0.0030, Validation Loss: 0.0029, Validation Accuracy: 0.9996\n"
     ]
    },
    {
     "name": "stderr",
     "output_type": "stream",
     "text": [
      " 70%|███████   | 7/10 [09:23<04:09, 83.12s/it]"
     ]
    },
    {
     "name": "stdout",
     "output_type": "stream",
     "text": [
      "Epoch 7/10, Train Loss: 0.0030, Validation Loss: 0.0029, Validation Accuracy: 0.9996\n"
     ]
    },
    {
     "name": "stderr",
     "output_type": "stream",
     "text": [
      " 80%|████████  | 8/10 [10:49<02:48, 84.01s/it]"
     ]
    },
    {
     "name": "stdout",
     "output_type": "stream",
     "text": [
      "Epoch 8/10, Train Loss: 0.0030, Validation Loss: 0.0029, Validation Accuracy: 0.9996\n"
     ]
    },
    {
     "name": "stderr",
     "output_type": "stream",
     "text": [
      " 90%|█████████ | 9/10 [12:16<01:24, 84.88s/it]"
     ]
    },
    {
     "name": "stdout",
     "output_type": "stream",
     "text": [
      "Epoch 9/10, Train Loss: 0.0030, Validation Loss: 0.0029, Validation Accuracy: 0.9996\n"
     ]
    },
    {
     "name": "stderr",
     "output_type": "stream",
     "text": [
      "100%|██████████| 10/10 [13:36<00:00, 81.66s/it]"
     ]
    },
    {
     "name": "stdout",
     "output_type": "stream",
     "text": [
      "Epoch 10/10, Train Loss: 0.0030, Validation Loss: 0.0029, Validation Accuracy: 0.9996\n"
     ]
    },
    {
     "name": "stderr",
     "output_type": "stream",
     "text": [
      "\n"
     ]
    },
    {
     "name": "stdout",
     "output_type": "stream",
     "text": [
      "Run 3/10\n"
     ]
    },
    {
     "name": "stderr",
     "output_type": "stream",
     "text": [
      " 10%|█         | 1/10 [01:16<11:26, 76.31s/it]"
     ]
    },
    {
     "name": "stdout",
     "output_type": "stream",
     "text": [
      "Epoch 1/10, Train Loss: 0.0030, Validation Loss: 0.0029, Validation Accuracy: 0.9996\n"
     ]
    },
    {
     "name": "stderr",
     "output_type": "stream",
     "text": [
      " 20%|██        | 2/10 [02:43<11:03, 82.91s/it]"
     ]
    },
    {
     "name": "stdout",
     "output_type": "stream",
     "text": [
      "Epoch 2/10, Train Loss: 0.0030, Validation Loss: 0.0029, Validation Accuracy: 0.9996\n"
     ]
    },
    {
     "name": "stderr",
     "output_type": "stream",
     "text": [
      " 30%|███       | 3/10 [04:10<09:53, 84.79s/it]"
     ]
    },
    {
     "name": "stdout",
     "output_type": "stream",
     "text": [
      "Epoch 3/10, Train Loss: 0.0030, Validation Loss: 0.0029, Validation Accuracy: 0.9996\n"
     ]
    },
    {
     "name": "stderr",
     "output_type": "stream",
     "text": [
      " 40%|████      | 4/10 [05:39<08:36, 86.11s/it]"
     ]
    },
    {
     "name": "stdout",
     "output_type": "stream",
     "text": [
      "Epoch 4/10, Train Loss: 0.0030, Validation Loss: 0.0030, Validation Accuracy: 0.9996\n"
     ]
    },
    {
     "name": "stderr",
     "output_type": "stream",
     "text": [
      " 50%|█████     | 5/10 [07:05<07:11, 86.37s/it]"
     ]
    },
    {
     "name": "stdout",
     "output_type": "stream",
     "text": [
      "Epoch 5/10, Train Loss: 0.0030, Validation Loss: 0.0029, Validation Accuracy: 0.9996\n"
     ]
    },
    {
     "name": "stderr",
     "output_type": "stream",
     "text": [
      " 60%|██████    | 6/10 [08:39<05:55, 88.91s/it]"
     ]
    },
    {
     "name": "stdout",
     "output_type": "stream",
     "text": [
      "Epoch 6/10, Train Loss: 0.0030, Validation Loss: 0.0029, Validation Accuracy: 0.9996\n"
     ]
    },
    {
     "name": "stderr",
     "output_type": "stream",
     "text": [
      " 70%|███████   | 7/10 [10:14<04:32, 90.86s/it]"
     ]
    },
    {
     "name": "stdout",
     "output_type": "stream",
     "text": [
      "Epoch 7/10, Train Loss: 0.0030, Validation Loss: 0.0029, Validation Accuracy: 0.9996\n"
     ]
    },
    {
     "name": "stderr",
     "output_type": "stream",
     "text": [
      " 80%|████████  | 8/10 [11:50<03:04, 92.50s/it]"
     ]
    },
    {
     "name": "stdout",
     "output_type": "stream",
     "text": [
      "Epoch 8/10, Train Loss: 0.0030, Validation Loss: 0.0029, Validation Accuracy: 0.9996\n"
     ]
    },
    {
     "name": "stderr",
     "output_type": "stream",
     "text": [
      " 90%|█████████ | 9/10 [13:20<01:31, 91.65s/it]"
     ]
    },
    {
     "name": "stdout",
     "output_type": "stream",
     "text": [
      "Epoch 9/10, Train Loss: 0.0030, Validation Loss: 0.0029, Validation Accuracy: 0.9996\n"
     ]
    },
    {
     "name": "stderr",
     "output_type": "stream",
     "text": [
      "100%|██████████| 10/10 [14:44<00:00, 88.45s/it]"
     ]
    },
    {
     "name": "stdout",
     "output_type": "stream",
     "text": [
      "Epoch 10/10, Train Loss: 0.0030, Validation Loss: 0.0029, Validation Accuracy: 0.9996\n"
     ]
    },
    {
     "name": "stderr",
     "output_type": "stream",
     "text": [
      "\n"
     ]
    },
    {
     "name": "stdout",
     "output_type": "stream",
     "text": [
      "Run 4/10\n"
     ]
    },
    {
     "name": "stderr",
     "output_type": "stream",
     "text": [
      " 10%|█         | 1/10 [01:27<13:04, 87.15s/it]"
     ]
    },
    {
     "name": "stdout",
     "output_type": "stream",
     "text": [
      "Epoch 1/10, Train Loss: 0.0030, Validation Loss: 0.0029, Validation Accuracy: 0.9996\n"
     ]
    },
    {
     "name": "stderr",
     "output_type": "stream",
     "text": [
      " 20%|██        | 2/10 [02:51<11:22, 85.30s/it]"
     ]
    },
    {
     "name": "stdout",
     "output_type": "stream",
     "text": [
      "Epoch 2/10, Train Loss: 0.0030, Validation Loss: 0.0029, Validation Accuracy: 0.9996\n"
     ]
    },
    {
     "name": "stderr",
     "output_type": "stream",
     "text": [
      " 30%|███       | 3/10 [04:14<09:50, 84.43s/it]"
     ]
    },
    {
     "name": "stdout",
     "output_type": "stream",
     "text": [
      "Epoch 3/10, Train Loss: 0.0030, Validation Loss: 0.0029, Validation Accuracy: 0.9996\n"
     ]
    },
    {
     "name": "stderr",
     "output_type": "stream",
     "text": [
      " 40%|████      | 4/10 [05:37<08:22, 83.71s/it]"
     ]
    },
    {
     "name": "stdout",
     "output_type": "stream",
     "text": [
      "Epoch 4/10, Train Loss: 0.0030, Validation Loss: 0.0029, Validation Accuracy: 0.9996\n"
     ]
    },
    {
     "name": "stderr",
     "output_type": "stream",
     "text": [
      " 50%|█████     | 5/10 [06:59<06:56, 83.25s/it]"
     ]
    },
    {
     "name": "stdout",
     "output_type": "stream",
     "text": [
      "Epoch 5/10, Train Loss: 0.0030, Validation Loss: 0.0029, Validation Accuracy: 0.9996\n"
     ]
    },
    {
     "name": "stderr",
     "output_type": "stream",
     "text": [
      " 60%|██████    | 6/10 [08:22<05:32, 83.21s/it]"
     ]
    },
    {
     "name": "stdout",
     "output_type": "stream",
     "text": [
      "Epoch 6/10, Train Loss: 0.0030, Validation Loss: 0.0029, Validation Accuracy: 0.9996\n"
     ]
    },
    {
     "name": "stderr",
     "output_type": "stream",
     "text": [
      " 70%|███████   | 7/10 [09:46<04:10, 83.39s/it]"
     ]
    },
    {
     "name": "stdout",
     "output_type": "stream",
     "text": [
      "Epoch 7/10, Train Loss: 0.0030, Validation Loss: 0.0029, Validation Accuracy: 0.9996\n"
     ]
    },
    {
     "name": "stderr",
     "output_type": "stream",
     "text": [
      " 80%|████████  | 8/10 [11:15<02:50, 85.20s/it]"
     ]
    },
    {
     "name": "stdout",
     "output_type": "stream",
     "text": [
      "Epoch 8/10, Train Loss: 0.0030, Validation Loss: 0.0029, Validation Accuracy: 0.9996\n"
     ]
    },
    {
     "name": "stderr",
     "output_type": "stream",
     "text": [
      " 90%|█████████ | 9/10 [12:44<01:26, 86.24s/it]"
     ]
    },
    {
     "name": "stdout",
     "output_type": "stream",
     "text": [
      "Epoch 9/10, Train Loss: 0.0030, Validation Loss: 0.0029, Validation Accuracy: 0.9996\n"
     ]
    },
    {
     "name": "stderr",
     "output_type": "stream",
     "text": [
      "100%|██████████| 10/10 [14:13<00:00, 85.31s/it]"
     ]
    },
    {
     "name": "stdout",
     "output_type": "stream",
     "text": [
      "Epoch 10/10, Train Loss: 0.0030, Validation Loss: 0.0029, Validation Accuracy: 0.9996\n"
     ]
    },
    {
     "name": "stderr",
     "output_type": "stream",
     "text": [
      "\n"
     ]
    },
    {
     "name": "stdout",
     "output_type": "stream",
     "text": [
      "Run 5/10\n"
     ]
    },
    {
     "name": "stderr",
     "output_type": "stream",
     "text": [
      " 10%|█         | 1/10 [01:29<13:27, 89.71s/it]"
     ]
    },
    {
     "name": "stdout",
     "output_type": "stream",
     "text": [
      "Epoch 1/10, Train Loss: 0.0030, Validation Loss: 0.0029, Validation Accuracy: 0.9996\n"
     ]
    },
    {
     "name": "stderr",
     "output_type": "stream",
     "text": [
      " 20%|██        | 2/10 [03:01<12:09, 91.14s/it]"
     ]
    },
    {
     "name": "stdout",
     "output_type": "stream",
     "text": [
      "Epoch 2/10, Train Loss: 0.0030, Validation Loss: 0.0029, Validation Accuracy: 0.9996\n"
     ]
    },
    {
     "name": "stderr",
     "output_type": "stream",
     "text": [
      " 30%|███       | 3/10 [04:38<10:54, 93.47s/it]"
     ]
    },
    {
     "name": "stdout",
     "output_type": "stream",
     "text": [
      "Epoch 3/10, Train Loss: 0.0030, Validation Loss: 0.0029, Validation Accuracy: 0.9996\n"
     ]
    },
    {
     "name": "stderr",
     "output_type": "stream",
     "text": [
      " 40%|████      | 4/10 [06:13<09:24, 94.09s/it]"
     ]
    },
    {
     "name": "stdout",
     "output_type": "stream",
     "text": [
      "Epoch 4/10, Train Loss: 0.0030, Validation Loss: 0.0029, Validation Accuracy: 0.9996\n"
     ]
    },
    {
     "name": "stderr",
     "output_type": "stream",
     "text": [
      " 50%|█████     | 5/10 [07:42<07:42, 92.51s/it]"
     ]
    },
    {
     "name": "stdout",
     "output_type": "stream",
     "text": [
      "Epoch 5/10, Train Loss: 0.0030, Validation Loss: 0.0029, Validation Accuracy: 0.9996\n"
     ]
    },
    {
     "name": "stderr",
     "output_type": "stream",
     "text": [
      " 60%|██████    | 6/10 [09:08<06:00, 90.14s/it]"
     ]
    },
    {
     "name": "stdout",
     "output_type": "stream",
     "text": [
      "Epoch 6/10, Train Loss: 0.0030, Validation Loss: 0.0029, Validation Accuracy: 0.9996\n"
     ]
    },
    {
     "name": "stderr",
     "output_type": "stream",
     "text": [
      " 70%|███████   | 7/10 [10:39<04:31, 90.51s/it]"
     ]
    },
    {
     "name": "stdout",
     "output_type": "stream",
     "text": [
      "Epoch 7/10, Train Loss: 0.0030, Validation Loss: 0.0029, Validation Accuracy: 0.9996\n"
     ]
    },
    {
     "name": "stderr",
     "output_type": "stream",
     "text": [
      " 80%|████████  | 8/10 [12:10<03:01, 90.60s/it]"
     ]
    },
    {
     "name": "stdout",
     "output_type": "stream",
     "text": [
      "Epoch 8/10, Train Loss: 0.0030, Validation Loss: 0.0029, Validation Accuracy: 0.9996\n"
     ]
    },
    {
     "name": "stderr",
     "output_type": "stream",
     "text": [
      " 90%|█████████ | 9/10 [13:37<01:29, 89.36s/it]"
     ]
    },
    {
     "name": "stdout",
     "output_type": "stream",
     "text": [
      "Epoch 9/10, Train Loss: 0.0030, Validation Loss: 0.0029, Validation Accuracy: 0.9996\n"
     ]
    },
    {
     "name": "stderr",
     "output_type": "stream",
     "text": [
      "100%|██████████| 10/10 [15:15<00:00, 91.51s/it]"
     ]
    },
    {
     "name": "stdout",
     "output_type": "stream",
     "text": [
      "Epoch 10/10, Train Loss: 0.0030, Validation Loss: 0.0029, Validation Accuracy: 0.9996\n"
     ]
    },
    {
     "name": "stderr",
     "output_type": "stream",
     "text": [
      "\n"
     ]
    },
    {
     "name": "stdout",
     "output_type": "stream",
     "text": [
      "Run 6/10\n"
     ]
    },
    {
     "name": "stderr",
     "output_type": "stream",
     "text": [
      " 10%|█         | 1/10 [01:35<14:22, 95.85s/it]"
     ]
    },
    {
     "name": "stdout",
     "output_type": "stream",
     "text": [
      "Epoch 1/10, Train Loss: 0.0030, Validation Loss: 0.0029, Validation Accuracy: 0.9996\n"
     ]
    },
    {
     "name": "stderr",
     "output_type": "stream",
     "text": [
      " 20%|██        | 2/10 [03:11<12:47, 95.92s/it]"
     ]
    },
    {
     "name": "stdout",
     "output_type": "stream",
     "text": [
      "Epoch 2/10, Train Loss: 0.0030, Validation Loss: 0.0029, Validation Accuracy: 0.9996\n"
     ]
    },
    {
     "name": "stderr",
     "output_type": "stream",
     "text": [
      " 30%|███       | 3/10 [04:48<11:14, 96.30s/it]"
     ]
    },
    {
     "name": "stdout",
     "output_type": "stream",
     "text": [
      "Epoch 3/10, Train Loss: 0.0030, Validation Loss: 0.0029, Validation Accuracy: 0.9996\n"
     ]
    },
    {
     "name": "stderr",
     "output_type": "stream",
     "text": [
      " 40%|████      | 4/10 [06:43<10:20, 103.48s/it]"
     ]
    },
    {
     "name": "stdout",
     "output_type": "stream",
     "text": [
      "Epoch 4/10, Train Loss: 0.0030, Validation Loss: 0.0029, Validation Accuracy: 0.9996\n"
     ]
    },
    {
     "name": "stderr",
     "output_type": "stream",
     "text": [
      " 50%|█████     | 5/10 [08:42<09:06, 109.25s/it]"
     ]
    },
    {
     "name": "stdout",
     "output_type": "stream",
     "text": [
      "Epoch 5/10, Train Loss: 0.0030, Validation Loss: 0.0029, Validation Accuracy: 0.9996\n"
     ]
    },
    {
     "name": "stderr",
     "output_type": "stream",
     "text": [
      " 60%|██████    | 6/10 [10:50<07:42, 115.54s/it]"
     ]
    },
    {
     "name": "stdout",
     "output_type": "stream",
     "text": [
      "Epoch 6/10, Train Loss: 0.0030, Validation Loss: 0.0029, Validation Accuracy: 0.9996\n"
     ]
    },
    {
     "name": "stderr",
     "output_type": "stream",
     "text": [
      " 70%|███████   | 7/10 [12:52<05:52, 117.65s/it]"
     ]
    },
    {
     "name": "stdout",
     "output_type": "stream",
     "text": [
      "Epoch 7/10, Train Loss: 0.0030, Validation Loss: 0.0029, Validation Accuracy: 0.9996\n"
     ]
    },
    {
     "name": "stderr",
     "output_type": "stream",
     "text": [
      " 80%|████████  | 8/10 [14:42<03:50, 115.22s/it]"
     ]
    },
    {
     "name": "stdout",
     "output_type": "stream",
     "text": [
      "Epoch 8/10, Train Loss: 0.0030, Validation Loss: 0.0029, Validation Accuracy: 0.9996\n"
     ]
    },
    {
     "name": "stderr",
     "output_type": "stream",
     "text": [
      " 90%|█████████ | 9/10 [16:30<01:52, 112.93s/it]"
     ]
    },
    {
     "name": "stdout",
     "output_type": "stream",
     "text": [
      "Epoch 9/10, Train Loss: 0.0030, Validation Loss: 0.0029, Validation Accuracy: 0.9996\n"
     ]
    },
    {
     "name": "stderr",
     "output_type": "stream",
     "text": [
      "100%|██████████| 10/10 [18:23<00:00, 110.30s/it]"
     ]
    },
    {
     "name": "stdout",
     "output_type": "stream",
     "text": [
      "Epoch 10/10, Train Loss: 0.0030, Validation Loss: 0.0029, Validation Accuracy: 0.9996\n"
     ]
    },
    {
     "name": "stderr",
     "output_type": "stream",
     "text": [
      "\n"
     ]
    },
    {
     "name": "stdout",
     "output_type": "stream",
     "text": [
      "Run 7/10\n"
     ]
    },
    {
     "name": "stderr",
     "output_type": "stream",
     "text": [
      " 10%|█         | 1/10 [03:39<32:58, 219.81s/it]"
     ]
    },
    {
     "name": "stdout",
     "output_type": "stream",
     "text": [
      "Epoch 1/10, Train Loss: 0.0030, Validation Loss: 0.0029, Validation Accuracy: 0.9996\n"
     ]
    },
    {
     "name": "stderr",
     "output_type": "stream",
     "text": [
      " 20%|██        | 2/10 [07:14<28:54, 216.85s/it]"
     ]
    },
    {
     "name": "stdout",
     "output_type": "stream",
     "text": [
      "Epoch 2/10, Train Loss: 0.0030, Validation Loss: 0.0029, Validation Accuracy: 0.9996\n"
     ]
    },
    {
     "name": "stderr",
     "output_type": "stream",
     "text": [
      " 30%|███       | 3/10 [09:29<20:54, 179.22s/it]"
     ]
    },
    {
     "name": "stdout",
     "output_type": "stream",
     "text": [
      "Epoch 3/10, Train Loss: 0.0030, Validation Loss: 0.0029, Validation Accuracy: 0.9996\n"
     ]
    },
    {
     "name": "stderr",
     "output_type": "stream",
     "text": [
      " 40%|████      | 4/10 [11:42<16:06, 161.10s/it]"
     ]
    },
    {
     "name": "stdout",
     "output_type": "stream",
     "text": [
      "Epoch 4/10, Train Loss: 0.0030, Validation Loss: 0.0029, Validation Accuracy: 0.9996\n"
     ]
    },
    {
     "name": "stderr",
     "output_type": "stream",
     "text": [
      " 50%|█████     | 5/10 [13:56<12:36, 151.22s/it]"
     ]
    },
    {
     "name": "stdout",
     "output_type": "stream",
     "text": [
      "Epoch 5/10, Train Loss: 0.0030, Validation Loss: 0.0029, Validation Accuracy: 0.9996\n"
     ]
    },
    {
     "name": "stderr",
     "output_type": "stream",
     "text": [
      " 60%|██████    | 6/10 [16:16<09:50, 147.59s/it]"
     ]
    },
    {
     "name": "stdout",
     "output_type": "stream",
     "text": [
      "Epoch 6/10, Train Loss: 0.0030, Validation Loss: 0.0029, Validation Accuracy: 0.9996\n"
     ]
    },
    {
     "name": "stderr",
     "output_type": "stream",
     "text": [
      " 70%|███████   | 7/10 [18:34<07:12, 144.33s/it]"
     ]
    },
    {
     "name": "stdout",
     "output_type": "stream",
     "text": [
      "Epoch 7/10, Train Loss: 0.0030, Validation Loss: 0.0029, Validation Accuracy: 0.9996\n"
     ]
    },
    {
     "name": "stderr",
     "output_type": "stream",
     "text": [
      " 80%|████████  | 8/10 [20:38<04:36, 138.11s/it]"
     ]
    },
    {
     "name": "stdout",
     "output_type": "stream",
     "text": [
      "Epoch 8/10, Train Loss: 0.0030, Validation Loss: 0.0029, Validation Accuracy: 0.9996\n"
     ]
    },
    {
     "name": "stderr",
     "output_type": "stream",
     "text": [
      " 90%|█████████ | 9/10 [22:45<02:14, 134.57s/it]"
     ]
    },
    {
     "name": "stdout",
     "output_type": "stream",
     "text": [
      "Epoch 9/10, Train Loss: 0.0030, Validation Loss: 0.0029, Validation Accuracy: 0.9996\n"
     ]
    },
    {
     "name": "stderr",
     "output_type": "stream",
     "text": [
      "100%|██████████| 10/10 [24:55<00:00, 149.57s/it]"
     ]
    },
    {
     "name": "stdout",
     "output_type": "stream",
     "text": [
      "Epoch 10/10, Train Loss: 0.0030, Validation Loss: 0.0028, Validation Accuracy: 0.9996\n"
     ]
    },
    {
     "name": "stderr",
     "output_type": "stream",
     "text": [
      "\n"
     ]
    },
    {
     "name": "stdout",
     "output_type": "stream",
     "text": [
      "Run 8/10\n"
     ]
    },
    {
     "name": "stderr",
     "output_type": "stream",
     "text": [
      " 10%|█         | 1/10 [02:08<19:15, 128.44s/it]"
     ]
    },
    {
     "name": "stdout",
     "output_type": "stream",
     "text": [
      "Epoch 1/10, Train Loss: 0.0030, Validation Loss: 0.0029, Validation Accuracy: 0.9996\n"
     ]
    },
    {
     "name": "stderr",
     "output_type": "stream",
     "text": [
      " 20%|██        | 2/10 [04:15<17:02, 127.79s/it]"
     ]
    },
    {
     "name": "stdout",
     "output_type": "stream",
     "text": [
      "Epoch 2/10, Train Loss: 0.0030, Validation Loss: 0.0029, Validation Accuracy: 0.9996\n"
     ]
    },
    {
     "name": "stderr",
     "output_type": "stream",
     "text": [
      " 30%|███       | 3/10 [06:14<14:26, 123.82s/it]"
     ]
    },
    {
     "name": "stdout",
     "output_type": "stream",
     "text": [
      "Epoch 3/10, Train Loss: 0.0030, Validation Loss: 0.0029, Validation Accuracy: 0.9996\n"
     ]
    },
    {
     "name": "stderr",
     "output_type": "stream",
     "text": [
      " 40%|████      | 4/10 [08:22<12:32, 125.36s/it]"
     ]
    },
    {
     "name": "stdout",
     "output_type": "stream",
     "text": [
      "Epoch 4/10, Train Loss: 0.0030, Validation Loss: 0.0029, Validation Accuracy: 0.9996\n"
     ]
    },
    {
     "name": "stderr",
     "output_type": "stream",
     "text": [
      " 50%|█████     | 5/10 [10:39<10:47, 129.59s/it]"
     ]
    },
    {
     "name": "stdout",
     "output_type": "stream",
     "text": [
      "Epoch 5/10, Train Loss: 0.0030, Validation Loss: 0.0029, Validation Accuracy: 0.9996\n"
     ]
    },
    {
     "name": "stderr",
     "output_type": "stream",
     "text": [
      " 60%|██████    | 6/10 [12:52<08:42, 130.62s/it]"
     ]
    },
    {
     "name": "stdout",
     "output_type": "stream",
     "text": [
      "Epoch 6/10, Train Loss: 0.0030, Validation Loss: 0.0029, Validation Accuracy: 0.9996\n"
     ]
    },
    {
     "name": "stderr",
     "output_type": "stream",
     "text": [
      " 70%|███████   | 7/10 [15:14<06:42, 134.29s/it]"
     ]
    },
    {
     "name": "stdout",
     "output_type": "stream",
     "text": [
      "Epoch 7/10, Train Loss: 0.0030, Validation Loss: 0.0029, Validation Accuracy: 0.9996\n"
     ]
    },
    {
     "name": "stderr",
     "output_type": "stream",
     "text": [
      " 80%|████████  | 8/10 [17:16<04:21, 130.64s/it]"
     ]
    },
    {
     "name": "stdout",
     "output_type": "stream",
     "text": [
      "Epoch 8/10, Train Loss: 0.0030, Validation Loss: 0.0029, Validation Accuracy: 0.9996\n"
     ]
    },
    {
     "name": "stderr",
     "output_type": "stream",
     "text": [
      " 90%|█████████ | 9/10 [18:45<01:57, 117.39s/it]"
     ]
    },
    {
     "name": "stdout",
     "output_type": "stream",
     "text": [
      "Epoch 9/10, Train Loss: 0.0030, Validation Loss: 0.0029, Validation Accuracy: 0.9996\n"
     ]
    },
    {
     "name": "stderr",
     "output_type": "stream",
     "text": [
      "100%|██████████| 10/10 [20:16<00:00, 121.64s/it]"
     ]
    },
    {
     "name": "stdout",
     "output_type": "stream",
     "text": [
      "Epoch 10/10, Train Loss: 0.0030, Validation Loss: 0.0029, Validation Accuracy: 0.9996\n"
     ]
    },
    {
     "name": "stderr",
     "output_type": "stream",
     "text": [
      "\n"
     ]
    },
    {
     "name": "stdout",
     "output_type": "stream",
     "text": [
      "Run 9/10\n"
     ]
    },
    {
     "name": "stderr",
     "output_type": "stream",
     "text": [
      " 10%|█         | 1/10 [01:26<12:57, 86.39s/it]"
     ]
    },
    {
     "name": "stdout",
     "output_type": "stream",
     "text": [
      "Epoch 1/10, Train Loss: 0.0030, Validation Loss: 0.0029, Validation Accuracy: 0.9996\n"
     ]
    },
    {
     "name": "stderr",
     "output_type": "stream",
     "text": [
      " 20%|██        | 2/10 [02:44<10:52, 81.60s/it]"
     ]
    },
    {
     "name": "stdout",
     "output_type": "stream",
     "text": [
      "Epoch 2/10, Train Loss: 0.0030, Validation Loss: 0.0029, Validation Accuracy: 0.9996\n"
     ]
    },
    {
     "name": "stderr",
     "output_type": "stream",
     "text": [
      " 30%|███       | 3/10 [04:08<09:37, 82.51s/it]"
     ]
    },
    {
     "name": "stdout",
     "output_type": "stream",
     "text": [
      "Epoch 3/10, Train Loss: 0.0030, Validation Loss: 0.0029, Validation Accuracy: 0.9996\n"
     ]
    },
    {
     "name": "stderr",
     "output_type": "stream",
     "text": [
      " 40%|████      | 4/10 [05:28<08:09, 81.67s/it]"
     ]
    },
    {
     "name": "stdout",
     "output_type": "stream",
     "text": [
      "Epoch 4/10, Train Loss: 0.0030, Validation Loss: 0.0029, Validation Accuracy: 0.9996\n"
     ]
    },
    {
     "name": "stderr",
     "output_type": "stream",
     "text": [
      " 50%|█████     | 5/10 [06:44<06:38, 79.65s/it]"
     ]
    },
    {
     "name": "stdout",
     "output_type": "stream",
     "text": [
      "Epoch 5/10, Train Loss: 0.0030, Validation Loss: 0.0029, Validation Accuracy: 0.9996\n"
     ]
    },
    {
     "name": "stderr",
     "output_type": "stream",
     "text": [
      " 60%|██████    | 6/10 [08:01<05:15, 78.86s/it]"
     ]
    },
    {
     "name": "stdout",
     "output_type": "stream",
     "text": [
      "Epoch 6/10, Train Loss: 0.0030, Validation Loss: 0.0028, Validation Accuracy: 0.9996\n"
     ]
    },
    {
     "name": "stderr",
     "output_type": "stream",
     "text": [
      " 70%|███████   | 7/10 [09:20<03:55, 78.67s/it]"
     ]
    },
    {
     "name": "stdout",
     "output_type": "stream",
     "text": [
      "Epoch 7/10, Train Loss: 0.0030, Validation Loss: 0.0029, Validation Accuracy: 0.9996\n"
     ]
    },
    {
     "name": "stderr",
     "output_type": "stream",
     "text": [
      " 80%|████████  | 8/10 [10:47<02:42, 81.33s/it]"
     ]
    },
    {
     "name": "stdout",
     "output_type": "stream",
     "text": [
      "Epoch 8/10, Train Loss: 0.0030, Validation Loss: 0.0029, Validation Accuracy: 0.9996\n"
     ]
    },
    {
     "name": "stderr",
     "output_type": "stream",
     "text": [
      " 90%|█████████ | 9/10 [12:10<01:21, 81.76s/it]"
     ]
    },
    {
     "name": "stdout",
     "output_type": "stream",
     "text": [
      "Epoch 9/10, Train Loss: 0.0030, Validation Loss: 0.0029, Validation Accuracy: 0.9996\n"
     ]
    },
    {
     "name": "stderr",
     "output_type": "stream",
     "text": [
      "100%|██████████| 10/10 [13:32<00:00, 81.29s/it]"
     ]
    },
    {
     "name": "stdout",
     "output_type": "stream",
     "text": [
      "Epoch 10/10, Train Loss: 0.0030, Validation Loss: 0.0029, Validation Accuracy: 0.9996\n"
     ]
    },
    {
     "name": "stderr",
     "output_type": "stream",
     "text": [
      "\n"
     ]
    },
    {
     "name": "stdout",
     "output_type": "stream",
     "text": [
      "Run 10/10\n"
     ]
    },
    {
     "name": "stderr",
     "output_type": "stream",
     "text": [
      " 10%|█         | 1/10 [01:21<12:17, 81.91s/it]"
     ]
    },
    {
     "name": "stdout",
     "output_type": "stream",
     "text": [
      "Epoch 1/10, Train Loss: 0.0030, Validation Loss: 0.0029, Validation Accuracy: 0.9996\n"
     ]
    },
    {
     "name": "stderr",
     "output_type": "stream",
     "text": [
      " 20%|██        | 2/10 [02:45<11:01, 82.69s/it]"
     ]
    },
    {
     "name": "stdout",
     "output_type": "stream",
     "text": [
      "Epoch 2/10, Train Loss: 0.0030, Validation Loss: 0.0029, Validation Accuracy: 0.9996\n"
     ]
    },
    {
     "name": "stderr",
     "output_type": "stream",
     "text": [
      " 30%|███       | 3/10 [04:13<09:57, 85.37s/it]"
     ]
    },
    {
     "name": "stdout",
     "output_type": "stream",
     "text": [
      "Epoch 3/10, Train Loss: 0.0030, Validation Loss: 0.0029, Validation Accuracy: 0.9996\n"
     ]
    },
    {
     "name": "stderr",
     "output_type": "stream",
     "text": [
      " 40%|████      | 4/10 [05:38<08:31, 85.18s/it]"
     ]
    },
    {
     "name": "stdout",
     "output_type": "stream",
     "text": [
      "Epoch 4/10, Train Loss: 0.0030, Validation Loss: 0.0028, Validation Accuracy: 0.9996\n"
     ]
    },
    {
     "name": "stderr",
     "output_type": "stream",
     "text": [
      " 50%|█████     | 5/10 [07:02<07:03, 84.76s/it]"
     ]
    },
    {
     "name": "stdout",
     "output_type": "stream",
     "text": [
      "Epoch 5/10, Train Loss: 0.0030, Validation Loss: 0.0029, Validation Accuracy: 0.9996\n"
     ]
    },
    {
     "name": "stderr",
     "output_type": "stream",
     "text": [
      " 60%|██████    | 6/10 [08:35<05:50, 87.69s/it]"
     ]
    },
    {
     "name": "stdout",
     "output_type": "stream",
     "text": [
      "Epoch 6/10, Train Loss: 0.0030, Validation Loss: 0.0029, Validation Accuracy: 0.9996\n"
     ]
    },
    {
     "name": "stderr",
     "output_type": "stream",
     "text": [
      " 70%|███████   | 7/10 [09:54<04:13, 84.56s/it]"
     ]
    },
    {
     "name": "stdout",
     "output_type": "stream",
     "text": [
      "Epoch 7/10, Train Loss: 0.0030, Validation Loss: 0.0029, Validation Accuracy: 0.9996\n"
     ]
    },
    {
     "name": "stderr",
     "output_type": "stream",
     "text": [
      " 80%|████████  | 8/10 [11:25<02:53, 86.86s/it]"
     ]
    },
    {
     "name": "stdout",
     "output_type": "stream",
     "text": [
      "Epoch 8/10, Train Loss: 0.0030, Validation Loss: 0.0029, Validation Accuracy: 0.9996\n"
     ]
    },
    {
     "name": "stderr",
     "output_type": "stream",
     "text": [
      " 90%|█████████ | 9/10 [12:56<01:28, 88.13s/it]"
     ]
    },
    {
     "name": "stdout",
     "output_type": "stream",
     "text": [
      "Epoch 9/10, Train Loss: 0.0030, Validation Loss: 0.0029, Validation Accuracy: 0.9996\n"
     ]
    },
    {
     "name": "stderr",
     "output_type": "stream",
     "text": [
      "100%|██████████| 10/10 [14:16<00:00, 85.66s/it]"
     ]
    },
    {
     "name": "stdout",
     "output_type": "stream",
     "text": [
      "Epoch 10/10, Train Loss: 0.0030, Validation Loss: 0.0029, Validation Accuracy: 0.9996\n"
     ]
    },
    {
     "name": "stderr",
     "output_type": "stream",
     "text": [
      "\n"
     ]
    },
    {
     "name": "stdout",
     "output_type": "stream",
     "text": [
      "Average Test Loss: 0.0030, Variance: 0.0000\n",
      "Average Accuracy: 0.9996, Variance: 0.0000\n",
      "Average Precision: 0.9719, Variance: 0.0000\n",
      "Average Recall: 0.7031, Variance: 0.0000\n",
      "Average F1 Score: 0.8159, Variance: 0.0000\n"
     ]
    }
   ],
   "source": [
    "# Number of runs\n",
    "k = 10\n",
    "\n",
    "# Lists to store results\n",
    "test_losses = []\n",
    "accuracies = []\n",
    "precisions = []\n",
    "recalls = []\n",
    "f1_scores = []\n",
    "\n",
    "for i in range(k):\n",
    "    print(f'Run {i+1}/{k}')\n",
    "    \n",
    "    # Train the model\n",
    "    train(cnn, train_loader, val_loader, criterion, optimizer, num_epochs=10)\n",
    "    \n",
    "    # Test the model\n",
    "    test_loss, accuracy, report = test(cnn, test_loader, criterion)\n",
    "    \n",
    "    # Store results\n",
    "    test_losses.append(test_loss)\n",
    "    accuracies.append(accuracy)\n",
    "    precisions.append(report['Class 1']['precision'])\n",
    "    recalls.append(report['Class 1']['recall'])\n",
    "    f1_scores.append(report['Class 1']['f1-score'])\n",
    "\n",
    "# Calculate average and variance for each metric\n",
    "avg_test_loss = np.mean(test_losses)\n",
    "var_test_loss = np.var(test_losses)\n",
    "avg_accuracy = np.mean(accuracies)\n",
    "var_accuracy = np.var(accuracies)\n",
    "avg_precision = np.mean(precisions)\n",
    "var_precision = np.var(precisions)\n",
    "avg_recall = np.mean(recalls)\n",
    "var_recall = np.var(recalls)\n",
    "avg_f1 = np.mean(f1_scores)\n",
    "var_f1 = np.var(f1_scores)\n",
    "\n",
    "print(f'Average Test Loss: {avg_test_loss:.4f}, Variance: {var_test_loss:.4f}')\n",
    "print(f'Average Accuracy: {avg_accuracy:.4f}, Variance: {var_accuracy:.4f}')\n",
    "print(f'Average Precision: {avg_precision:.4f}, Variance: {var_precision:.4f}')\n",
    "print(f'Average Recall: {avg_recall:.4f}, Variance: {var_recall:.4f}')\n",
    "print(f'Average F1 Score: {avg_f1:.4f}, Variance: {var_f1:.4f}')"
   ]
  },
  {
   "cell_type": "code",
   "execution_count": 112,
   "metadata": {},
   "outputs": [],
   "source": [
    "# Training function\n",
    "def train(model, train_loader, val_loader, criterion, optimizer, num_epochs=20):\n",
    "    for epoch in tqdm.tqdm(range(num_epochs)):\n",
    "        model.train()\n",
    "        train_loss = 0.0\n",
    "\n",
    "        for inputs, targets in train_loader:\n",
    "            optimizer.zero_grad()\n",
    "            outputs = model(inputs)\n",
    "            loss = criterion(outputs, targets)\n",
    "            loss.backward()\n",
    "            optimizer.step()\n",
    "            train_loss += loss.item() * inputs.size(0)\n",
    "\n",
    "        train_loss = train_loss / len(train_loader.dataset)\n",
    "\n",
    "        model.eval()\n",
    "        val_loss = 0.0\n",
    "        correct = 0\n",
    "\n",
    "        with torch.no_grad():\n",
    "            for inputs, targets in val_loader:\n",
    "                outputs = model(inputs)\n",
    "                loss = criterion(outputs, targets)\n",
    "                val_loss += loss.item() * inputs.size(0)\n",
    "                predicted = (outputs > 0.5).float()\n",
    "                correct += (predicted == targets).sum().item()\n",
    "\n",
    "        val_loss = val_loss / len(val_loader.dataset)\n",
    "        val_accuracy = correct / len(val_loader.dataset)\n",
    "\n",
    "        print(f'Epoch {epoch+1}/{num_epochs}, Train Loss: {train_loss:.4f}, Validation Loss: {val_loss:.4f}, Validation Accuracy: {val_accuracy:.4f}')\n",
    "        \n",
    "\n",
    "# Train the model\n",
    "train(cnn, train_loader, val_loader, criterion, optimizer, num_epochs=20)"
   ]
  },
  {
   "cell_type": "code",
   "execution_count": 143,
   "metadata": {},
   "outputs": [],
   "source": [
    "from sklearn.metrics import classification_report\n",
    "\n",
    "def test(model, test_loader, criterion):\n",
    "    model.eval()\n",
    "    test_loss = 0.0\n",
    "    all_targets = []\n",
    "    all_predictions = []\n",
    "\n",
    "    with torch.no_grad():\n",
    "        for inputs, targets in test_loader:\n",
    "            outputs = model(inputs)\n",
    "            loss = criterion(outputs, targets)\n",
    "            test_loss += loss.item() * inputs.size(0)\n",
    "            predicted = (outputs > 0.5).float()\n",
    "            all_targets.extend(targets.cpu().numpy())\n",
    "            all_predictions.extend(predicted.cpu().numpy())\n",
    "\n",
    "    test_loss = test_loss / len(test_loader.dataset)\n",
    "    \n",
    "    # Convert lists to numpy arrays\n",
    "    all_targets = np.array(all_targets)\n",
    "    all_predictions = np.array(all_predictions)\n",
    "    \n",
    "    # Generate classification report\n",
    "    report = classification_report(all_targets, all_predictions, target_names=['Class 0', 'Class 1'], output_dict=True)\n",
    "    accuracy = (all_predictions == all_targets).mean()\n",
    "\n",
    "    return test_loss, accuracy, report\n",
    "\n",
    "\n",
    "# Test the model\n",
    "# test(cnn, test_loader)"
   ]
  },
  {
   "cell_type": "code",
   "execution_count": 90,
   "metadata": {},
   "outputs": [
    {
     "name": "stdout",
     "output_type": "stream",
     "text": [
      "logit(P(Y=1)) = -5.1013 + (-0.9391 * X_1) + (0.2620 * X_2) + (-1.1056 * X_3) + (-1.1382 * X_4) + (-0.3676 * X_5) + (-0.3211 * X_6) + (0.3313 * X_7) + (0.2534 * X_8) + (-0.0791 * X_9) + (0.2676 * X_10) + (0.0532 * X_11) + (-0.0806 * X_12) + (-0.2201 * X_13) + (-0.4564 * X_14) + (0.0018 * X_15) + (-4.4678 * X_16) + (3.8521 * X_17) + (-2.0720 * X_18) + (-2.5132 * X_19) + (1.3952 * X_20) + (-0.9791 * X_21) + (-4.0344 * X_22) + (1.6637 * X_23)\n"
     ]
    }
   ],
   "source": [
    "\n",
    "# Extract coefficients and intercept\n",
    "intercept = classifiers[2].intercept_[0]\n",
    "coefficients = classifiers[2].coef_[0]\n",
    "\n",
    "# Construct the symbolic formula\n",
    "formula = f\"logit(P(Y=1)) = {intercept:.4f}\"\n",
    "for i, coef in enumerate(coefficients):\n",
    "    formula += f\" + ({coef:.4f} * X_{i+1})\"\n",
    "\n",
    "# Display the formula\n",
    "print(formula)"
   ]
  },
  {
   "cell_type": "code",
   "execution_count": 20,
   "metadata": {},
   "outputs": [
    {
     "data": {
      "text/plain": [
       "array([0., 0., 0., 0., 0., 0., 0., 0., 0., 0., 0., 0., 0., 0., 0., 0., 0.,\n",
       "       0., 1.])"
      ]
     },
     "execution_count": 20,
     "metadata": {},
     "output_type": "execute_result"
    }
   ],
   "source": [
    "dtc.feature_importances_"
   ]
  },
  {
   "cell_type": "code",
   "execution_count": 54,
   "metadata": {},
   "outputs": [
    {
     "data": {
      "image/png": "[encoded data removed]",
      "text/plain": [
       "<Figure size 640x480 with 1 Axes>"
      ]
     },
     "metadata": {},
     "output_type": "display_data"
    }
   ],
   "source": [
    "plt.plot(results['train_loss'], label='train')\n",
    "plt.plot(results['test_loss'], label='test')\n",
    "plt.legend()\n",
    "plt.show()"
   ]
  },
  {
   "cell_type": "code",
   "execution_count": 55,
   "metadata": {},
   "outputs": [
    {
     "name": "stdout",
     "output_type": "stream",
     "text": [
      "fixing (0,0,0) with sqrt, r2=0.917535388231165\n",
      "fixing (0,0,1) with sqrt, r2=0.9180908718650783\n",
      "fixing (0,0,2) with sqrt, r2=0.942974390372591\n",
      "fixing (0,0,3) with sqrt, r2=0.9548610360646217\n",
      "fixing (0,0,4) with sqrt, r2=0.8367169410661347\n",
      "fixing (0,1,0) with sqrt, r2=0.6445910861390883\n",
      "fixing (0,1,1) with sqrt, r2=0.9807236991691809\n",
      "fixing (0,1,2) with sqrt, r2=0.977705931950135\n",
      "fixing (0,1,3) with sqrt, r2=0.978326014292258\n",
      "fixing (0,1,4) with sqrt, r2=0.983487419088044\n",
      "fixing (0,2,0) with sqrt, r2=0.9995003036872531\n",
      "fixing (0,2,1) with sqrt, r2=0.9899030349628017\n",
      "fixing (0,2,2) with sqrt, r2=0.9914904720695717\n",
      "fixing (0,2,3) with sqrt, r2=0.9789197411374078\n",
      "fixing (0,2,4) with sqrt, r2=0.9895943970023083\n",
      "fixing (0,3,0) with sqrt, r2=0.9847701291384038\n",
      "fixing (0,3,1) with sqrt, r2=0.9925530153715035\n",
      "fixing (0,3,2) with sqrt, r2=0.9923436686034277\n",
      "fixing (0,3,3) with sqrt, r2=0.9926403410824165\n",
      "fixing (0,3,4) with sqrt, r2=0.9925482062604731\n",
      "fixing (0,4,0) with sqrt, r2=0.9915189266653502\n",
      "fixing (0,4,1) with sqrt, r2=0.9815740225061667\n",
      "fixing (0,4,2) with sqrt, r2=0.9908893674928391\n",
      "fixing (0,4,3) with sqrt, r2=0.9921239955525145\n",
      "fixing (0,4,4) with sqrt, r2=0.9911589837891599\n",
      "fixing (0,5,0) with sqrt, r2=0.9934692577018911\n",
      "fixing (0,5,1) with sqrt, r2=0.990754403236779\n",
      "fixing (0,5,2) with sqrt, r2=0.9911378588454207\n",
      "fixing (0,5,3) with sqrt, r2=0.9908807145284776\n",
      "fixing (0,5,4) with sqrt, r2=0.9905081427413259\n",
      "fixing (0,6,0) with sqrt, r2=0.9743025691177406\n",
      "fixing (0,6,1) with sqrt, r2=0.2125013967795508\n",
      "fixing (0,6,2) with sqrt, r2=0.9730187906925662\n",
      "fixing (0,6,3) with sqrt, r2=0.4323003678775269\n",
      "fixing (0,6,4) with sqrt, r2=0.9760400540822045\n",
      "fixing (0,7,0) with sqrt, r2=0.9638485389530204\n",
      "fixing (0,7,1) with sqrt, r2=0.969468837967033\n",
      "fixing (0,7,2) with sqrt, r2=0.9849344459524138\n",
      "fixing (0,7,3) with sqrt, r2=0.9855745446438792\n",
      "fixing (0,7,4) with sqrt, r2=0.9894716569472728\n",
      "fixing (0,8,0) with sqrt, r2=0.9793531508182451\n",
      "fixing (0,8,1) with sqrt, r2=0.9709802130002005\n",
      "fixing (0,8,2) with sqrt, r2=0.9798016092321222\n",
      "fixing (0,8,3) with sqrt, r2=0.9722142769133113\n",
      "fixing (0,8,4) with sqrt, r2=0.9796735218092443\n",
      "fixing (0,9,0) with sqrt, r2=0.5225412203478438\n",
      "fixing (0,9,1) with sqrt, r2=0.23390827755647964\n",
      "fixing (0,9,2) with sqrt, r2=0.748757139083847\n",
      "fixing (0,9,3) with sqrt, r2=0.9859988467336095\n",
      "fixing (0,9,4) with sqrt, r2=0.9724964147763289\n",
      "fixing (0,10,0) with sqrt, r2=0.5068024997710651\n",
      "fixing (0,10,1) with sqrt, r2=0.3128567276405522\n",
      "fixing (0,10,2) with sqrt, r2=0.7984512948989925\n",
      "fixing (0,10,3) with sqrt, r2=0.7762855289189527\n",
      "fixing (0,10,4) with sqrt, r2=0.4308374683549794\n",
      "fixing (0,11,0) with sqrt, r2=0.4778239876257114\n",
      "fixing (0,11,1) with sqrt, r2=0.7053574598099005\n",
      "fixing (0,11,2) with sqrt, r2=0.41656417278983976\n",
      "fixing (0,11,3) with sqrt, r2=0.971914957337566\n",
      "fixing (0,11,4) with sqrt, r2=0.5394652610833988\n",
      "fixing (0,12,0) with sqrt, r2=0.9734000980628309\n",
      "fixing (0,12,1) with sqrt, r2=0.9771881841072609\n",
      "fixing (0,12,2) with sqrt, r2=0.9701845419584378\n",
      "fixing (0,12,3) with sqrt, r2=0.9933658622357869\n",
      "fixing (0,12,4) with sqrt, r2=0.9534721221173547\n",
      "fixing (0,13,0) with sqrt, r2=0.9789575117904937\n",
      "fixing (0,13,1) with sqrt, r2=0.9769827191497241\n",
      "fixing (0,13,2) with sqrt, r2=0.9713840067667882\n",
      "fixing (0,13,3) with sqrt, r2=0.9813638476787316\n",
      "fixing (0,13,4) with sqrt, r2=0.9866767341486145\n",
      "fixing (0,14,0) with sqrt, r2=0.9987144842663481\n",
      "fixing (0,14,1) with sqrt, r2=0.9976999783336071\n",
      "fixing (0,14,2) with sqrt, r2=0.9974979440825549\n",
      "fixing (0,14,3) with sqrt, r2=0.9977182137417905\n",
      "fixing (0,14,4) with sqrt, r2=0.9966343550257436\n",
      "fixing (0,15,0) with sqrt, r2=0.0\n",
      "fixing (0,15,1) with sqrt, r2=1.2601605937668812e-49\n",
      "fixing (0,15,2) with sqrt, r2=3.150401484417203e-50\n",
      "fixing (0,15,3) with sqrt, r2=1.2601605937668812e-49\n",
      "fixing (0,15,4) with sqrt, r2=7.876003711043007e-51\n",
      "fixing (0,16,0) with sqrt, r2=0.9999999999569047\n",
      "fixing (0,16,1) with sqrt, r2=0.9999999999212287\n",
      "fixing (0,16,2) with sqrt, r2=0.9999999960976136\n",
      "fixing (0,16,3) with sqrt, r2=0.9999999999168324\n",
      "fixing (0,16,4) with sqrt, r2=0.9999999999966552\n",
      "fixing (0,17,0) with sqrt, r2=0.9999999999776001\n",
      "fixing (0,17,1) with sqrt, r2=0.9999999999740137\n",
      "fixing (0,17,2) with sqrt, r2=0.9999999997162144\n",
      "fixing (0,17,3) with sqrt, r2=0.999999995488849\n",
      "fixing (0,17,4) with sqrt, r2=0.9999999998047833\n",
      "fixing (0,18,0) with sqrt, r2=0.999999958352447\n",
      "fixing (0,18,1) with sqrt, r2=0.9999997284986729\n",
      "fixing (0,18,2) with sqrt, r2=0.9999999868349542\n",
      "fixing (0,18,3) with sqrt, r2=0.999999898183536\n",
      "fixing (0,18,4) with sqrt, r2=0.9999999681650608\n",
      "fixing (1,0,0) with sqrt, r2=0.19447273052501468\n",
      "fixing (1,0,1) with sqrt, r2=0.28853555308091644\n",
      "fixing (1,0,2) with sqrt, r2=0.5308592197803608\n",
      "fixing (1,0,3) with sqrt, r2=0.8837966676549844\n",
      "fixing (1,1,0) with sqrt, r2=0.04264930226458984\n",
      "fixing (1,1,1) with sqrt, r2=0.04386906747685038\n",
      "fixing (1,1,2) with sqrt, r2=0.04317075566395808\n",
      "fixing (1,1,3) with sqrt, r2=0.04321970595730971\n",
      "fixing (1,2,0) with sqrt, r2=0.026875060952390974\n",
      "fixing (1,2,1) with sqrt, r2=0.10327060286568161\n",
      "fixing (1,2,2) with sqrt, r2=0.4046014473804846\n",
      "fixing (1,2,3) with sqrt, r2=0.25498181788652713\n",
      "fixing (1,3,0) with sqrt, r2=0.19723229815369306\n",
      "fixing (1,3,1) with sqrt, r2=0.19723229810486004\n",
      "fixing (1,3,2) with sqrt, r2=0.19723229809285062\n",
      "fixing (1,3,3) with sqrt, r2=0.1972322980354447\n",
      "fixing (1,4,0) with sqrt, r2=0.05711834095928882\n",
      "fixing (1,4,1) with sqrt, r2=0.057118340368099776\n",
      "fixing (1,4,2) with sqrt, r2=0.05711833991781413\n",
      "fixing (1,4,3) with sqrt, r2=0.05711834065249809\n",
      "fixing (2,0,0) with sqrt, r2=0.0\n",
      "fixing (2,0,1) with sqrt, r2=0.0\n",
      "fixing (2,0,2) with sqrt, r2=0.0\n",
      "fixing (2,1,0) with sqrt, r2=0.0\n",
      "fixing (2,1,1) with sqrt, r2=0.0\n",
      "fixing (2,1,2) with sqrt, r2=0.0\n",
      "fixing (2,2,0) with sqrt, r2=0.6524888820587349\n",
      "fixing (2,2,1) with sqrt, r2=0.6892699450193652\n",
      "fixing (2,2,2) with sqrt, r2=0.6683133415969938\n",
      "fixing (2,3,0) with sqrt, r2=0.0\n",
      "fixing (2,3,1) with sqrt, r2=0.0\n",
      "fixing (2,3,2) with sqrt, r2=0.0\n",
      "fixing (3,0,0) with sqrt, r2=0.9688211793452994\n",
      "fixing (3,0,1) with sqrt, r2=0.9686805430927918\n",
      "fixing (3,1,0) with sqrt, r2=0.01702218846821247\n",
      "fixing (3,1,1) with sqrt, r2=0.017030337502937032\n",
      "fixing (3,2,0) with sqrt, r2=0.027648049925535132\n",
      "fixing (3,2,1) with sqrt, r2=0.027709513107468938\n"
     ]
    },
    {
     "ename": "KeyboardInterrupt",
     "evalue": "",
     "output_type": "error",
     "traceback": [
      "\u001b[0;31m---------------------------------------------------------------------------\u001b[0m",
      "\u001b[0;31mKeyboardInterrupt\u001b[0m                         Traceback (most recent call last)",
      "Cell \u001b[0;32mIn[55], line 4\u001b[0m\n\u001b[1;32m      2\u001b[0m model\u001b[38;5;241m.\u001b[39mprune()\n\u001b[1;32m      3\u001b[0m model\u001b[38;5;241m.\u001b[39mauto_symbolic(lib\u001b[38;5;241m=\u001b[39mlib)\n\u001b[0;32m----> 4\u001b[0m \u001b[43mmodel\u001b[49m\u001b[38;5;241;43m.\u001b[39;49m\u001b[43msymbolic_formula\u001b[49m\u001b[43m(\u001b[49m\u001b[43m)\u001b[49m\n",
      "File \u001b[0;32m~/Desktop/symbolic classifciation/kan/KAN.py:1287\u001b[0m, in \u001b[0;36mKAN.symbolic_formula\u001b[0;34m(self, floating_digit, var, normalizer, simplify, output_normalizer)\u001b[0m\n\u001b[1;32m   1282\u001b[0m     output_layer \u001b[38;5;241m=\u001b[39m [(output_layer[i] \u001b[38;5;241m*\u001b[39m stds[i] \u001b[38;5;241m+\u001b[39m means[i]) \u001b[38;5;28;01mfor\u001b[39;00m i \u001b[38;5;129;01min\u001b[39;00m \u001b[38;5;28mrange\u001b[39m(\u001b[38;5;28mlen\u001b[39m(output_layer))]\n\u001b[1;32m   1283\u001b[0m     symbolic_acts[\u001b[38;5;241m-\u001b[39m\u001b[38;5;241m1\u001b[39m] \u001b[38;5;241m=\u001b[39m output_layer\n\u001b[0;32m-> 1287\u001b[0m \u001b[38;5;28mself\u001b[39m\u001b[38;5;241m.\u001b[39msymbolic_acts \u001b[38;5;241m=\u001b[39m \u001b[43m[\u001b[49m\u001b[43m[\u001b[49m\u001b[43mex_round\u001b[49m\u001b[43m(\u001b[49m\u001b[43msymbolic_acts\u001b[49m\u001b[43m[\u001b[49m\u001b[43ml\u001b[49m\u001b[43m]\u001b[49m\u001b[43m[\u001b[49m\u001b[43mi\u001b[49m\u001b[43m]\u001b[49m\u001b[43m)\u001b[49m\u001b[43m \u001b[49m\u001b[38;5;28;43;01mfor\u001b[39;49;00m\u001b[43m \u001b[49m\u001b[43mi\u001b[49m\u001b[43m \u001b[49m\u001b[38;5;129;43;01min\u001b[39;49;00m\u001b[43m \u001b[49m\u001b[38;5;28;43mrange\u001b[39;49m\u001b[43m(\u001b[49m\u001b[38;5;28;43mlen\u001b[39;49m\u001b[43m(\u001b[49m\u001b[43msymbolic_acts\u001b[49m\u001b[43m[\u001b[49m\u001b[43ml\u001b[49m\u001b[43m]\u001b[49m\u001b[43m)\u001b[49m\u001b[43m)\u001b[49m\u001b[43m]\u001b[49m\u001b[43m \u001b[49m\u001b[38;5;28;43;01mfor\u001b[39;49;00m\u001b[43m \u001b[49m\u001b[43ml\u001b[49m\u001b[43m \u001b[49m\u001b[38;5;129;43;01min\u001b[39;49;00m\u001b[43m \u001b[49m\u001b[38;5;28;43mrange\u001b[39;49m\u001b[43m(\u001b[49m\u001b[38;5;28;43mlen\u001b[39;49m\u001b[43m(\u001b[49m\u001b[43msymbolic_acts\u001b[49m\u001b[43m)\u001b[49m\u001b[43m)\u001b[49m\u001b[43m]\u001b[49m\n\u001b[1;32m   1289\u001b[0m out_dim \u001b[38;5;241m=\u001b[39m \u001b[38;5;28mlen\u001b[39m(symbolic_acts[\u001b[38;5;241m-\u001b[39m\u001b[38;5;241m1\u001b[39m])\n\u001b[1;32m   1290\u001b[0m \u001b[38;5;28;01mreturn\u001b[39;00m [ex_round(symbolic_acts[\u001b[38;5;241m-\u001b[39m\u001b[38;5;241m1\u001b[39m][i]) \u001b[38;5;28;01mfor\u001b[39;00m i \u001b[38;5;129;01min\u001b[39;00m \u001b[38;5;28mrange\u001b[39m(\u001b[38;5;28mlen\u001b[39m(symbolic_acts[\u001b[38;5;241m-\u001b[39m\u001b[38;5;241m1\u001b[39m]))], x0\n",
      "File \u001b[0;32m~/Desktop/symbolic classifciation/kan/KAN.py:1287\u001b[0m, in \u001b[0;36m<listcomp>\u001b[0;34m(.0)\u001b[0m\n\u001b[1;32m   1282\u001b[0m     output_layer \u001b[38;5;241m=\u001b[39m [(output_layer[i] \u001b[38;5;241m*\u001b[39m stds[i] \u001b[38;5;241m+\u001b[39m means[i]) \u001b[38;5;28;01mfor\u001b[39;00m i \u001b[38;5;129;01min\u001b[39;00m \u001b[38;5;28mrange\u001b[39m(\u001b[38;5;28mlen\u001b[39m(output_layer))]\n\u001b[1;32m   1283\u001b[0m     symbolic_acts[\u001b[38;5;241m-\u001b[39m\u001b[38;5;241m1\u001b[39m] \u001b[38;5;241m=\u001b[39m output_layer\n\u001b[0;32m-> 1287\u001b[0m \u001b[38;5;28mself\u001b[39m\u001b[38;5;241m.\u001b[39msymbolic_acts \u001b[38;5;241m=\u001b[39m [\u001b[43m[\u001b[49m\u001b[43mex_round\u001b[49m\u001b[43m(\u001b[49m\u001b[43msymbolic_acts\u001b[49m\u001b[43m[\u001b[49m\u001b[43ml\u001b[49m\u001b[43m]\u001b[49m\u001b[43m[\u001b[49m\u001b[43mi\u001b[49m\u001b[43m]\u001b[49m\u001b[43m)\u001b[49m\u001b[43m \u001b[49m\u001b[38;5;28;43;01mfor\u001b[39;49;00m\u001b[43m \u001b[49m\u001b[43mi\u001b[49m\u001b[43m \u001b[49m\u001b[38;5;129;43;01min\u001b[39;49;00m\u001b[43m \u001b[49m\u001b[38;5;28;43mrange\u001b[39;49m\u001b[43m(\u001b[49m\u001b[38;5;28;43mlen\u001b[39;49m\u001b[43m(\u001b[49m\u001b[43msymbolic_acts\u001b[49m\u001b[43m[\u001b[49m\u001b[43ml\u001b[49m\u001b[43m]\u001b[49m\u001b[43m)\u001b[49m\u001b[43m)\u001b[49m\u001b[43m]\u001b[49m \u001b[38;5;28;01mfor\u001b[39;00m l \u001b[38;5;129;01min\u001b[39;00m \u001b[38;5;28mrange\u001b[39m(\u001b[38;5;28mlen\u001b[39m(symbolic_acts))]\n\u001b[1;32m   1289\u001b[0m out_dim \u001b[38;5;241m=\u001b[39m \u001b[38;5;28mlen\u001b[39m(symbolic_acts[\u001b[38;5;241m-\u001b[39m\u001b[38;5;241m1\u001b[39m])\n\u001b[1;32m   1290\u001b[0m \u001b[38;5;28;01mreturn\u001b[39;00m [ex_round(symbolic_acts[\u001b[38;5;241m-\u001b[39m\u001b[38;5;241m1\u001b[39m][i]) \u001b[38;5;28;01mfor\u001b[39;00m i \u001b[38;5;129;01min\u001b[39;00m \u001b[38;5;28mrange\u001b[39m(\u001b[38;5;28mlen\u001b[39m(symbolic_acts[\u001b[38;5;241m-\u001b[39m\u001b[38;5;241m1\u001b[39m]))], x0\n",
      "File \u001b[0;32m~/Desktop/symbolic classifciation/kan/KAN.py:1287\u001b[0m, in \u001b[0;36m<listcomp>\u001b[0;34m(.0)\u001b[0m\n\u001b[1;32m   1282\u001b[0m     output_layer \u001b[38;5;241m=\u001b[39m [(output_layer[i] \u001b[38;5;241m*\u001b[39m stds[i] \u001b[38;5;241m+\u001b[39m means[i]) \u001b[38;5;28;01mfor\u001b[39;00m i \u001b[38;5;129;01min\u001b[39;00m \u001b[38;5;28mrange\u001b[39m(\u001b[38;5;28mlen\u001b[39m(output_layer))]\n\u001b[1;32m   1283\u001b[0m     symbolic_acts[\u001b[38;5;241m-\u001b[39m\u001b[38;5;241m1\u001b[39m] \u001b[38;5;241m=\u001b[39m output_layer\n\u001b[0;32m-> 1287\u001b[0m \u001b[38;5;28mself\u001b[39m\u001b[38;5;241m.\u001b[39msymbolic_acts \u001b[38;5;241m=\u001b[39m [[\u001b[43mex_round\u001b[49m\u001b[43m(\u001b[49m\u001b[43msymbolic_acts\u001b[49m\u001b[43m[\u001b[49m\u001b[43ml\u001b[49m\u001b[43m]\u001b[49m\u001b[43m[\u001b[49m\u001b[43mi\u001b[49m\u001b[43m]\u001b[49m\u001b[43m)\u001b[49m \u001b[38;5;28;01mfor\u001b[39;00m i \u001b[38;5;129;01min\u001b[39;00m \u001b[38;5;28mrange\u001b[39m(\u001b[38;5;28mlen\u001b[39m(symbolic_acts[l]))] \u001b[38;5;28;01mfor\u001b[39;00m l \u001b[38;5;129;01min\u001b[39;00m \u001b[38;5;28mrange\u001b[39m(\u001b[38;5;28mlen\u001b[39m(symbolic_acts))]\n\u001b[1;32m   1289\u001b[0m out_dim \u001b[38;5;241m=\u001b[39m \u001b[38;5;28mlen\u001b[39m(symbolic_acts[\u001b[38;5;241m-\u001b[39m\u001b[38;5;241m1\u001b[39m])\n\u001b[1;32m   1290\u001b[0m \u001b[38;5;28;01mreturn\u001b[39;00m [ex_round(symbolic_acts[\u001b[38;5;241m-\u001b[39m\u001b[38;5;241m1\u001b[39m][i]) \u001b[38;5;28;01mfor\u001b[39;00m i \u001b[38;5;129;01min\u001b[39;00m \u001b[38;5;28mrange\u001b[39m(\u001b[38;5;28mlen\u001b[39m(symbolic_acts[\u001b[38;5;241m-\u001b[39m\u001b[38;5;241m1\u001b[39m]))], x0\n",
      "File \u001b[0;32m~/Desktop/symbolic classifciation/kan/KAN.py:1234\u001b[0m, in \u001b[0;36mKAN.symbolic_formula.<locals>.ex_round\u001b[0;34m(ex1, floating_digit)\u001b[0m\n\u001b[1;32m   1232\u001b[0m \u001b[38;5;28;01mfor\u001b[39;00m a \u001b[38;5;129;01min\u001b[39;00m sympy\u001b[38;5;241m.\u001b[39mpreorder_traversal(ex1):\n\u001b[1;32m   1233\u001b[0m     \u001b[38;5;28;01mif\u001b[39;00m \u001b[38;5;28misinstance\u001b[39m(a, sympy\u001b[38;5;241m.\u001b[39mFloat):\n\u001b[0;32m-> 1234\u001b[0m         ex2 \u001b[38;5;241m=\u001b[39m \u001b[43mex2\u001b[49m\u001b[38;5;241;43m.\u001b[39;49m\u001b[43msubs\u001b[49m\u001b[43m(\u001b[49m\u001b[43ma\u001b[49m\u001b[43m,\u001b[49m\u001b[43m \u001b[49m\u001b[38;5;28;43mround\u001b[39;49m\u001b[43m(\u001b[49m\u001b[43ma\u001b[49m\u001b[43m,\u001b[49m\u001b[43m \u001b[49m\u001b[43mfloating_digit\u001b[49m\u001b[43m)\u001b[49m\u001b[43m)\u001b[49m\n\u001b[1;32m   1235\u001b[0m \u001b[38;5;28;01mreturn\u001b[39;00m ex2\n",
      "File \u001b[0;32m~/Desktop/MSc Scriptie/code/gflow/lib/python3.11/site-packages/sympy/core/basic.py:1040\u001b[0m, in \u001b[0;36mBasic.subs\u001b[0;34m(self, *args, **kwargs)\u001b[0m\n\u001b[1;32m   1038\u001b[0m rv \u001b[38;5;241m=\u001b[39m \u001b[38;5;28mself\u001b[39m\n\u001b[1;32m   1039\u001b[0m \u001b[38;5;28;01mfor\u001b[39;00m old, new \u001b[38;5;129;01min\u001b[39;00m sequence:\n\u001b[0;32m-> 1040\u001b[0m     rv \u001b[38;5;241m=\u001b[39m \u001b[43mrv\u001b[49m\u001b[38;5;241;43m.\u001b[39;49m\u001b[43m_subs\u001b[49m\u001b[43m(\u001b[49m\u001b[43mold\u001b[49m\u001b[43m,\u001b[49m\u001b[43m \u001b[49m\u001b[43mnew\u001b[49m\u001b[43m,\u001b[49m\u001b[43m \u001b[49m\u001b[38;5;241;43m*\u001b[39;49m\u001b[38;5;241;43m*\u001b[39;49m\u001b[43mkwargs\u001b[49m\u001b[43m)\u001b[49m\n\u001b[1;32m   1041\u001b[0m     \u001b[38;5;28;01mif\u001b[39;00m \u001b[38;5;129;01mnot\u001b[39;00m \u001b[38;5;28misinstance\u001b[39m(rv, Basic):\n\u001b[1;32m   1042\u001b[0m         \u001b[38;5;28;01mbreak\u001b[39;00m\n",
      "File \u001b[0;32m~/Desktop/MSc Scriptie/code/gflow/lib/python3.11/site-packages/sympy/core/cache.py:72\u001b[0m, in \u001b[0;36m__cacheit.<locals>.func_wrapper.<locals>.wrapper\u001b[0;34m(*args, **kwargs)\u001b[0m\n\u001b[1;32m     69\u001b[0m \u001b[38;5;129m@wraps\u001b[39m(func)\n\u001b[1;32m     70\u001b[0m \u001b[38;5;28;01mdef\u001b[39;00m \u001b[38;5;21mwrapper\u001b[39m(\u001b[38;5;241m*\u001b[39margs, \u001b[38;5;241m*\u001b[39m\u001b[38;5;241m*\u001b[39mkwargs):\n\u001b[1;32m     71\u001b[0m     \u001b[38;5;28;01mtry\u001b[39;00m:\n\u001b[0;32m---> 72\u001b[0m         retval \u001b[38;5;241m=\u001b[39m \u001b[43mcfunc\u001b[49m\u001b[43m(\u001b[49m\u001b[38;5;241;43m*\u001b[39;49m\u001b[43margs\u001b[49m\u001b[43m,\u001b[49m\u001b[43m \u001b[49m\u001b[38;5;241;43m*\u001b[39;49m\u001b[38;5;241;43m*\u001b[39;49m\u001b[43mkwargs\u001b[49m\u001b[43m)\u001b[49m\n\u001b[1;32m     73\u001b[0m     \u001b[38;5;28;01mexcept\u001b[39;00m \u001b[38;5;167;01mTypeError\u001b[39;00m \u001b[38;5;28;01mas\u001b[39;00m e:\n\u001b[1;32m     74\u001b[0m         \u001b[38;5;28;01mif\u001b[39;00m \u001b[38;5;129;01mnot\u001b[39;00m e\u001b[38;5;241m.\u001b[39margs \u001b[38;5;129;01mor\u001b[39;00m \u001b[38;5;129;01mnot\u001b[39;00m e\u001b[38;5;241m.\u001b[39margs[\u001b[38;5;241m0\u001b[39m]\u001b[38;5;241m.\u001b[39mstartswith(\u001b[38;5;124m'\u001b[39m\u001b[38;5;124munhashable type:\u001b[39m\u001b[38;5;124m'\u001b[39m):\n",
      "File \u001b[0;32m~/Desktop/MSc Scriptie/code/gflow/lib/python3.11/site-packages/sympy/core/basic.py:1154\u001b[0m, in \u001b[0;36mBasic._subs\u001b[0;34m(self, old, new, **hints)\u001b[0m\n\u001b[1;32m   1152\u001b[0m rv \u001b[38;5;241m=\u001b[39m \u001b[38;5;28mself\u001b[39m\u001b[38;5;241m.\u001b[39m_eval_subs(old, new)\n\u001b[1;32m   1153\u001b[0m \u001b[38;5;28;01mif\u001b[39;00m rv \u001b[38;5;129;01mis\u001b[39;00m \u001b[38;5;28;01mNone\u001b[39;00m:\n\u001b[0;32m-> 1154\u001b[0m     rv \u001b[38;5;241m=\u001b[39m \u001b[43mfallback\u001b[49m\u001b[43m(\u001b[49m\u001b[38;5;28;43mself\u001b[39;49m\u001b[43m,\u001b[49m\u001b[43m \u001b[49m\u001b[43mold\u001b[49m\u001b[43m,\u001b[49m\u001b[43m \u001b[49m\u001b[43mnew\u001b[49m\u001b[43m)\u001b[49m\n\u001b[1;32m   1155\u001b[0m \u001b[38;5;28;01mreturn\u001b[39;00m rv\n",
      "File \u001b[0;32m~/Desktop/MSc Scriptie/code/gflow/lib/python3.11/site-packages/sympy/core/basic.py:1126\u001b[0m, in \u001b[0;36mBasic._subs.<locals>.fallback\u001b[0;34m(self, old, new)\u001b[0m\n\u001b[1;32m   1124\u001b[0m \u001b[38;5;28;01mif\u001b[39;00m \u001b[38;5;129;01mnot\u001b[39;00m \u001b[38;5;28mhasattr\u001b[39m(arg, \u001b[38;5;124m'\u001b[39m\u001b[38;5;124m_eval_subs\u001b[39m\u001b[38;5;124m'\u001b[39m):\n\u001b[1;32m   1125\u001b[0m     \u001b[38;5;28;01mcontinue\u001b[39;00m\n\u001b[0;32m-> 1126\u001b[0m arg \u001b[38;5;241m=\u001b[39m \u001b[43marg\u001b[49m\u001b[38;5;241;43m.\u001b[39;49m\u001b[43m_subs\u001b[49m\u001b[43m(\u001b[49m\u001b[43mold\u001b[49m\u001b[43m,\u001b[49m\u001b[43m \u001b[49m\u001b[43mnew\u001b[49m\u001b[43m,\u001b[49m\u001b[43m \u001b[49m\u001b[38;5;241;43m*\u001b[39;49m\u001b[38;5;241;43m*\u001b[39;49m\u001b[43mhints\u001b[49m\u001b[43m)\u001b[49m\n\u001b[1;32m   1127\u001b[0m \u001b[38;5;28;01mif\u001b[39;00m \u001b[38;5;129;01mnot\u001b[39;00m _aresame(arg, args[i]):\n\u001b[1;32m   1128\u001b[0m     hit \u001b[38;5;241m=\u001b[39m \u001b[38;5;28;01mTrue\u001b[39;00m\n",
      "File \u001b[0;32m~/Desktop/MSc Scriptie/code/gflow/lib/python3.11/site-packages/sympy/core/cache.py:72\u001b[0m, in \u001b[0;36m__cacheit.<locals>.func_wrapper.<locals>.wrapper\u001b[0;34m(*args, **kwargs)\u001b[0m\n\u001b[1;32m     69\u001b[0m \u001b[38;5;129m@wraps\u001b[39m(func)\n\u001b[1;32m     70\u001b[0m \u001b[38;5;28;01mdef\u001b[39;00m \u001b[38;5;21mwrapper\u001b[39m(\u001b[38;5;241m*\u001b[39margs, \u001b[38;5;241m*\u001b[39m\u001b[38;5;241m*\u001b[39mkwargs):\n\u001b[1;32m     71\u001b[0m     \u001b[38;5;28;01mtry\u001b[39;00m:\n\u001b[0;32m---> 72\u001b[0m         retval \u001b[38;5;241m=\u001b[39m \u001b[43mcfunc\u001b[49m\u001b[43m(\u001b[49m\u001b[38;5;241;43m*\u001b[39;49m\u001b[43margs\u001b[49m\u001b[43m,\u001b[49m\u001b[43m \u001b[49m\u001b[38;5;241;43m*\u001b[39;49m\u001b[38;5;241;43m*\u001b[39;49m\u001b[43mkwargs\u001b[49m\u001b[43m)\u001b[49m\n\u001b[1;32m     73\u001b[0m     \u001b[38;5;28;01mexcept\u001b[39;00m \u001b[38;5;167;01mTypeError\u001b[39;00m \u001b[38;5;28;01mas\u001b[39;00m e:\n\u001b[1;32m     74\u001b[0m         \u001b[38;5;28;01mif\u001b[39;00m \u001b[38;5;129;01mnot\u001b[39;00m e\u001b[38;5;241m.\u001b[39margs \u001b[38;5;129;01mor\u001b[39;00m \u001b[38;5;129;01mnot\u001b[39;00m e\u001b[38;5;241m.\u001b[39margs[\u001b[38;5;241m0\u001b[39m]\u001b[38;5;241m.\u001b[39mstartswith(\u001b[38;5;124m'\u001b[39m\u001b[38;5;124munhashable type:\u001b[39m\u001b[38;5;124m'\u001b[39m):\n",
      "File \u001b[0;32m~/Desktop/MSc Scriptie/code/gflow/lib/python3.11/site-packages/sympy/core/basic.py:1154\u001b[0m, in \u001b[0;36mBasic._subs\u001b[0;34m(self, old, new, **hints)\u001b[0m\n\u001b[1;32m   1152\u001b[0m rv \u001b[38;5;241m=\u001b[39m \u001b[38;5;28mself\u001b[39m\u001b[38;5;241m.\u001b[39m_eval_subs(old, new)\n\u001b[1;32m   1153\u001b[0m \u001b[38;5;28;01mif\u001b[39;00m rv \u001b[38;5;129;01mis\u001b[39;00m \u001b[38;5;28;01mNone\u001b[39;00m:\n\u001b[0;32m-> 1154\u001b[0m     rv \u001b[38;5;241m=\u001b[39m \u001b[43mfallback\u001b[49m\u001b[43m(\u001b[49m\u001b[38;5;28;43mself\u001b[39;49m\u001b[43m,\u001b[49m\u001b[43m \u001b[49m\u001b[43mold\u001b[49m\u001b[43m,\u001b[49m\u001b[43m \u001b[49m\u001b[43mnew\u001b[49m\u001b[43m)\u001b[49m\n\u001b[1;32m   1155\u001b[0m \u001b[38;5;28;01mreturn\u001b[39;00m rv\n",
      "File \u001b[0;32m~/Desktop/MSc Scriptie/code/gflow/lib/python3.11/site-packages/sympy/core/basic.py:1126\u001b[0m, in \u001b[0;36mBasic._subs.<locals>.fallback\u001b[0;34m(self, old, new)\u001b[0m\n\u001b[1;32m   1124\u001b[0m \u001b[38;5;28;01mif\u001b[39;00m \u001b[38;5;129;01mnot\u001b[39;00m \u001b[38;5;28mhasattr\u001b[39m(arg, \u001b[38;5;124m'\u001b[39m\u001b[38;5;124m_eval_subs\u001b[39m\u001b[38;5;124m'\u001b[39m):\n\u001b[1;32m   1125\u001b[0m     \u001b[38;5;28;01mcontinue\u001b[39;00m\n\u001b[0;32m-> 1126\u001b[0m arg \u001b[38;5;241m=\u001b[39m \u001b[43marg\u001b[49m\u001b[38;5;241;43m.\u001b[39;49m\u001b[43m_subs\u001b[49m\u001b[43m(\u001b[49m\u001b[43mold\u001b[49m\u001b[43m,\u001b[49m\u001b[43m \u001b[49m\u001b[43mnew\u001b[49m\u001b[43m,\u001b[49m\u001b[43m \u001b[49m\u001b[38;5;241;43m*\u001b[39;49m\u001b[38;5;241;43m*\u001b[39;49m\u001b[43mhints\u001b[49m\u001b[43m)\u001b[49m\n\u001b[1;32m   1127\u001b[0m \u001b[38;5;28;01mif\u001b[39;00m \u001b[38;5;129;01mnot\u001b[39;00m _aresame(arg, args[i]):\n\u001b[1;32m   1128\u001b[0m     hit \u001b[38;5;241m=\u001b[39m \u001b[38;5;28;01mTrue\u001b[39;00m\n",
      "File \u001b[0;32m~/Desktop/MSc Scriptie/code/gflow/lib/python3.11/site-packages/sympy/core/cache.py:72\u001b[0m, in \u001b[0;36m__cacheit.<locals>.func_wrapper.<locals>.wrapper\u001b[0;34m(*args, **kwargs)\u001b[0m\n\u001b[1;32m     69\u001b[0m \u001b[38;5;129m@wraps\u001b[39m(func)\n\u001b[1;32m     70\u001b[0m \u001b[38;5;28;01mdef\u001b[39;00m \u001b[38;5;21mwrapper\u001b[39m(\u001b[38;5;241m*\u001b[39margs, \u001b[38;5;241m*\u001b[39m\u001b[38;5;241m*\u001b[39mkwargs):\n\u001b[1;32m     71\u001b[0m     \u001b[38;5;28;01mtry\u001b[39;00m:\n\u001b[0;32m---> 72\u001b[0m         retval \u001b[38;5;241m=\u001b[39m \u001b[43mcfunc\u001b[49m\u001b[43m(\u001b[49m\u001b[38;5;241;43m*\u001b[39;49m\u001b[43margs\u001b[49m\u001b[43m,\u001b[49m\u001b[43m \u001b[49m\u001b[38;5;241;43m*\u001b[39;49m\u001b[38;5;241;43m*\u001b[39;49m\u001b[43mkwargs\u001b[49m\u001b[43m)\u001b[49m\n\u001b[1;32m     73\u001b[0m     \u001b[38;5;28;01mexcept\u001b[39;00m \u001b[38;5;167;01mTypeError\u001b[39;00m \u001b[38;5;28;01mas\u001b[39;00m e:\n\u001b[1;32m     74\u001b[0m         \u001b[38;5;28;01mif\u001b[39;00m \u001b[38;5;129;01mnot\u001b[39;00m e\u001b[38;5;241m.\u001b[39margs \u001b[38;5;129;01mor\u001b[39;00m \u001b[38;5;129;01mnot\u001b[39;00m e\u001b[38;5;241m.\u001b[39margs[\u001b[38;5;241m0\u001b[39m]\u001b[38;5;241m.\u001b[39mstartswith(\u001b[38;5;124m'\u001b[39m\u001b[38;5;124munhashable type:\u001b[39m\u001b[38;5;124m'\u001b[39m):\n",
      "File \u001b[0;32m~/Desktop/MSc Scriptie/code/gflow/lib/python3.11/site-packages/sympy/core/basic.py:1154\u001b[0m, in \u001b[0;36mBasic._subs\u001b[0;34m(self, old, new, **hints)\u001b[0m\n\u001b[1;32m   1152\u001b[0m rv \u001b[38;5;241m=\u001b[39m \u001b[38;5;28mself\u001b[39m\u001b[38;5;241m.\u001b[39m_eval_subs(old, new)\n\u001b[1;32m   1153\u001b[0m \u001b[38;5;28;01mif\u001b[39;00m rv \u001b[38;5;129;01mis\u001b[39;00m \u001b[38;5;28;01mNone\u001b[39;00m:\n\u001b[0;32m-> 1154\u001b[0m     rv \u001b[38;5;241m=\u001b[39m \u001b[43mfallback\u001b[49m\u001b[43m(\u001b[49m\u001b[38;5;28;43mself\u001b[39;49m\u001b[43m,\u001b[49m\u001b[43m \u001b[49m\u001b[43mold\u001b[49m\u001b[43m,\u001b[49m\u001b[43m \u001b[49m\u001b[43mnew\u001b[49m\u001b[43m)\u001b[49m\n\u001b[1;32m   1155\u001b[0m \u001b[38;5;28;01mreturn\u001b[39;00m rv\n",
      "File \u001b[0;32m~/Desktop/MSc Scriptie/code/gflow/lib/python3.11/site-packages/sympy/core/basic.py:1127\u001b[0m, in \u001b[0;36mBasic._subs.<locals>.fallback\u001b[0;34m(self, old, new)\u001b[0m\n\u001b[1;32m   1125\u001b[0m     \u001b[38;5;28;01mcontinue\u001b[39;00m\n\u001b[1;32m   1126\u001b[0m arg \u001b[38;5;241m=\u001b[39m arg\u001b[38;5;241m.\u001b[39m_subs(old, new, \u001b[38;5;241m*\u001b[39m\u001b[38;5;241m*\u001b[39mhints)\n\u001b[0;32m-> 1127\u001b[0m \u001b[38;5;28;01mif\u001b[39;00m \u001b[38;5;129;01mnot\u001b[39;00m \u001b[43m_aresame\u001b[49m\u001b[43m(\u001b[49m\u001b[43marg\u001b[49m\u001b[43m,\u001b[49m\u001b[43m \u001b[49m\u001b[43margs\u001b[49m\u001b[43m[\u001b[49m\u001b[43mi\u001b[49m\u001b[43m]\u001b[49m\u001b[43m)\u001b[49m:\n\u001b[1;32m   1128\u001b[0m     hit \u001b[38;5;241m=\u001b[39m \u001b[38;5;28;01mTrue\u001b[39;00m\n\u001b[1;32m   1129\u001b[0m     args[i] \u001b[38;5;241m=\u001b[39m arg\n",
      "File \u001b[0;32m~/Desktop/MSc Scriptie/code/gflow/lib/python3.11/site-packages/sympy/core/basic.py:2137\u001b[0m, in \u001b[0;36m_aresame\u001b[0;34m(a, b)\u001b[0m\n\u001b[1;32m   2135\u001b[0m \u001b[38;5;28;01mif\u001b[39;00m \u001b[38;5;28misinstance\u001b[39m(a, Number) \u001b[38;5;129;01mand\u001b[39;00m \u001b[38;5;28misinstance\u001b[39m(b, Number):\n\u001b[1;32m   2136\u001b[0m     \u001b[38;5;28;01mreturn\u001b[39;00m a \u001b[38;5;241m==\u001b[39m b \u001b[38;5;129;01mand\u001b[39;00m a\u001b[38;5;241m.\u001b[39m\u001b[38;5;18m__class__\u001b[39m \u001b[38;5;241m==\u001b[39m b\u001b[38;5;241m.\u001b[39m\u001b[38;5;18m__class__\u001b[39m\n\u001b[0;32m-> 2137\u001b[0m \u001b[43m\u001b[49m\u001b[38;5;28;43;01mfor\u001b[39;49;00m\u001b[43m \u001b[49m\u001b[43mi\u001b[49m\u001b[43m,\u001b[49m\u001b[43m \u001b[49m\u001b[43mj\u001b[49m\u001b[43m \u001b[49m\u001b[38;5;129;43;01min\u001b[39;49;00m\u001b[43m \u001b[49m\u001b[43mzip_longest\u001b[49m\u001b[43m(\u001b[49m\u001b[43m_preorder_traversal\u001b[49m\u001b[43m(\u001b[49m\u001b[43ma\u001b[49m\u001b[43m)\u001b[49m\u001b[43m,\u001b[49m\u001b[43m \u001b[49m\u001b[43m_preorder_traversal\u001b[49m\u001b[43m(\u001b[49m\u001b[43mb\u001b[49m\u001b[43m)\u001b[49m\u001b[43m)\u001b[49m\u001b[43m:\u001b[49m\n\u001b[1;32m   2138\u001b[0m \u001b[43m    \u001b[49m\u001b[38;5;28;43;01mif\u001b[39;49;00m\u001b[43m \u001b[49m\u001b[43mi\u001b[49m\u001b[43m \u001b[49m\u001b[38;5;241;43m!=\u001b[39;49m\u001b[43m \u001b[49m\u001b[43mj\u001b[49m\u001b[43m \u001b[49m\u001b[38;5;129;43;01mor\u001b[39;49;00m\u001b[43m \u001b[49m\u001b[38;5;28;43mtype\u001b[39;49m\u001b[43m(\u001b[49m\u001b[43mi\u001b[49m\u001b[43m)\u001b[49m\u001b[43m \u001b[49m\u001b[38;5;241;43m!=\u001b[39;49m\u001b[43m \u001b[49m\u001b[38;5;28;43mtype\u001b[39;49m\u001b[43m(\u001b[49m\u001b[43mj\u001b[49m\u001b[43m)\u001b[49m\u001b[43m:\u001b[49m\n\u001b[1;32m   2139\u001b[0m \u001b[43m        \u001b[49m\u001b[38;5;28;43;01mif\u001b[39;49;00m\u001b[43m \u001b[49m\u001b[43m(\u001b[49m\u001b[43m(\u001b[49m\u001b[38;5;28;43misinstance\u001b[39;49m\u001b[43m(\u001b[49m\u001b[43mi\u001b[49m\u001b[43m,\u001b[49m\u001b[43m \u001b[49m\u001b[43mUndefFunc\u001b[49m\u001b[43m)\u001b[49m\u001b[43m \u001b[49m\u001b[38;5;129;43;01mand\u001b[39;49;00m\u001b[43m \u001b[49m\u001b[38;5;28;43misinstance\u001b[39;49m\u001b[43m(\u001b[49m\u001b[43mj\u001b[49m\u001b[43m,\u001b[49m\u001b[43m \u001b[49m\u001b[43mUndefFunc\u001b[49m\u001b[43m)\u001b[49m\u001b[43m)\u001b[49m\u001b[43m \u001b[49m\u001b[38;5;129;43;01mor\u001b[39;49;00m\n\u001b[1;32m   2140\u001b[0m \u001b[43m            \u001b[49m\u001b[43m(\u001b[49m\u001b[38;5;28;43misinstance\u001b[39;49m\u001b[43m(\u001b[49m\u001b[43mi\u001b[49m\u001b[43m,\u001b[49m\u001b[43m \u001b[49m\u001b[43mAppliedUndef\u001b[49m\u001b[43m)\u001b[49m\u001b[43m \u001b[49m\u001b[38;5;129;43;01mand\u001b[39;49;00m\u001b[43m \u001b[49m\u001b[38;5;28;43misinstance\u001b[39;49m\u001b[43m(\u001b[49m\u001b[43mj\u001b[49m\u001b[43m,\u001b[49m\u001b[43m \u001b[49m\u001b[43mAppliedUndef\u001b[49m\u001b[43m)\u001b[49m\u001b[43m)\u001b[49m\u001b[43m)\u001b[49m\u001b[43m:\u001b[49m\n",
      "File \u001b[0;32m~/Desktop/MSc Scriptie/code/gflow/lib/python3.11/site-packages/sympy/core/traversal.py:162\u001b[0m, in \u001b[0;36mpreorder_traversal.__next__\u001b[0;34m(self)\u001b[0m\n\u001b[1;32m    143\u001b[0m \u001b[38;5;250m    \u001b[39m\u001b[38;5;124;03m\"\"\"\u001b[39;00m\n\u001b[1;32m    144\u001b[0m \u001b[38;5;124;03m    Skip yielding current node's (last yielded node's) subtrees.\u001b[39;00m\n\u001b[1;32m    145\u001b[0m \n\u001b[0;32m   (...)\u001b[0m\n\u001b[1;32m    158\u001b[0m \u001b[38;5;124;03m    x + y*z\u001b[39;00m\n\u001b[1;32m    159\u001b[0m \u001b[38;5;124;03m    \"\"\"\u001b[39;00m\n\u001b[1;32m    160\u001b[0m     \u001b[38;5;28mself\u001b[39m\u001b[38;5;241m.\u001b[39m_skip_flag \u001b[38;5;241m=\u001b[39m \u001b[38;5;28;01mTrue\u001b[39;00m\n\u001b[0;32m--> 162\u001b[0m \u001b[38;5;28;01mdef\u001b[39;00m \u001b[38;5;21m__next__\u001b[39m(\u001b[38;5;28mself\u001b[39m):\n\u001b[1;32m    163\u001b[0m     \u001b[38;5;28;01mreturn\u001b[39;00m \u001b[38;5;28mnext\u001b[39m(\u001b[38;5;28mself\u001b[39m\u001b[38;5;241m.\u001b[39m_pt)\n\u001b[1;32m    165\u001b[0m \u001b[38;5;28;01mdef\u001b[39;00m \u001b[38;5;21m__iter__\u001b[39m(\u001b[38;5;28mself\u001b[39m):\n",
      "\u001b[0;31mKeyboardInterrupt\u001b[0m: "
     ]
    }
   ],
   "source": [
    "lib = ['sqrt']\n",
    "model.prune()\n",
    "model.auto_symbolic(lib=lib)\n",
    "model.symbolic_formula()"
   ]
  },
  {
   "cell_type": "code",
   "execution_count": null,
   "metadata": {},
   "outputs": [
    {
     "data": {
      "text/plain": [
       "(1.3354500893916*sqrt(0.606872421981223*(6.283754301981e-7*sqrt(1 - 0.4*x_17) + 6.8286830109608e-7*sqrt(1 - 0.39*x_18) - 7.3006975671042e-8*sqrt(1 - 1.0*x_19) + 1.03182141079438e-5*sqrt(0.02*x_15 + 1) + 7.05346962269014e-8*sqrt(0.35*x_16 + 1) + 1)**(1/4) + 1) + 2.15,\n",
       " 0.0312086069623889*sqrt(1 - 0.583892743351986*(6.283754301981e-7*sqrt(1 - 0.4*x_17) + 6.8286830109608e-7*sqrt(1 - 0.39*x_18) - 7.3006975671042e-8*sqrt(1 - 1.0*x_19) + 1.03182141079438e-5*sqrt(0.02*x_15 + 1) + 7.05346962269014e-8*sqrt(0.35*x_16 + 1) + 1)**(1/4)) - 2.18)"
      ]
     },
     "execution_count": 22,
     "metadata": {},
     "output_type": "execute_result"
    }
   ],
   "source": [
    "formula1, formula2= model.symbolic_formula()[0]\n",
    "formula1, formula2"
   ]
  },
  {
   "cell_type": "code",
   "execution_count": null,
   "metadata": {},
   "outputs": [
    {
     "name": "stderr",
     "output_type": "stream",
     "text": [
      "  0%|          | 0/6000 [00:00<?, ?it/s]100%|██████████| 6000/6000 [01:57<00:00, 51.02it/s]"
     ]
    },
    {
     "name": "stdout",
     "output_type": "stream",
     "text": [
      "test acc of the formula: tensor(0.9977)\n",
      "Only predicting zero means: 0.99884\n"
     ]
    },
    {
     "name": "stderr",
     "output_type": "stream",
     "text": [
      "\n"
     ]
    }
   ],
   "source": [
    "variables = [f'x_{i+1}' for i in range(X.shape[1])]  # Generate variable names based on the number of columns in X\n",
    "\n",
    "# Function to substitute values in the formula dynamically\n",
    "def substitute_formula(formula, X_row):\n",
    "    for idx, var in enumerate(variables):\n",
    "        formula = formula.subs(var, X_row[idx])\n",
    "    return formula\n",
    "\n",
    "# Example usage in your accuracy function\n",
    "def acc(formula1, formula2, X, y):\n",
    "    batch = X.shape[0]\n",
    "    correct = 0\n",
    "    for i in tqdm(range(batch)):\n",
    "        logit1 = np.array(substitute_formula(formula1, X[i])).astype(np.float64)\n",
    "        logit2 = np.array(substitute_formula(formula2, X[i])).astype(np.float64)\n",
    "        correct += (logit2 > logit1) == y[i]\n",
    "    return correct / batch\n",
    "\n",
    "# print('train acc of the formula:', acc(formula1, formula2, dataset['train_input'], dataset['train_label']))\n",
    "print('test acc of the formula:', acc(formula1, formula2, dataset['test_input'], dataset['test_label']))\n",
    "\n",
    "print(f'Only predicting zero means: {99884/100000}')"
   ]
  },
  {
   "cell_type": "code",
   "execution_count": 56,
   "metadata": {},
   "outputs": [
    {
     "name": "stderr",
     "output_type": "stream",
     "text": [
      "100%|██████████| 4500/4500 [01:29<00:00, 50.53it/s]"
     ]
    },
    {
     "name": "stdout",
     "output_type": "stream",
     "text": [
      "Test Metrics - Accuracy: 0.9976, Precision: 0.0000, Recall: 0.0000, F1 Score: 0.0000\n"
     ]
    },
    {
     "name": "stderr",
     "output_type": "stream",
     "text": [
      "\n"
     ]
    }
   ],
   "source": [
    "# Function to compute accuracy, precision, recall, and F1 score\n",
    "def metrics(formula1, formula2, X, y):\n",
    "    batch = X.shape[0]\n",
    "    correct = 0\n",
    "    TP = FP = TN = FN = 0\n",
    "    \n",
    "    for i in tqdm(range(batch)):\n",
    "        logit1 = np.array(substitute_formula(formula1, X[i])).astype(np.float64)\n",
    "        logit2 = np.array(substitute_formula(formula2, X[i])).astype(np.float64)\n",
    "        prediction = logit2 > logit1\n",
    "      \n",
    "        if prediction == bool(y[i]):\n",
    "            correct += 1\n",
    "            if prediction == 1:\n",
    "                TP += 1\n",
    "            else:\n",
    "                TN += 1\n",
    "        else:\n",
    "            if prediction == 1:\n",
    "                FP += 1\n",
    "            else:\n",
    "                FN += 1\n",
    "\n",
    "    accuracy = correct / batch\n",
    "    precision = TP / (TP + FP) if (TP + FP) > 0 else 0\n",
    "    recall = TP / (TP + FN) if (TP + FN) > 0 else 0\n",
    "    f1_score = 2 * (precision * recall) / (precision + recall) if (precision + recall) > 0 else 0\n",
    "    \n",
    "    return accuracy, precision, recall, f1_score\n",
    "\n",
    "# Calculate metrics for train and test sets\n",
    "# train_metrics = metrics(formula1, formula2, dataset['train_input'], dataset['train_label'])\n",
    "test_metrics = metrics(formula1, formula2, dataset['test_input'], dataset['test_label'])\n",
    "\n",
    "# print(f'Train Metrics - Accuracy: {train_metrics[0]:.4f}, Precision: {train_metrics[1]:.4f}, Recall: {train_metrics[2]:.4f}, F1 Score: {train_metrics[3]:.4f}')\n",
    "print(f'Test Metrics - Accuracy: {test_metrics[0]:.4f}, Precision: {test_metrics[1]:.4f}, Recall: {test_metrics[2]:.4f}, F1 Score: {test_metrics[3]:.4f}')"
   ]
  },
  {
   "cell_type": "code",
   "execution_count": 136,
   "metadata": {},
   "outputs": [
    {
     "data": {
      "text/plain": [
       "11"
      ]
     },
     "execution_count": 136,
     "metadata": {},
     "output_type": "execute_result"
    }
   ],
   "source": [
    "len(['step', 'type', 'amount', 'nameOrig', 'oldbalanceOrg', 'newbalanceOrig',\n",
    "       'nameDest', 'oldbalanceDest', 'newbalanceDest', 'isFraud',\n",
    "       'isFlaggedFraud'])"
   ]
  },
  {
   "cell_type": "code",
   "execution_count": null,
   "metadata": {},
   "outputs": [],
   "source": []
  },
  {
   "cell_type": "code",
   "execution_count": null,
   "metadata": {},
   "outputs": [],
   "source": []
  },
  {
   "cell_type": "code",
   "execution_count": null,
   "metadata": {},
   "outputs": [],
   "source": []
  },
  {
   "cell_type": "code",
   "execution_count": 19,
   "metadata": {
    "_kg_hide-input": false
   },
   "outputs": [
    {
     "ename": "ValueError",
     "evalue": "Number of rows must be a positive integer, not 1.2",
     "output_type": "error",
     "traceback": [
      "\u001b[0;31m---------------------------------------------------------------------------\u001b[0m",
      "\u001b[0;31mValueError\u001b[0m                                Traceback (most recent call last)",
      "Cell \u001b[0;32mIn[19], line 1\u001b[0m\n\u001b[0;32m----> 1\u001b[0m \u001b[43mplotPerColumnDistribution\u001b[49m\u001b[43m(\u001b[49m\u001b[43mdf1\u001b[49m\u001b[43m,\u001b[49m\u001b[43m \u001b[49m\u001b[38;5;241;43m10\u001b[39;49m\u001b[43m,\u001b[49m\u001b[43m \u001b[49m\u001b[38;5;241;43m5\u001b[39;49m\u001b[43m)\u001b[49m\n",
      "Cell \u001b[0;32mIn[14], line 10\u001b[0m, in \u001b[0;36mplotPerColumnDistribution\u001b[0;34m(df, nGraphShown, nGraphPerRow)\u001b[0m\n\u001b[1;32m      8\u001b[0m plt\u001b[38;5;241m.\u001b[39mfigure(num \u001b[38;5;241m=\u001b[39m \u001b[38;5;28;01mNone\u001b[39;00m, figsize \u001b[38;5;241m=\u001b[39m (\u001b[38;5;241m6\u001b[39m \u001b[38;5;241m*\u001b[39m nGraphPerRow, \u001b[38;5;241m8\u001b[39m \u001b[38;5;241m*\u001b[39m nGraphRow), dpi \u001b[38;5;241m=\u001b[39m \u001b[38;5;241m80\u001b[39m, facecolor \u001b[38;5;241m=\u001b[39m \u001b[38;5;124m'\u001b[39m\u001b[38;5;124mw\u001b[39m\u001b[38;5;124m'\u001b[39m, edgecolor \u001b[38;5;241m=\u001b[39m \u001b[38;5;124m'\u001b[39m\u001b[38;5;124mk\u001b[39m\u001b[38;5;124m'\u001b[39m)\n\u001b[1;32m      9\u001b[0m \u001b[38;5;28;01mfor\u001b[39;00m i \u001b[38;5;129;01min\u001b[39;00m \u001b[38;5;28mrange\u001b[39m(\u001b[38;5;28mmin\u001b[39m(nCol, nGraphShown)):\n\u001b[0;32m---> 10\u001b[0m     \u001b[43mplt\u001b[49m\u001b[38;5;241;43m.\u001b[39;49m\u001b[43msubplot\u001b[49m\u001b[43m(\u001b[49m\u001b[43mnGraphRow\u001b[49m\u001b[43m,\u001b[49m\u001b[43m \u001b[49m\u001b[43mnGraphPerRow\u001b[49m\u001b[43m,\u001b[49m\u001b[43m \u001b[49m\u001b[43mi\u001b[49m\u001b[43m \u001b[49m\u001b[38;5;241;43m+\u001b[39;49m\u001b[43m \u001b[49m\u001b[38;5;241;43m1\u001b[39;49m\u001b[43m)\u001b[49m\n\u001b[1;32m     11\u001b[0m     columnDf \u001b[38;5;241m=\u001b[39m df\u001b[38;5;241m.\u001b[39miloc[:, i]\n\u001b[1;32m     12\u001b[0m     \u001b[38;5;28;01mif\u001b[39;00m (\u001b[38;5;129;01mnot\u001b[39;00m np\u001b[38;5;241m.\u001b[39missubdtype(\u001b[38;5;28mtype\u001b[39m(columnDf\u001b[38;5;241m.\u001b[39miloc[\u001b[38;5;241m0\u001b[39m]), np\u001b[38;5;241m.\u001b[39mnumber)):\n",
      "File \u001b[0;32m~/Desktop/MSc Scriptie/code/gflow/lib/python3.11/site-packages/matplotlib/pyplot.py:1440\u001b[0m, in \u001b[0;36msubplot\u001b[0;34m(*args, **kwargs)\u001b[0m\n\u001b[1;32m   1437\u001b[0m fig \u001b[38;5;241m=\u001b[39m gcf()\n\u001b[1;32m   1439\u001b[0m \u001b[38;5;66;03m# First, search for an existing subplot with a matching spec.\u001b[39;00m\n\u001b[0;32m-> 1440\u001b[0m key \u001b[38;5;241m=\u001b[39m \u001b[43mSubplotSpec\u001b[49m\u001b[38;5;241;43m.\u001b[39;49m\u001b[43m_from_subplot_args\u001b[49m\u001b[43m(\u001b[49m\u001b[43mfig\u001b[49m\u001b[43m,\u001b[49m\u001b[43m \u001b[49m\u001b[43margs\u001b[49m\u001b[43m)\u001b[49m\n\u001b[1;32m   1442\u001b[0m \u001b[38;5;28;01mfor\u001b[39;00m ax \u001b[38;5;129;01min\u001b[39;00m fig\u001b[38;5;241m.\u001b[39maxes:\n\u001b[1;32m   1443\u001b[0m     \u001b[38;5;66;03m# If we found an Axes at the position, we can re-use it if the user passed no\u001b[39;00m\n\u001b[1;32m   1444\u001b[0m     \u001b[38;5;66;03m# kwargs or if the axes class and kwargs are identical.\u001b[39;00m\n\u001b[1;32m   1445\u001b[0m     \u001b[38;5;28;01mif\u001b[39;00m (ax\u001b[38;5;241m.\u001b[39mget_subplotspec() \u001b[38;5;241m==\u001b[39m key\n\u001b[1;32m   1446\u001b[0m         \u001b[38;5;129;01mand\u001b[39;00m (kwargs \u001b[38;5;241m==\u001b[39m {}\n\u001b[1;32m   1447\u001b[0m              \u001b[38;5;129;01mor\u001b[39;00m (ax\u001b[38;5;241m.\u001b[39m_projection_init\n\u001b[1;32m   1448\u001b[0m                  \u001b[38;5;241m==\u001b[39m fig\u001b[38;5;241m.\u001b[39m_process_projection_requirements(\u001b[38;5;241m*\u001b[39m\u001b[38;5;241m*\u001b[39mkwargs)))):\n",
      "File \u001b[0;32m~/Desktop/MSc Scriptie/code/gflow/lib/python3.11/site-packages/matplotlib/gridspec.py:588\u001b[0m, in \u001b[0;36mSubplotSpec._from_subplot_args\u001b[0;34m(figure, args)\u001b[0m\n\u001b[1;32m    585\u001b[0m \u001b[38;5;28;01melse\u001b[39;00m:\n\u001b[1;32m    586\u001b[0m     \u001b[38;5;28;01mraise\u001b[39;00m _api\u001b[38;5;241m.\u001b[39mnargs_error(\u001b[38;5;124m\"\u001b[39m\u001b[38;5;124msubplot\u001b[39m\u001b[38;5;124m\"\u001b[39m, takes\u001b[38;5;241m=\u001b[39m\u001b[38;5;124m\"\u001b[39m\u001b[38;5;124m1 or 3\u001b[39m\u001b[38;5;124m\"\u001b[39m, given\u001b[38;5;241m=\u001b[39m\u001b[38;5;28mlen\u001b[39m(args))\n\u001b[0;32m--> 588\u001b[0m gs \u001b[38;5;241m=\u001b[39m \u001b[43mGridSpec\u001b[49m\u001b[38;5;241;43m.\u001b[39;49m\u001b[43m_check_gridspec_exists\u001b[49m\u001b[43m(\u001b[49m\u001b[43mfigure\u001b[49m\u001b[43m,\u001b[49m\u001b[43m \u001b[49m\u001b[43mrows\u001b[49m\u001b[43m,\u001b[49m\u001b[43m \u001b[49m\u001b[43mcols\u001b[49m\u001b[43m)\u001b[49m\n\u001b[1;32m    589\u001b[0m \u001b[38;5;28;01mif\u001b[39;00m gs \u001b[38;5;129;01mis\u001b[39;00m \u001b[38;5;28;01mNone\u001b[39;00m:\n\u001b[1;32m    590\u001b[0m     gs \u001b[38;5;241m=\u001b[39m GridSpec(rows, cols, figure\u001b[38;5;241m=\u001b[39mfigure)\n",
      "File \u001b[0;32m~/Desktop/MSc Scriptie/code/gflow/lib/python3.11/site-packages/matplotlib/gridspec.py:225\u001b[0m, in \u001b[0;36mGridSpecBase._check_gridspec_exists\u001b[0;34m(figure, nrows, ncols)\u001b[0m\n\u001b[1;32m    223\u001b[0m             \u001b[38;5;28;01mreturn\u001b[39;00m gs\n\u001b[1;32m    224\u001b[0m \u001b[38;5;66;03m# else gridspec not found:\u001b[39;00m\n\u001b[0;32m--> 225\u001b[0m \u001b[38;5;28;01mreturn\u001b[39;00m \u001b[43mGridSpec\u001b[49m\u001b[43m(\u001b[49m\u001b[43mnrows\u001b[49m\u001b[43m,\u001b[49m\u001b[43m \u001b[49m\u001b[43mncols\u001b[49m\u001b[43m,\u001b[49m\u001b[43m \u001b[49m\u001b[43mfigure\u001b[49m\u001b[38;5;241;43m=\u001b[39;49m\u001b[43mfigure\u001b[49m\u001b[43m)\u001b[49m\n",
      "File \u001b[0;32m~/Desktop/MSc Scriptie/code/gflow/lib/python3.11/site-packages/matplotlib/gridspec.py:378\u001b[0m, in \u001b[0;36mGridSpec.__init__\u001b[0;34m(self, nrows, ncols, figure, left, bottom, right, top, wspace, hspace, width_ratios, height_ratios)\u001b[0m\n\u001b[1;32m    375\u001b[0m \u001b[38;5;28mself\u001b[39m\u001b[38;5;241m.\u001b[39mhspace \u001b[38;5;241m=\u001b[39m hspace\n\u001b[1;32m    376\u001b[0m \u001b[38;5;28mself\u001b[39m\u001b[38;5;241m.\u001b[39mfigure \u001b[38;5;241m=\u001b[39m figure\n\u001b[0;32m--> 378\u001b[0m \u001b[38;5;28;43msuper\u001b[39;49m\u001b[43m(\u001b[49m\u001b[43m)\u001b[49m\u001b[38;5;241;43m.\u001b[39;49m\u001b[38;5;21;43m__init__\u001b[39;49m\u001b[43m(\u001b[49m\u001b[43mnrows\u001b[49m\u001b[43m,\u001b[49m\u001b[43m \u001b[49m\u001b[43mncols\u001b[49m\u001b[43m,\u001b[49m\n\u001b[1;32m    379\u001b[0m \u001b[43m                 \u001b[49m\u001b[43mwidth_ratios\u001b[49m\u001b[38;5;241;43m=\u001b[39;49m\u001b[43mwidth_ratios\u001b[49m\u001b[43m,\u001b[49m\n\u001b[1;32m    380\u001b[0m \u001b[43m                 \u001b[49m\u001b[43mheight_ratios\u001b[49m\u001b[38;5;241;43m=\u001b[39;49m\u001b[43mheight_ratios\u001b[49m\u001b[43m)\u001b[49m\n",
      "File \u001b[0;32m~/Desktop/MSc Scriptie/code/gflow/lib/python3.11/site-packages/matplotlib/gridspec.py:48\u001b[0m, in \u001b[0;36mGridSpecBase.__init__\u001b[0;34m(self, nrows, ncols, height_ratios, width_ratios)\u001b[0m\n\u001b[1;32m     33\u001b[0m \u001b[38;5;250m\u001b[39m\u001b[38;5;124;03m\"\"\"\u001b[39;00m\n\u001b[1;32m     34\u001b[0m \u001b[38;5;124;03mParameters\u001b[39;00m\n\u001b[1;32m     35\u001b[0m \u001b[38;5;124;03m----------\u001b[39;00m\n\u001b[0;32m   (...)\u001b[0m\n\u001b[1;32m     45\u001b[0m \u001b[38;5;124;03m    If not given, all rows will have the same height.\u001b[39;00m\n\u001b[1;32m     46\u001b[0m \u001b[38;5;124;03m\"\"\"\u001b[39;00m\n\u001b[1;32m     47\u001b[0m \u001b[38;5;28;01mif\u001b[39;00m \u001b[38;5;129;01mnot\u001b[39;00m \u001b[38;5;28misinstance\u001b[39m(nrows, Integral) \u001b[38;5;129;01mor\u001b[39;00m nrows \u001b[38;5;241m<\u001b[39m\u001b[38;5;241m=\u001b[39m \u001b[38;5;241m0\u001b[39m:\n\u001b[0;32m---> 48\u001b[0m     \u001b[38;5;28;01mraise\u001b[39;00m \u001b[38;5;167;01mValueError\u001b[39;00m(\n\u001b[1;32m     49\u001b[0m         \u001b[38;5;124mf\u001b[39m\u001b[38;5;124m\"\u001b[39m\u001b[38;5;124mNumber of rows must be a positive integer, not \u001b[39m\u001b[38;5;132;01m{\u001b[39;00mnrows\u001b[38;5;132;01m!r}\u001b[39;00m\u001b[38;5;124m\"\u001b[39m)\n\u001b[1;32m     50\u001b[0m \u001b[38;5;28;01mif\u001b[39;00m \u001b[38;5;129;01mnot\u001b[39;00m \u001b[38;5;28misinstance\u001b[39m(ncols, Integral) \u001b[38;5;129;01mor\u001b[39;00m ncols \u001b[38;5;241m<\u001b[39m\u001b[38;5;241m=\u001b[39m \u001b[38;5;241m0\u001b[39m:\n\u001b[1;32m     51\u001b[0m     \u001b[38;5;28;01mraise\u001b[39;00m \u001b[38;5;167;01mValueError\u001b[39;00m(\n\u001b[1;32m     52\u001b[0m         \u001b[38;5;124mf\u001b[39m\u001b[38;5;124m\"\u001b[39m\u001b[38;5;124mNumber of columns must be a positive integer, not \u001b[39m\u001b[38;5;132;01m{\u001b[39;00mncols\u001b[38;5;132;01m!r}\u001b[39;00m\u001b[38;5;124m\"\u001b[39m)\n",
      "\u001b[0;31mValueError\u001b[0m: Number of rows must be a positive integer, not 1.2"
     ]
    },
    {
     "data": {
      "text/plain": [
       "<Figure size 2400x768 with 0 Axes>"
      ]
     },
     "metadata": {},
     "output_type": "display_data"
    }
   ],
   "source": [
    "plotPerColumnDistribution(df1, 10, 5)"
   ]
  },
  {
   "cell_type": "markdown",
   "metadata": {},
   "source": [
    "Correlation matrix:"
   ]
  },
  {
   "cell_type": "code",
   "execution_count": 11,
   "metadata": {
    "_kg_hide-input": false
   },
   "outputs": [
    {
     "ename": "TypeError",
     "evalue": "DataFrame.dropna() takes 1 positional argument but 2 were given",
     "output_type": "error",
     "traceback": [
      "\u001b[0;31m---------------------------------------------------------------------------\u001b[0m",
      "\u001b[0;31mTypeError\u001b[0m                                 Traceback (most recent call last)",
      "Cell \u001b[0;32mIn[11], line 1\u001b[0m\n\u001b[0;32m----> 1\u001b[0m \u001b[43mplotCorrelationMatrix\u001b[49m\u001b[43m(\u001b[49m\u001b[43mdf1\u001b[49m\u001b[43m,\u001b[49m\u001b[43m \u001b[49m\u001b[38;5;241;43m8\u001b[39;49m\u001b[43m)\u001b[49m\n",
      "Cell \u001b[0;32mIn[5], line 4\u001b[0m, in \u001b[0;36mplotCorrelationMatrix\u001b[0;34m(df, graphWidth)\u001b[0m\n\u001b[1;32m      2\u001b[0m \u001b[38;5;28;01mdef\u001b[39;00m \u001b[38;5;21mplotCorrelationMatrix\u001b[39m(df, graphWidth):\n\u001b[1;32m      3\u001b[0m     filename \u001b[38;5;241m=\u001b[39m df\u001b[38;5;241m.\u001b[39mdataframeName\n\u001b[0;32m----> 4\u001b[0m     df \u001b[38;5;241m=\u001b[39m \u001b[43mdf\u001b[49m\u001b[38;5;241;43m.\u001b[39;49m\u001b[43mdropna\u001b[49m\u001b[43m(\u001b[49m\u001b[38;5;124;43m'\u001b[39;49m\u001b[38;5;124;43mcolumns\u001b[39;49m\u001b[38;5;124;43m'\u001b[39;49m\u001b[43m)\u001b[49m \u001b[38;5;66;03m# drop columns with NaN\u001b[39;00m\n\u001b[1;32m      5\u001b[0m     df \u001b[38;5;241m=\u001b[39m df[[col \u001b[38;5;28;01mfor\u001b[39;00m col \u001b[38;5;129;01min\u001b[39;00m df \u001b[38;5;28;01mif\u001b[39;00m df[col]\u001b[38;5;241m.\u001b[39mnunique() \u001b[38;5;241m>\u001b[39m \u001b[38;5;241m1\u001b[39m]] \u001b[38;5;66;03m# keep columns where there are more than 1 unique values\u001b[39;00m\n\u001b[1;32m      6\u001b[0m     \u001b[38;5;28;01mif\u001b[39;00m df\u001b[38;5;241m.\u001b[39mshape[\u001b[38;5;241m1\u001b[39m] \u001b[38;5;241m<\u001b[39m \u001b[38;5;241m2\u001b[39m:\n",
      "\u001b[0;31mTypeError\u001b[0m: DataFrame.dropna() takes 1 positional argument but 2 were given"
     ]
    }
   ],
   "source": [
    "plotCorrelationMatrix(df1, 8)"
   ]
  },
  {
   "cell_type": "markdown",
   "metadata": {},
   "source": [
    "Scatter and density plots:"
   ]
  },
  {
   "cell_type": "code",
   "execution_count": 10,
   "metadata": {
    "_kg_hide-input": false
   },
   "outputs": [
    {
     "data": {
      "image/png": "[encoded data removed]",
      "text/plain": [
       "<Figure size 1440x1440 with 36 Axes>"
      ]
     },
     "metadata": {},
     "output_type": "display_data"
    }
   ],
   "source": [
    "plotScatterMatrix(df1, 20, 10)"
   ]
  },
  {
   "cell_type": "markdown",
   "metadata": {},
   "source": [
    "## Conclusion\n",
    "This concludes your starter analysis! To go forward from here, click the blue \"Edit Notebook\" button at the top of the kernel. This will create a copy of the code and environment for you to edit. Delete, modify, and add code as you please. Happy Kaggling!"
   ]
  }
 ],
 "metadata": {
  "kernelspec": {
   "display_name": "gflow",
   "language": "python",
   "name": "gflow"
  },
  "language_info": {
   "codemirror_mode": {
    "name": "ipython",
    "version": 3
   },
   "file_extension": ".py",
   "mimetype": "text/x-python",
   "name": "python",
   "nbconvert_exporter": "python",
   "pygments_lexer": "ipython3",
   "version": "3.11.6"
  }
 },
 "nbformat": 4,
 "nbformat_minor": 1
}
